{
 "cells": [
  {
   "cell_type": "markdown",
   "metadata": {
    "slideshow": {
     "slide_type": "slide"
    }
   },
   "source": [
    "# Introduction to Neural Network\n",
    "\n",
    "It is based on Andrej's fantastic Youtube video [The spelled-out intro to neural networks and backpropagation: building `micrograd`](https://www.youtube.com/watch?v=VMj-3S1tku0).\n",
    "\n",
    "It explains how deep neural network (DNN) works under the hood."
   ]
  },
  {
   "cell_type": "markdown",
   "metadata": {
    "slideshow": {
     "slide_type": "slide"
    }
   },
   "source": [
    "## Introduction\n",
    "\n",
    "The library implements backpropagation algorithm that is used to efficiently \n",
    "\n",
    "- evaluate the gradient of \n",
    "- a loss function with respect to \n",
    "- the weights of \n",
    "- a neural network.\n",
    "\n",
    "It improves the NN accuracy by iteratively tuning the weights of the neural network to minimize the loss function.\n",
    "\n",
    "Backpropagation is the mathematical core of a DNN library like `PyTorch`.\n",
    "\n",
    "Let's see a simple lib named [Micrograd](https://github.com/karpathy/micrograd)."
   ]
  },
  {
   "cell_type": "markdown",
   "metadata": {
    "slideshow": {
     "slide_type": "subslide"
    }
   },
   "source": [
    "### Backpropagation\n",
    "\n",
    "A calculation can be expressed as a series of expressions. For example: \n",
    "\n",
    "```python\n",
    "c = a + b\n",
    "d = a + b * b ** 3\n",
    "e = c - d\n",
    "g = e ** 2\n",
    "```\n",
    "\n",
    "`g.backward()` is the backpropagation. It starts at `g`, goes backward through its expression graph and recursively applies the calculus chain rule to evaluate the partial derivative of `g` with respect to the all internal nodes (`e`, `d`, and `c`) and inputs (`a` and `b`). The derivatives are stores in the `.grad` attribute of each value.\n",
    "\n",
    "A derivative tells how a value affects the expression result. It is the slope of growth of the value with regard to the result.\n",
    "\n",
    "Though this made-up expression doesn't mean anything, it shows how deep neural network works. DNN are just mathematic expressions like this one."
   ]
  },
  {
   "cell_type": "markdown",
   "metadata": {
    "slideshow": {
     "slide_type": "subslide"
    }
   },
   "source": [
    "### DNN\n",
    "\n",
    "- A DNN is just a certain type of mathematic expression.\n",
    "- The inputs for a DNN include input values and weights of DNN.\n",
    "- The output of a DNN is prediction or a loss function.\n",
    "\n",
    "For pedagogical reasons, Micrograd works on scalar values. A typical DNN works on multi-dimension data (called `tensor`s in PyTorch) for efficient parallel computation. They are fundamentally the same thing.\n",
    "\n",
    "Micrograd has an engine `engine.py` that has less than 100 lines of Python code. The `nn.py` defines a DNN consists of `Neuron`, `Layer` and `MLP`. It only has 60 lines of Python code. \n",
    "\n",
    "That's enough to understand how DNN training works."
   ]
  },
  {
   "cell_type": "markdown",
   "metadata": {
    "slideshow": {
     "slide_type": "slide"
    }
   },
   "source": [
    "## The Engine Code\n",
    "\n",
    "To run the demo code, please install Python libraries\n",
    "\n",
    "```sh\n",
    "pip install jupyter # for Jupyter Notebook\n",
    "pip install numpy matplotlib pandas seaborn statsmodels # for computation and visualization\n",
    "pip install graphviz # build expression graph\n",
    "```\n",
    "\n",
    "You also need to install `graphviz` application in your OS.\n",
    "In MacOS, it might be `brew install graphviz`. "
   ]
  },
  {
   "cell_type": "code",
   "execution_count": 1,
   "metadata": {
    "slideshow": {
     "slide_type": "subslide"
    }
   },
   "outputs": [],
   "source": [
    "import math\n",
    "import numpy as np\n",
    "import matplotlib.pyplot as plt\n",
    "%matplotlib inline"
   ]
  },
  {
   "cell_type": "code",
   "execution_count": 2,
   "metadata": {
    "slideshow": {
     "slide_type": "subslide"
    }
   },
   "outputs": [],
   "source": [
    "class Value:\n",
    "\n",
    "    def __init__(self, data, _children=(), _op=\"\", label=\"\"):\n",
    "        self.data = data\n",
    "        self.grad = 0.0\n",
    "        self._backward = lambda: None\n",
    "        self._prev = set(_children)\n",
    "        self._op = _op\n",
    "        self.label = label\n",
    "\n",
    "    def __repr__(self):\n",
    "        return f\"Value(data={self.data})\"\n",
    "\n",
    "    def __add__(self, other):\n",
    "        other = other if isinstance(other, Value) else Value(other)\n",
    "        out = Value(self.data + other.data, (self, other), \"+\")\n",
    "\n",
    "        def _backward():\n",
    "            self.grad += 1.0 * out.grad\n",
    "            other.grad += 1.0 * out.grad\n",
    "\n",
    "        out._backward = _backward\n",
    "\n",
    "        return out\n",
    "\n",
    "    def __mul__(self, other):\n",
    "        other = other if isinstance(other, Value) else Value(other)\n",
    "        out = Value(self.data * other.data, (self, other), \"*\")\n",
    "\n",
    "        def _backward():\n",
    "            self.grad += other.data * out.grad\n",
    "            other.grad += self.data * out.grad\n",
    "\n",
    "        out._backward = _backward\n",
    "\n",
    "        return out\n",
    "\n",
    "    def backward(self):\n",
    "\n",
    "        topo = []\n",
    "        visited = set()\n",
    "\n",
    "        def build_topo(v):\n",
    "            if v not in visited:\n",
    "                visited.add(v)\n",
    "                for child in v._prev:\n",
    "                    build_topo(child)\n",
    "                topo.append(v)\n",
    "\n",
    "        build_topo(self)\n",
    "\n",
    "        self.grad = 1.0\n",
    "        for node in reversed(topo):\n",
    "            node._backward()"
   ]
  },
  {
   "cell_type": "code",
   "execution_count": 3,
   "metadata": {
    "slideshow": {
     "slide_type": "subslide"
    }
   },
   "outputs": [
    {
     "data": {
      "text/plain": [
       "Value(data=-4.0)"
      ]
     },
     "execution_count": 3,
     "metadata": {},
     "output_type": "execute_result"
    }
   ],
   "source": [
    "a = Value(2.0, label=\"a\")\n",
    "b = Value(-3.0, label=\"b\")\n",
    "c = Value(10.0, label=\"c\")\n",
    "d = a * b\n",
    "d.label = \"d\"\n",
    "L = a + d\n",
    "L.label = \"L\"\n",
    "L"
   ]
  },
  {
   "cell_type": "code",
   "execution_count": 4,
   "metadata": {
    "slideshow": {
     "slide_type": "subslide"
    }
   },
   "outputs": [],
   "source": [
    "from graphviz import Digraph\n",
    "\n",
    "\n",
    "def trace(root):\n",
    "    # builds a set of all nodes and edges in a graph\n",
    "    nodes, edges = set(), set()\n",
    "\n",
    "    def build(v):\n",
    "        if v not in nodes:\n",
    "            nodes.add(v)\n",
    "            for child in v._prev:\n",
    "                edges.add((child, v))\n",
    "                build(child)\n",
    "\n",
    "    build(root)\n",
    "    return nodes, edges\n",
    "\n",
    "\n",
    "def draw_dot(root):\n",
    "    dot = Digraph(format=\"svg\", graph_attr={\"rankdir\": \"LR\"})  # LR = left to right\n",
    "\n",
    "    nodes, edges = trace(root)\n",
    "    for n in nodes:\n",
    "        uid = str(id(n))\n",
    "        # for any value in the graph, create a rectangular ('record') node for it\n",
    "        dot.node(\n",
    "            name=uid,\n",
    "            label=\"{ %s | data %.4f | grad %.4f }\" % (n.label, n.data, n.grad),\n",
    "            shape=\"record\",\n",
    "        )\n",
    "        if n._op:\n",
    "            # if this value is a result of some operation, create an op node for it\n",
    "            dot.node(name=uid + n._op, label=n._op)\n",
    "            # and connect this node to it\n",
    "            dot.edge(uid + n._op, uid)\n",
    "\n",
    "    for n1, n2 in edges:\n",
    "        # connect n1 to the op node of n2\n",
    "        dot.edge(str(id(n1)), str(id(n2)) + n2._op)\n",
    "\n",
    "    return dot"
   ]
  },
  {
   "cell_type": "code",
   "execution_count": 5,
   "metadata": {
    "slideshow": {
     "slide_type": "fragment"
    }
   },
   "outputs": [
    {
     "data": {
      "image/svg+xml": [
       "<?xml version=\"1.0\" encoding=\"UTF-8\" standalone=\"no\"?>\n",
       "<!DOCTYPE svg PUBLIC \"-//W3C//DTD SVG 1.1//EN\"\n",
       " \"http://www.w3.org/Graphics/SVG/1.1/DTD/svg11.dtd\">\n",
       "<!-- Generated by graphviz version 12.1.2 (20240928.0832)\n",
       " -->\n",
       "<!-- Pages: 1 -->\n",
       "<svg width=\"826pt\" height=\"100pt\"\n",
       " viewBox=\"0.00 0.00 826.25 100.00\" xmlns=\"http://www.w3.org/2000/svg\" xmlns:xlink=\"http://www.w3.org/1999/xlink\">\n",
       "<g id=\"graph0\" class=\"graph\" transform=\"scale(1 1) rotate(0) translate(4 96)\">\n",
       "<polygon fill=\"white\" stroke=\"none\" points=\"-4,4 -4,-96 822.25,-96 822.25,4 -4,4\"/>\n",
       "<!-- 5118192544 -->\n",
       "<g id=\"node1\" class=\"node\">\n",
       "<title>5118192544</title>\n",
       "<polygon fill=\"none\" stroke=\"black\" points=\"2.62,-55.5 2.62,-91.5 185.62,-91.5 185.62,-55.5 2.62,-55.5\"/>\n",
       "<text text-anchor=\"middle\" x=\"13.62\" y=\"-68.7\" font-family=\"Times,serif\" font-size=\"14.00\">a</text>\n",
       "<polyline fill=\"none\" stroke=\"black\" points=\"24.62,-56 24.62,-91.5\"/>\n",
       "<text text-anchor=\"middle\" x=\"64.5\" y=\"-68.7\" font-family=\"Times,serif\" font-size=\"14.00\">data 2.0000</text>\n",
       "<polyline fill=\"none\" stroke=\"black\" points=\"104.38,-56 104.38,-91.5\"/>\n",
       "<text text-anchor=\"middle\" x=\"145\" y=\"-68.7\" font-family=\"Times,serif\" font-size=\"14.00\">grad 0.0000</text>\n",
       "</g>\n",
       "<!-- 5118192928+ -->\n",
       "<g id=\"node3\" class=\"node\">\n",
       "<title>5118192928+</title>\n",
       "<ellipse fill=\"none\" stroke=\"black\" cx=\"565.5\" cy=\"-49.5\" rx=\"27\" ry=\"18\"/>\n",
       "<text text-anchor=\"middle\" x=\"565.5\" y=\"-44.45\" font-family=\"Times,serif\" font-size=\"14.00\">+</text>\n",
       "</g>\n",
       "<!-- 5118192544&#45;&gt;5118192928+ -->\n",
       "<g id=\"edge6\" class=\"edge\">\n",
       "<title>5118192544&#45;&gt;5118192928+</title>\n",
       "<path fill=\"none\" stroke=\"black\" d=\"M185.78,-70.15C268.37,-66.89 393.69,-61.42 502.5,-54.5 510.39,-54 518.84,-53.37 526.89,-52.74\"/>\n",
       "<polygon fill=\"black\" stroke=\"black\" points=\"527.08,-56.23 536.76,-51.94 526.51,-49.26 527.08,-56.23\"/>\n",
       "</g>\n",
       "<!-- 5118192832* -->\n",
       "<g id=\"node5\" class=\"node\">\n",
       "<title>5118192832*</title>\n",
       "<ellipse fill=\"none\" stroke=\"black\" cx=\"251.25\" cy=\"-26.5\" rx=\"27\" ry=\"18\"/>\n",
       "<text text-anchor=\"middle\" x=\"251.25\" y=\"-21.45\" font-family=\"Times,serif\" font-size=\"14.00\">*</text>\n",
       "</g>\n",
       "<!-- 5118192544&#45;&gt;5118192832* -->\n",
       "<g id=\"edge5\" class=\"edge\">\n",
       "<title>5118192544&#45;&gt;5118192832*</title>\n",
       "<path fill=\"none\" stroke=\"black\" d=\"M159.82,-55.01C169.37,-52.21 179.08,-49.31 188.25,-46.5 197.15,-43.78 206.73,-40.74 215.64,-37.87\"/>\n",
       "<polygon fill=\"black\" stroke=\"black\" points=\"216.58,-41.24 225.01,-34.83 214.42,-34.58 216.58,-41.24\"/>\n",
       "</g>\n",
       "<!-- 5118192928 -->\n",
       "<g id=\"node2\" class=\"node\">\n",
       "<title>5118192928</title>\n",
       "<polygon fill=\"none\" stroke=\"black\" points=\"628.5,-31.5 628.5,-67.5 818.25,-67.5 818.25,-31.5 628.5,-31.5\"/>\n",
       "<text text-anchor=\"middle\" x=\"640.62\" y=\"-44.7\" font-family=\"Times,serif\" font-size=\"14.00\">L</text>\n",
       "<polyline fill=\"none\" stroke=\"black\" points=\"652.75,-32 652.75,-67.5\"/>\n",
       "<text text-anchor=\"middle\" x=\"694.88\" y=\"-44.7\" font-family=\"Times,serif\" font-size=\"14.00\">data &#45;4.0000</text>\n",
       "<polyline fill=\"none\" stroke=\"black\" points=\"737,-32 737,-67.5\"/>\n",
       "<text text-anchor=\"middle\" x=\"777.62\" y=\"-44.7\" font-family=\"Times,serif\" font-size=\"14.00\">grad 0.0000</text>\n",
       "</g>\n",
       "<!-- 5118192928+&#45;&gt;5118192928 -->\n",
       "<g id=\"edge1\" class=\"edge\">\n",
       "<title>5118192928+&#45;&gt;5118192928</title>\n",
       "<path fill=\"none\" stroke=\"black\" d=\"M592.94,-49.5C600.09,-49.5 608.28,-49.5 616.99,-49.5\"/>\n",
       "<polygon fill=\"black\" stroke=\"black\" points=\"616.76,-53 626.76,-49.5 616.76,-46 616.76,-53\"/>\n",
       "</g>\n",
       "<!-- 5118192832 -->\n",
       "<g id=\"node4\" class=\"node\">\n",
       "<title>5118192832</title>\n",
       "<polygon fill=\"none\" stroke=\"black\" points=\"314.25,-8.5 314.25,-44.5 502.5,-44.5 502.5,-8.5 314.25,-8.5\"/>\n",
       "<text text-anchor=\"middle\" x=\"325.62\" y=\"-21.7\" font-family=\"Times,serif\" font-size=\"14.00\">d</text>\n",
       "<polyline fill=\"none\" stroke=\"black\" points=\"337,-9 337,-44.5\"/>\n",
       "<text text-anchor=\"middle\" x=\"379.12\" y=\"-21.7\" font-family=\"Times,serif\" font-size=\"14.00\">data &#45;6.0000</text>\n",
       "<polyline fill=\"none\" stroke=\"black\" points=\"421.25,-9 421.25,-44.5\"/>\n",
       "<text text-anchor=\"middle\" x=\"461.88\" y=\"-21.7\" font-family=\"Times,serif\" font-size=\"14.00\">grad 0.0000</text>\n",
       "</g>\n",
       "<!-- 5118192832&#45;&gt;5118192928+ -->\n",
       "<g id=\"edge4\" class=\"edge\">\n",
       "<title>5118192832&#45;&gt;5118192928+</title>\n",
       "<path fill=\"none\" stroke=\"black\" d=\"M502.74,-40.34C511.42,-41.63 519.82,-42.88 527.48,-44.01\"/>\n",
       "<polygon fill=\"black\" stroke=\"black\" points=\"526.95,-47.47 537.36,-45.48 527.98,-40.55 526.95,-47.47\"/>\n",
       "</g>\n",
       "<!-- 5118192832*&#45;&gt;5118192832 -->\n",
       "<g id=\"edge2\" class=\"edge\">\n",
       "<title>5118192832*&#45;&gt;5118192832</title>\n",
       "<path fill=\"none\" stroke=\"black\" d=\"M278.56,-26.5C285.74,-26.5 293.97,-26.5 302.72,-26.5\"/>\n",
       "<polygon fill=\"black\" stroke=\"black\" points=\"302.54,-30 312.54,-26.5 302.54,-23 302.54,-30\"/>\n",
       "</g>\n",
       "<!-- 5118192592 -->\n",
       "<g id=\"node6\" class=\"node\">\n",
       "<title>5118192592</title>\n",
       "<polygon fill=\"none\" stroke=\"black\" points=\"0,-0.5 0,-36.5 188.25,-36.5 188.25,-0.5 0,-0.5\"/>\n",
       "<text text-anchor=\"middle\" x=\"11.38\" y=\"-13.7\" font-family=\"Times,serif\" font-size=\"14.00\">b</text>\n",
       "<polyline fill=\"none\" stroke=\"black\" points=\"22.75,-1 22.75,-36.5\"/>\n",
       "<text text-anchor=\"middle\" x=\"64.88\" y=\"-13.7\" font-family=\"Times,serif\" font-size=\"14.00\">data &#45;3.0000</text>\n",
       "<polyline fill=\"none\" stroke=\"black\" points=\"107,-1 107,-36.5\"/>\n",
       "<text text-anchor=\"middle\" x=\"147.62\" y=\"-13.7\" font-family=\"Times,serif\" font-size=\"14.00\">grad 0.0000</text>\n",
       "</g>\n",
       "<!-- 5118192592&#45;&gt;5118192832* -->\n",
       "<g id=\"edge3\" class=\"edge\">\n",
       "<title>5118192592&#45;&gt;5118192832*</title>\n",
       "<path fill=\"none\" stroke=\"black\" d=\"M188.49,-23.32C196.9,-23.75 205.05,-24.17 212.52,-24.55\"/>\n",
       "<polygon fill=\"black\" stroke=\"black\" points=\"212.32,-28.05 222.49,-25.07 212.68,-21.06 212.32,-28.05\"/>\n",
       "</g>\n",
       "</g>\n",
       "</svg>\n"
      ],
      "text/plain": [
       "<graphviz.graphs.Digraph at 0x13118f3e0>"
      ]
     },
     "execution_count": 5,
     "metadata": {},
     "output_type": "execute_result"
    }
   ],
   "source": [
    "draw_dot(L)"
   ]
  },
  {
   "cell_type": "markdown",
   "metadata": {
    "slideshow": {
     "slide_type": "slide"
    }
   },
   "source": [
    "## The Derivative Chain Rule\n",
    "\n",
    "![img](../images/chain-rule.jpg)\n",
    "\n",
    "The derivative of the composite function is the inner function ‍ within the derivative of the outer function, multiplied by the derivative of the inner function.\n",
    "\n",
    "A [Wikipedia example](https://en.wikipedia.org/wiki/Chain_rule): \n",
    "> If a car travels twice as fast as a bicycle and the bicycle is four times as fast as a walking man, then the car travels 2 × 4 = 8 times as fast as the man.\""
   ]
  },
  {
   "cell_type": "code",
   "execution_count": 6,
   "metadata": {
    "slideshow": {
     "slide_type": "subslide"
    }
   },
   "outputs": [],
   "source": [
    "def backward(self):\n",
    "\n",
    "    topo = []\n",
    "    visited = set()\n",
    "\n",
    "    def build_topo(v):\n",
    "        if v not in visited:\n",
    "            visited.add(v)\n",
    "            for child in v._prev:\n",
    "                build_topo(child)\n",
    "            topo.append(v)\n",
    "\n",
    "    build_topo(self)\n",
    "\n",
    "    self.grad = 1.0\n",
    "    for node in reversed(topo):\n",
    "        node._backward()"
   ]
  },
  {
   "cell_type": "code",
   "execution_count": 7,
   "metadata": {
    "slideshow": {
     "slide_type": "subslide"
    }
   },
   "outputs": [],
   "source": [
    "def __add__(self, other):\n",
    "    out = Value(self.data + other.data, (self, other), \"+\")\n",
    "\n",
    "    def _backward():\n",
    "        self.grad += 1.0 * out.grad\n",
    "        other.grad += 1.0 * out.grad\n",
    "\n",
    "    out._backward = _backward\n",
    "\n",
    "    return out"
   ]
  },
  {
   "cell_type": "code",
   "execution_count": 8,
   "metadata": {
    "slideshow": {
     "slide_type": "subslide"
    }
   },
   "outputs": [],
   "source": [
    "def __mul__(self, other):\n",
    "    # to allow for scalar multiplication\n",
    "    other = other if isinstance(other, Value) else Value(other)\n",
    "    out = Value(self.data * other.data, (self, other), \"*\")\n",
    "\n",
    "    def _backward():\n",
    "        self.grad += other.data * out.grad\n",
    "        other.grad += self.data * out.grad\n",
    "\n",
    "    out._backward = _backward\n",
    "\n",
    "    return out"
   ]
  },
  {
   "cell_type": "code",
   "execution_count": 9,
   "metadata": {},
   "outputs": [
    {
     "data": {
      "image/svg+xml": [
       "<?xml version=\"1.0\" encoding=\"UTF-8\" standalone=\"no\"?>\n",
       "<!DOCTYPE svg PUBLIC \"-//W3C//DTD SVG 1.1//EN\"\n",
       " \"http://www.w3.org/Graphics/SVG/1.1/DTD/svg11.dtd\">\n",
       "<!-- Generated by graphviz version 12.1.2 (20240928.0832)\n",
       " -->\n",
       "<!-- Pages: 1 -->\n",
       "<svg width=\"826pt\" height=\"100pt\"\n",
       " viewBox=\"0.00 0.00 826.25 100.00\" xmlns=\"http://www.w3.org/2000/svg\" xmlns:xlink=\"http://www.w3.org/1999/xlink\">\n",
       "<g id=\"graph0\" class=\"graph\" transform=\"scale(1 1) rotate(0) translate(4 96)\">\n",
       "<polygon fill=\"white\" stroke=\"none\" points=\"-4,4 -4,-96 822.25,-96 822.25,4 -4,4\"/>\n",
       "<!-- 5118686464 -->\n",
       "<g id=\"node1\" class=\"node\">\n",
       "<title>5118686464</title>\n",
       "<polygon fill=\"none\" stroke=\"black\" points=\"0.38,-0.5 0.38,-36.5 187.88,-36.5 187.88,-0.5 0.38,-0.5\"/>\n",
       "<text text-anchor=\"middle\" x=\"11.38\" y=\"-13.7\" font-family=\"Times,serif\" font-size=\"14.00\">a</text>\n",
       "<polyline fill=\"none\" stroke=\"black\" points=\"22.38,-1 22.38,-36.5\"/>\n",
       "<text text-anchor=\"middle\" x=\"62.25\" y=\"-13.7\" font-family=\"Times,serif\" font-size=\"14.00\">data 2.0000</text>\n",
       "<polyline fill=\"none\" stroke=\"black\" points=\"102.12,-1 102.12,-36.5\"/>\n",
       "<text text-anchor=\"middle\" x=\"145\" y=\"-13.7\" font-family=\"Times,serif\" font-size=\"14.00\">grad &#45;2.0000</text>\n",
       "</g>\n",
       "<!-- 4427372096* -->\n",
       "<g id=\"node4\" class=\"node\">\n",
       "<title>4427372096*</title>\n",
       "<ellipse fill=\"none\" stroke=\"black\" cx=\"251.25\" cy=\"-65.5\" rx=\"27\" ry=\"18\"/>\n",
       "<text text-anchor=\"middle\" x=\"251.25\" y=\"-60.45\" font-family=\"Times,serif\" font-size=\"14.00\">*</text>\n",
       "</g>\n",
       "<!-- 5118686464&#45;&gt;4427372096* -->\n",
       "<g id=\"edge5\" class=\"edge\">\n",
       "<title>5118686464&#45;&gt;4427372096*</title>\n",
       "<path fill=\"none\" stroke=\"black\" d=\"M156.75,-36.98C167.26,-40.15 178.07,-43.41 188.25,-46.5 197.04,-49.17 206.52,-52.06 215.36,-54.77\"/>\n",
       "<polygon fill=\"black\" stroke=\"black\" points=\"214.08,-58.04 224.67,-57.63 216.13,-51.35 214.08,-58.04\"/>\n",
       "</g>\n",
       "<!-- 5118552944+ -->\n",
       "<g id=\"node6\" class=\"node\">\n",
       "<title>5118552944+</title>\n",
       "<ellipse fill=\"none\" stroke=\"black\" cx=\"565.5\" cy=\"-41.5\" rx=\"27\" ry=\"18\"/>\n",
       "<text text-anchor=\"middle\" x=\"565.5\" y=\"-36.45\" font-family=\"Times,serif\" font-size=\"14.00\">+</text>\n",
       "</g>\n",
       "<!-- 5118686464&#45;&gt;5118552944+ -->\n",
       "<g id=\"edge6\" class=\"edge\">\n",
       "<title>5118686464&#45;&gt;5118552944+</title>\n",
       "<path fill=\"none\" stroke=\"black\" d=\"M188.14,-23.06C291.68,-28.13 454.03,-36.09 526.89,-39.66\"/>\n",
       "<polygon fill=\"black\" stroke=\"black\" points=\"526.53,-43.14 536.69,-40.14 526.88,-36.15 526.53,-43.14\"/>\n",
       "</g>\n",
       "<!-- 5118687280 -->\n",
       "<g id=\"node2\" class=\"node\">\n",
       "<title>5118687280</title>\n",
       "<polygon fill=\"none\" stroke=\"black\" points=\"0,-55.5 0,-91.5 188.25,-91.5 188.25,-55.5 0,-55.5\"/>\n",
       "<text text-anchor=\"middle\" x=\"11.38\" y=\"-68.7\" font-family=\"Times,serif\" font-size=\"14.00\">b</text>\n",
       "<polyline fill=\"none\" stroke=\"black\" points=\"22.75,-56 22.75,-91.5\"/>\n",
       "<text text-anchor=\"middle\" x=\"64.88\" y=\"-68.7\" font-family=\"Times,serif\" font-size=\"14.00\">data &#45;3.0000</text>\n",
       "<polyline fill=\"none\" stroke=\"black\" points=\"107,-56 107,-91.5\"/>\n",
       "<text text-anchor=\"middle\" x=\"147.62\" y=\"-68.7\" font-family=\"Times,serif\" font-size=\"14.00\">grad 2.0000</text>\n",
       "</g>\n",
       "<!-- 5118687280&#45;&gt;4427372096* -->\n",
       "<g id=\"edge4\" class=\"edge\">\n",
       "<title>5118687280&#45;&gt;4427372096*</title>\n",
       "<path fill=\"none\" stroke=\"black\" d=\"M188.49,-68.68C196.9,-68.25 205.05,-67.83 212.52,-67.45\"/>\n",
       "<polygon fill=\"black\" stroke=\"black\" points=\"212.68,-70.94 222.49,-66.93 212.32,-63.95 212.68,-70.94\"/>\n",
       "</g>\n",
       "<!-- 4427372096 -->\n",
       "<g id=\"node3\" class=\"node\">\n",
       "<title>4427372096</title>\n",
       "<polygon fill=\"none\" stroke=\"black\" points=\"314.25,-47.5 314.25,-83.5 502.5,-83.5 502.5,-47.5 314.25,-47.5\"/>\n",
       "<text text-anchor=\"middle\" x=\"325.62\" y=\"-60.7\" font-family=\"Times,serif\" font-size=\"14.00\">d</text>\n",
       "<polyline fill=\"none\" stroke=\"black\" points=\"337,-48 337,-83.5\"/>\n",
       "<text text-anchor=\"middle\" x=\"379.12\" y=\"-60.7\" font-family=\"Times,serif\" font-size=\"14.00\">data &#45;6.0000</text>\n",
       "<polyline fill=\"none\" stroke=\"black\" points=\"421.25,-48 421.25,-83.5\"/>\n",
       "<text text-anchor=\"middle\" x=\"461.88\" y=\"-60.7\" font-family=\"Times,serif\" font-size=\"14.00\">grad 1.0000</text>\n",
       "</g>\n",
       "<!-- 4427372096&#45;&gt;5118552944+ -->\n",
       "<g id=\"edge3\" class=\"edge\">\n",
       "<title>4427372096&#45;&gt;5118552944+</title>\n",
       "<path fill=\"none\" stroke=\"black\" d=\"M502.74,-51.05C511.42,-49.71 519.82,-48.41 527.48,-47.23\"/>\n",
       "<polygon fill=\"black\" stroke=\"black\" points=\"528.01,-50.69 537.36,-45.7 526.94,-43.77 528.01,-50.69\"/>\n",
       "</g>\n",
       "<!-- 4427372096*&#45;&gt;4427372096 -->\n",
       "<g id=\"edge1\" class=\"edge\">\n",
       "<title>4427372096*&#45;&gt;4427372096</title>\n",
       "<path fill=\"none\" stroke=\"black\" d=\"M278.56,-65.5C285.74,-65.5 293.97,-65.5 302.72,-65.5\"/>\n",
       "<polygon fill=\"black\" stroke=\"black\" points=\"302.54,-69 312.54,-65.5 302.54,-62 302.54,-69\"/>\n",
       "</g>\n",
       "<!-- 5118552944 -->\n",
       "<g id=\"node5\" class=\"node\">\n",
       "<title>5118552944</title>\n",
       "<polygon fill=\"none\" stroke=\"black\" points=\"628.5,-23.5 628.5,-59.5 818.25,-59.5 818.25,-23.5 628.5,-23.5\"/>\n",
       "<text text-anchor=\"middle\" x=\"640.62\" y=\"-36.7\" font-family=\"Times,serif\" font-size=\"14.00\">L</text>\n",
       "<polyline fill=\"none\" stroke=\"black\" points=\"652.75,-24 652.75,-59.5\"/>\n",
       "<text text-anchor=\"middle\" x=\"694.88\" y=\"-36.7\" font-family=\"Times,serif\" font-size=\"14.00\">data &#45;4.0000</text>\n",
       "<polyline fill=\"none\" stroke=\"black\" points=\"737,-24 737,-59.5\"/>\n",
       "<text text-anchor=\"middle\" x=\"777.62\" y=\"-36.7\" font-family=\"Times,serif\" font-size=\"14.00\">grad 1.0000</text>\n",
       "</g>\n",
       "<!-- 5118552944+&#45;&gt;5118552944 -->\n",
       "<g id=\"edge2\" class=\"edge\">\n",
       "<title>5118552944+&#45;&gt;5118552944</title>\n",
       "<path fill=\"none\" stroke=\"black\" d=\"M592.94,-41.5C600.09,-41.5 608.28,-41.5 616.99,-41.5\"/>\n",
       "<polygon fill=\"black\" stroke=\"black\" points=\"616.76,-45 626.76,-41.5 616.76,-38 616.76,-45\"/>\n",
       "</g>\n",
       "</g>\n",
       "</svg>\n"
      ],
      "text/plain": [
       "<graphviz.graphs.Digraph at 0x1311165d0>"
      ]
     },
     "execution_count": 9,
     "metadata": {},
     "output_type": "execute_result"
    }
   ],
   "source": [
    "a = Value(2.0, label=\"a\")\n",
    "b = Value(-3.0, label=\"b\")\n",
    "c = Value(10.0, label=\"c\")\n",
    "d = a * b\n",
    "d.label = \"d\"\n",
    "L = a + d\n",
    "L.label = \"L\"\n",
    "L.backward()\n",
    "draw_dot(L)"
   ]
  },
  {
   "cell_type": "markdown",
   "metadata": {
    "slideshow": {
     "slide_type": "subslide"
    }
   },
   "source": [
    "### A Neuron\n",
    "\n",
    "A neuron is an expression with several inputs and one bias.\n",
    "It creates one output.\n",
    "\n",
    "For example: a partial neuron with two inputs can be expressed as \n",
    "\n",
    "`output = input_1 * weight_1 + input_2 * weight_2 + bias`\n",
    "\n",
    "Weights and bias are **parameters**. \n",
    "\n",
    "It is partial because it misses a non-linear transformation - described later."
   ]
  },
  {
   "cell_type": "code",
   "execution_count": 10,
   "metadata": {
    "slideshow": {
     "slide_type": "subslide"
    }
   },
   "outputs": [
    {
     "name": "stdout",
     "output_type": "stream",
     "text": [
      "output: 2.3814\n",
      "---\n",
      "w1 grad 2.0\n",
      "w2 grad 1.5\n",
      "b grad 1.0\n"
     ]
    }
   ],
   "source": [
    "# a neuron with two inputs and one output\n",
    "# inputs x1,x2\n",
    "x1 = Value(2.0, label=\"x1\")\n",
    "x2 = Value(1.5, label=\"x2\")\n",
    "# weights w1,w2\n",
    "w1 = Value(-3.0, label=\"w1\")\n",
    "w2 = Value(1.0, label=\"w2\")\n",
    "# bias of the neuron\n",
    "b = Value(6.8813735870195432, label=\"b\")\n",
    "\n",
    "# x1w1 = x1 * w1\n",
    "# x2w2 = x2 * w2\n",
    "# ws = x1w1 + x2w2\n",
    "# o = ws + b\n",
    "\n",
    "o = (x1 * w1 + x2 * w2) + b\n",
    "\n",
    "print(f\"output: {o.data:.4f}\")\n",
    "o.backward()\n",
    "\n",
    "print(\"---\")\n",
    "print(\"w1 grad\", w1.grad)\n",
    "print(\"w2 grad\", w2.grad)\n",
    "print(\"b grad\", b.grad)"
   ]
  },
  {
   "cell_type": "markdown",
   "metadata": {
    "slideshow": {
     "slide_type": "subslide"
    }
   },
   "source": [
    "### Computation Goal\n",
    "\n",
    "If the computation goal is a loss function value that we want to minimize.\n",
    "If the goal is to maximize a value, just change the adjustment direction,or negate the goal value to make it a minimization goal.\n",
    "\n",
    "With `step_size` (learning rate), adjust parameters (weights and biases) because the inputs are given.\n",
    "\n",
    "- Decrease a value's weight if its gradient is positive:\n",
    "  - `v.weight -= step_size * v.gradient`\n",
    "- Increase a value's weight if its gradient is negative:\n",
    "  - `v.weight -= step_size * v.gradient`"
   ]
  },
  {
   "cell_type": "code",
   "execution_count": 11,
   "metadata": {
    "slideshow": {
     "slide_type": "fragment"
    }
   },
   "outputs": [
    {
     "name": "stdout",
     "output_type": "stream",
     "text": [
      "output: 2.3089\n",
      "---\n",
      "w1 Value(data=-3.02)\n",
      "w2 Value(data=0.985)\n",
      "b Value(data=6.871373587019543)\n"
     ]
    }
   ],
   "source": [
    "step_rate = 0.01\n",
    "w1.data -= step_rate * w1.grad\n",
    "w2.data -= step_rate * w2.grad\n",
    "b.data -= step_rate * b.grad\n",
    "\n",
    "o = x1 * w1 + x2 * w2 + b\n",
    "\n",
    "print(f\"output: {o.data:.4f}\")\n",
    "print(\"---\")\n",
    "print(\"w1\", w1)\n",
    "print(\"w2\", w2)\n",
    "print(\"b\", b)"
   ]
  },
  {
   "cell_type": "markdown",
   "metadata": {
    "slideshow": {
     "slide_type": "slide"
    }
   },
   "source": [
    "## The PyTorch Library\n",
    "\n",
    "PyTorch is a framework for building deep learning models.\n",
    "\n",
    "The `Value` class uses the PyTorch API for its data element.\n",
    "\n",
    "`pip3 install torch torchvision`"
   ]
  },
  {
   "cell_type": "code",
   "execution_count": 12,
   "metadata": {
    "slideshow": {
     "slide_type": "subslide"
    }
   },
   "outputs": [
    {
     "name": "stdout",
     "output_type": "stream",
     "text": [
      "2.381373405456543\n",
      "---\n",
      "x2 1.0\n",
      "w2 1.5\n",
      "x1 -3.0\n",
      "w1 2.0\n"
     ]
    }
   ],
   "source": [
    "import torch\n",
    "\n",
    "x1 = torch.Tensor([2.0]).double()\n",
    "x1.requires_grad = True\n",
    "x2 = torch.Tensor([1.5]).double()\n",
    "x2.requires_grad = True\n",
    "w1 = torch.Tensor([-3.0]).double()\n",
    "w1.requires_grad = True\n",
    "w2 = torch.Tensor([1.0]).double()\n",
    "w2.requires_grad = True\n",
    "b = torch.Tensor([6.8813735870195432]).double()\n",
    "b.requires_grad = True\n",
    "n = x1 * w1 + x2 * w2 + b\n",
    "\n",
    "print(n.data.item())\n",
    "n.backward()\n",
    "\n",
    "print(\"---\")\n",
    "print(\"x2\", x2.grad.item())\n",
    "print(\"w2\", w2.grad.item())\n",
    "print(\"x1\", x1.grad.item())\n",
    "print(\"w1\", w1.grad.item())"
   ]
  },
  {
   "cell_type": "markdown",
   "metadata": {
    "slideshow": {
     "slide_type": "slide"
    }
   },
   "source": [
    "## MLP: Multi-Layer Perceptron\n",
    "\n",
    "![img](../images/mlp.png)\n",
    "\n",
    "Source: https://www.pycodemates.com/2023/01/multi-layer-perceptron-a-complete-overview.html"
   ]
  },
  {
   "cell_type": "markdown",
   "metadata": {
    "slideshow": {
     "slide_type": "subslide"
    }
   },
   "source": [
    "### Weights and Bias\n",
    "\n",
    "![img](../images/weights-and-bias.png)\n",
    "\n",
    "![img](../images/formula.png)\n",
    "\n",
    "Source: https://www.pycodemates.com/2023/01/multi-layer-perceptron-a-complete-overview.html"
   ]
  },
  {
   "cell_type": "markdown",
   "metadata": {},
   "source": []
  },
  {
   "cell_type": "markdown",
   "metadata": {
    "slideshow": {
     "slide_type": "subslide"
    }
   },
   "source": [
    "### Neuron (Finally)\n",
    "\n",
    "The design of Neuron follows the PyTorch API based on a popular conceptual DNN model.\n",
    "\n",
    "- A neuron has a number of inputs and a bias.\n",
    "    - Each input `x` has a weight `w`. \n",
    "    - The input weights and the bias are **parameters**. \n",
    "    - All are initialized with random numbers.\n",
    "- A neuron has one output that \n",
    "    - First, add the `bias` and the weighted sum of input: the `dot` product of `W` (all weights) and `X` (all inputs). The result is `z = WX + bias`.\n",
    "    - Second, the sum is transformed by an activation function like `tanh` or `relu` (Rectified Linear Unit) to make it can handle complex non-linear relationships. Otherwise, the result is a simple linear transformation that is far from enough for real world knowledge.\n",
    "    - The final output value is `tanh(WX + bias)` or `relu(WX + bias)`."
   ]
  },
  {
   "cell_type": "markdown",
   "metadata": {
    "slideshow": {
     "slide_type": "subslide"
    }
   },
   "source": [
    "### Activation Function\n",
    "\n",
    "In NN, activation function is used to transform input data to a desired one. Common activation functions include `Sigmoid`, `tanh` and `relu`. `relu` becomes popular due to its computational efficiency.\n",
    "\n",
    "![img](../images/tanh.webp)\n",
    "\n",
    "Source: https://towardsdatascience.com/activation-functions-neural-networks-1cbd9f8d91d6"
   ]
  },
  {
   "cell_type": "markdown",
   "metadata": {
    "slideshow": {
     "slide_type": "subslide"
    }
   },
   "source": [
    "###  `relu`\n",
    "\n",
    "```python\n",
    "# method of class Value\n",
    "def relu(self):\n",
    "    out = Value(0 if self.data < 0 else self.data, (self,), 'ReLU')\n",
    "\n",
    "    def _backward():\n",
    "        self.grad += (out.data > 0) * out.grad\n",
    "\n",
    "    out._backward = _backward\n",
    "    return out\n",
    "```\n",
    "\n",
    "![img](../images/relu.png)\n",
    "Source: https://machinelearningmastery.com/rectified-linear-activation-function-for-deep-learning-neural-networks/"
   ]
  },
  {
   "cell_type": "code",
   "execution_count": 13,
   "metadata": {
    "slideshow": {
     "slide_type": "subslide"
    }
   },
   "outputs": [],
   "source": [
    "import math\n",
    "\n",
    "\n",
    "class Value:\n",
    "\n",
    "    def __init__(self, data, _children=(), _op=\"\", label=\"\"):\n",
    "        self.data = data\n",
    "        self.grad = 0.0\n",
    "        self._backward = lambda: None\n",
    "        self._prev = set(_children)\n",
    "        self._op = _op\n",
    "        self.label = label\n",
    "\n",
    "    def __repr__(self):\n",
    "        return f\"Value(data={self.data})\"\n",
    "\n",
    "    def __add__(self, other):\n",
    "        other = other if isinstance(other, Value) else Value(other)\n",
    "        out = Value(self.data + other.data, (self, other), \"+\")\n",
    "\n",
    "        def _backward():\n",
    "            self.grad += 1.0 * out.grad\n",
    "            other.grad += 1.0 * out.grad\n",
    "\n",
    "        out._backward = _backward\n",
    "\n",
    "        return out\n",
    "\n",
    "    def __mul__(self, other):\n",
    "        other = other if isinstance(other, Value) else Value(other)\n",
    "        out = Value(self.data * other.data, (self, other), \"*\")\n",
    "\n",
    "        def _backward():\n",
    "            self.grad += other.data * out.grad\n",
    "            other.grad += self.data * out.grad\n",
    "\n",
    "        out._backward = _backward\n",
    "\n",
    "        return out\n",
    "\n",
    "    def __pow__(self, other):\n",
    "        assert isinstance(\n",
    "            other, (int, float)\n",
    "        ), \"only supporting int/float powers for now\"\n",
    "        out = Value(self.data**other, (self,), f\"**{other}\")\n",
    "\n",
    "        def _backward():\n",
    "            self.grad += other * (self.data ** (other - 1)) * out.grad\n",
    "\n",
    "        out._backward = _backward\n",
    "\n",
    "        return out\n",
    "\n",
    "    def __rmul__(self, other):  # other * self\n",
    "        return self * other\n",
    "\n",
    "    def __truediv__(self, other):  # self / other\n",
    "        return self * other**-1\n",
    "\n",
    "    def __neg__(self):  # -self\n",
    "        return self * -1\n",
    "\n",
    "    def __sub__(self, other):  # self - other\n",
    "        return self + (-other)\n",
    "\n",
    "    def __radd__(self, other):  # other + self\n",
    "        return self + other\n",
    "\n",
    "    def tanh(self):\n",
    "        x = self.data\n",
    "        t = (math.exp(2 * x) - 1) / (math.exp(2 * x) + 1)\n",
    "        out = Value(t, (self,), \"tanh\")\n",
    "\n",
    "        def _backward():\n",
    "            self.grad += (1 - t**2) * out.grad\n",
    "\n",
    "        out._backward = _backward\n",
    "\n",
    "        return out\n",
    "\n",
    "    def relu(self):\n",
    "        out = Value(0 if self.data < 0 else self.data, (self,), \"ReLU\")\n",
    "\n",
    "        def _backward():\n",
    "            self.grad += (out.data > 0) * out.grad\n",
    "\n",
    "        out._backward = _backward\n",
    "\n",
    "        return out\n",
    "\n",
    "    def exp(self):\n",
    "        x = self.data\n",
    "        out = Value(math.exp(x), (self,), \"exp\")\n",
    "\n",
    "        def _backward():\n",
    "            self.grad += (\n",
    "                out.data * out.grad\n",
    "            )  # NOTE: in the video I incorrectly used = instead of +=. Fixed here.\n",
    "\n",
    "        out._backward = _backward\n",
    "\n",
    "        return out\n",
    "\n",
    "    def backward(self):\n",
    "\n",
    "        topo = []\n",
    "        visited = set()\n",
    "\n",
    "        def build_topo(v):\n",
    "            if v not in visited:\n",
    "                visited.add(v)\n",
    "                for child in v._prev:\n",
    "                    build_topo(child)\n",
    "                topo.append(v)\n",
    "\n",
    "        build_topo(self)\n",
    "\n",
    "        self.grad = 1.0\n",
    "        for node in reversed(topo):\n",
    "            node._backward()"
   ]
  },
  {
   "cell_type": "code",
   "execution_count": 14,
   "metadata": {
    "slideshow": {
     "slide_type": "subslide"
    }
   },
   "outputs": [],
   "source": [
    "import random\n",
    "\n",
    "\n",
    "class Neuron:\n",
    "\n",
    "    def __init__(self, nin):\n",
    "        self.w = [Value(random.uniform(-1, 1)) for _ in range(nin)]\n",
    "        self.b = Value(random.uniform(-1, 1))\n",
    "\n",
    "    # forward calculation of the neuron\n",
    "    def __call__(self, x):\n",
    "        # w * x + b. sum takes a start value. We start with b\n",
    "        act = sum((wi * xi for wi, xi in zip(self.w, x)), self.b)\n",
    "        out = act.tanh()\n",
    "        return out\n",
    "\n",
    "    def parameters(self):\n",
    "        return self.w + [self.b]"
   ]
  },
  {
   "cell_type": "code",
   "execution_count": 15,
   "metadata": {
    "slideshow": {
     "slide_type": "fragment"
    }
   },
   "outputs": [
    {
     "name": "stdout",
     "output_type": "stream",
     "text": [
      "[Value(data=-0.17410571845800327), Value(data=0.09881122006455945), Value(data=0.6144128969853733)]\n",
      "0.5099299657585559\n",
      "1.479942860042956 2.219914290064434 0.739971430021478\n",
      "3\n"
     ]
    }
   ],
   "source": [
    "x = [2.0, 3.0]\n",
    "neuron = Neuron(2)\n",
    "print(neuron.parameters())\n",
    "out = neuron(x)\n",
    "print(out.data)\n",
    "out.backward()\n",
    "print(neuron.w[0].grad, neuron.w[1].grad, neuron.b.grad)\n",
    "print(len(neuron.parameters()))"
   ]
  },
  {
   "cell_type": "markdown",
   "metadata": {
    "slideshow": {
     "slide_type": "subslide"
    }
   },
   "source": [
    "### Layer\n",
    "\n",
    "- A `Layer` has a number of `Neuron`s, each `Neuron` is fully connected to all inputs.\n",
    "- Each `Neuron` evaluates its inputs independently.\n",
    "- It has a number of output is the number of neurons because each neuron has one output.\n",
    "\n",
    "How many parameters do we have?"
   ]
  },
  {
   "cell_type": "code",
   "execution_count": 16,
   "metadata": {
    "slideshow": {
     "slide_type": "fragment"
    }
   },
   "outputs": [],
   "source": [
    "class Layer:\n",
    "\n",
    "    def __init__(self, nin, nout):\n",
    "        self.neurons = [Neuron(nin) for _ in range(nout)]\n",
    "\n",
    "    def __call__(self, x):\n",
    "        outs = [n(x) for n in self.neurons]\n",
    "        return outs[0] if len(outs) == 1 else outs\n",
    "\n",
    "    def parameters(self):\n",
    "        return [p for neuron in self.neurons for p in neuron.parameters()]"
   ]
  },
  {
   "cell_type": "code",
   "execution_count": 17,
   "metadata": {
    "slideshow": {
     "slide_type": "fragment"
    }
   },
   "outputs": [
    {
     "name": "stdout",
     "output_type": "stream",
     "text": [
      "[Value(data=-0.9991496548074624), Value(data=-0.8907805594432361), Value(data=0.36255704890633006)]\n",
      "9\n"
     ]
    }
   ],
   "source": [
    "x = [2.0, 3.0]\n",
    "layer = Layer(2, 3)\n",
    "out = layer(x)\n",
    "print(out)\n",
    "print(len(layer.parameters()))"
   ]
  },
  {
   "cell_type": "markdown",
   "metadata": {
    "slideshow": {
     "slide_type": "subslide"
    }
   },
   "source": [
    "### MLP\n",
    "\n",
    "A MLP has many layers that whose inputs and outputs are connected between two layers.\n",
    "\n",
    "How many parameters do we have?"
   ]
  },
  {
   "cell_type": "code",
   "execution_count": 18,
   "metadata": {
    "slideshow": {
     "slide_type": "fragment"
    }
   },
   "outputs": [],
   "source": [
    "class MLP:\n",
    "    # nin is the number of input neurons\n",
    "    # nouts is a list of number of neurons in each layer\n",
    "    def __init__(self, nin, nouts):\n",
    "        layer_sizes = [nin] + nouts\n",
    "        layer_range = range(len(nouts))\n",
    "        self.layers = [Layer(layer_sizes[i], layer_sizes[i + 1]) for i in layer_range]\n",
    "\n",
    "    def __call__(self, x):\n",
    "        for layer in self.layers:\n",
    "            x = layer(x)\n",
    "        return x\n",
    "\n",
    "    def parameters(self):\n",
    "        return [p for layer in self.layers for p in layer.parameters()]"
   ]
  },
  {
   "cell_type": "code",
   "execution_count": 19,
   "metadata": {
    "slideshow": {
     "slide_type": "fragment"
    }
   },
   "outputs": [
    {
     "name": "stdout",
     "output_type": "stream",
     "text": [
      "0.2300912393555668\n",
      "37\n"
     ]
    }
   ],
   "source": [
    "x = [2.0, 3.0]\n",
    "model = MLP(2, [4, 4, 1])\n",
    "out = model(x)\n",
    "print(out.data)\n",
    "print(len(model.parameters()))"
   ]
  },
  {
   "cell_type": "markdown",
   "metadata": {
    "slideshow": {
     "slide_type": "slide"
    }
   },
   "source": [
    "## Model Training\n",
    "\n",
    "A NN is initialized with random parameters (weights and biases) when it is created.\n",
    "Then feed it with inputs and desired targets, based on the difference (a loss value) between its outputs (predicted values) and the desired targets, tune its parameters to minimize the loss value.\n",
    "\n",
    "For example, a batch usually have multiple inputs, first run forward pass:\n",
    "\n",
    "- for input `[1.61370966, -0.1246459]`, the output should be `1` (might mean `YES`/`On`/`High`...)\n",
    "- for input `[1.12211461,  0.08147717]`, the output should be `-1` (might mean `No`/`Off`/`Low`...)\n",
    "- ... \n",
    "\n",
    "Then, calculate the total loss of each batch, ran `loss.backward()` (the backward pass) to tune the parameters to minimize loss. "
   ]
  },
  {
   "cell_type": "code",
   "execution_count": 20,
   "metadata": {
    "slideshow": {
     "slide_type": "subslide"
    }
   },
   "outputs": [
    {
     "name": "stdout",
     "output_type": "stream",
     "text": [
      "[1.0, -1.0, -1.0, 1.0] prediction:  ['-0.51', '-0.80', '-0.66', '-0.69']\n",
      "Loss: 0.9371, Accuracy: 50.00%\n"
     ]
    }
   ],
   "source": [
    "np.random.seed(1337)\n",
    "random.seed(1337)\n",
    "\n",
    "model = MLP(2, [4, 4, 1])\n",
    "\n",
    "# forward pass\n",
    "xs = [\n",
    "    [2.0, 3.0],\n",
    "    [3.0, -1.0],\n",
    "    [0.5, 1.0],\n",
    "    [1.0, 1.0],\n",
    "]\n",
    "ys = [1.0, -1.0, -1.0, 1.0]  # desired targets\n",
    "\n",
    "scores = [model(x) for x in xs]\n",
    "losses = [(1 + -y * score).relu() for y, score in zip(ys, scores)]\n",
    "loss = sum(losses) / len(losses)\n",
    "\n",
    "# also get accuracy\n",
    "accuracies = [(y > 0) == (score.data > 0) for y, score in zip(ys, scores)]\n",
    "accuracy = sum(accuracies) / len(accuracies)\n",
    "\n",
    "print(ys, \"prediction: \", [f\"{score.data:.2f}\" for score in scores])\n",
    "print(f\"Loss: {loss.data:.4f}, Accuracy: {accuracy * 100:.2f}%\")"
   ]
  },
  {
   "cell_type": "markdown",
   "metadata": {
    "slideshow": {
     "slide_type": "slide"
    }
   },
   "source": [
    "## Demo: Training and Visualization\n",
    "\n",
    "[`scikit-datasets`](https://github.com/daviddiazvico/scikit-datasets) has some training datasets for machine learning projects.\n",
    "\n",
    "Use `pip install scikit-datasets` to install the datasets."
   ]
  },
  {
   "cell_type": "code",
   "execution_count": 21,
   "metadata": {
    "slideshow": {
     "slide_type": "subslide"
    }
   },
   "outputs": [],
   "source": [
    "from sklearn.datasets import make_moons\n",
    "\n",
    "np.random.seed(1337)\n",
    "random.seed(1337)\n",
    "\n",
    "xs, ys = make_moons(n_samples=100, noise=0.1)\n",
    "ys = 2 * ys - 1  # convert 0 to -1, and keep 1 as 1"
   ]
  },
  {
   "cell_type": "code",
   "execution_count": 22,
   "metadata": {
    "slideshow": {
     "slide_type": "fragment"
    }
   },
   "outputs": [
    {
     "data": {
      "text/plain": [
       "<matplotlib.collections.PathCollection at 0x349a63aa0>"
      ]
     },
     "execution_count": 22,
     "metadata": {},
     "output_type": "execute_result"
    },
    {
     "data": {
      "image/png": "[encoded data removed]",
      "text/plain": [
       "<Figure size 640x480 with 1 Axes>"
      ]
     },
     "metadata": {},
     "output_type": "display_data"
    }
   ],
   "source": [
    "plt.scatter(xs[:, 0], xs[:, 1], c=ys)"
   ]
  },
  {
   "cell_type": "markdown",
   "metadata": {
    "slideshow": {
     "slide_type": "subslide"
    }
   },
   "source": [
    "### Define a `loss` Function\n",
    "\n",
    "Define a `loss` function to measure the difference between predicted and the target. It is the optimization goal that is to be minimized. There are many loss functions."
   ]
  },
  {
   "cell_type": "code",
   "execution_count": 23,
   "metadata": {
    "slideshow": {
     "slide_type": "fragment"
    }
   },
   "outputs": [],
   "source": [
    "def calc_loss():\n",
    "\n",
    "    scores = [model(x) for x in xs]\n",
    "\n",
    "    # svm \"max-margin\" loss\n",
    "    losses = [(1 + -y * score).relu() for y, score in zip(ys, scores)]\n",
    "    loss = sum(losses) / len(losses)\n",
    "\n",
    "    # also get accuracy\n",
    "    accuracy = [(y > 0) == (score.data > 0) for y, score in zip(ys, scores)]\n",
    "    return loss, sum(accuracy) / len(accuracy)"
   ]
  },
  {
   "cell_type": "markdown",
   "metadata": {
    "slideshow": {
     "slide_type": "subslide"
    }
   },
   "source": [
    "### Tuning Parameter\n",
    "\n",
    "Staring from the `loss`, use backpropagation to calculate gradients.\n",
    "\n",
    "Don't forget resetting gradients to zero !! But why?\n",
    "\n",
    "Then adjust parameters to minimize the target."
   ]
  },
  {
   "cell_type": "code",
   "execution_count": 24,
   "metadata": {
    "slideshow": {
     "slide_type": "subslide"
    }
   },
   "outputs": [
    {
     "name": "stdout",
     "output_type": "stream",
     "text": [
      "step 0 loss 0.7733, accuracy 68.00%\n",
      "step 10 loss 0.2067, accuracy 91.00%\n",
      "step 20 loss 0.1276, accuracy 96.00%\n",
      "step 30 loss 0.0835, accuracy 99.00%\n",
      "step 40 loss 0.0605, accuracy 100.00%\n",
      "step 50 loss 0.0522, accuracy 100.00%\n"
     ]
    }
   ],
   "source": [
    "model = MLP(2, [16, 16, 1])\n",
    "\n",
    "iterations = 51\n",
    "for iteration in range(iterations):\n",
    "\n",
    "    # backward pass, don't forget resetting gradients to zero !!\n",
    "    loss, accuracy = calc_loss()\n",
    "\n",
    "    for parameter in model.parameters():\n",
    "        parameter.grad = 0.0\n",
    "\n",
    "    loss.backward()\n",
    "\n",
    "    # update\n",
    "    learning_rate = 1.0 - 0.9 * iteration / iterations\n",
    "    for parameter in model.parameters():\n",
    "        parameter.data -= learning_rate * parameter.grad\n",
    "\n",
    "    if iteration % 10 == 0:\n",
    "        print(f\"step {iteration} loss {loss.data:.4f}, accuracy {accuracy*100:.2f}%\")"
   ]
  },
  {
   "cell_type": "code",
   "execution_count": 25,
   "metadata": {},
   "outputs": [
    {
     "data": {
      "text/plain": [
       "(Value(data=-0.8329521424502776), Value(data=0.8502412892018412))"
      ]
     },
     "execution_count": 25,
     "metadata": {},
     "output_type": "execute_result"
    }
   ],
   "source": [
    "model([-1, -0.25]), model([2.0, 0.5])"
   ]
  },
  {
   "cell_type": "code",
   "execution_count": 26,
   "metadata": {
    "slideshow": {
     "slide_type": "subslide"
    }
   },
   "outputs": [
    {
     "data": {
      "text/plain": [
       "(-1.548639298268643, 1.951360701731357)"
      ]
     },
     "execution_count": 26,
     "metadata": {},
     "output_type": "execute_result"
    },
    {
     "data": {
      "image/png": "[encoded data removed]",
      "text/plain": [
       "<Figure size 640x480 with 1 Axes>"
      ]
     },
     "metadata": {},
     "output_type": "display_data"
    }
   ],
   "source": [
    "h = 0.25\n",
    "x_min, x_max = xs[:, 0].min() - 1, xs[:, 0].max() + 1\n",
    "y_min, y_max = xs[:, 1].min() - 1, xs[:, 1].max() + 1\n",
    "xx, yy = np.meshgrid(np.arange(x_min, x_max, h), np.arange(y_min, y_max, h))\n",
    "Xmesh = np.c_[xx.ravel(), yy.ravel()]\n",
    "scores = [model(x) for x in Xmesh]\n",
    "Z = np.array([s.data > 0 for s in scores])\n",
    "Z = Z.reshape(xx.shape)\n",
    "\n",
    "fig = plt.figure()\n",
    "plt.contourf(xx, yy, Z, cmap=plt.cm.Spectral, alpha=0.8)\n",
    "plt.scatter(xs[:, 0], xs[:, 1], c=ys, s=40, cmap=plt.cm.Spectral)\n",
    "plt.xlim(xx.min(), xx.max())\n",
    "plt.ylim(yy.min(), yy.max())"
   ]
  },
  {
   "cell_type": "markdown",
   "metadata": {
    "slideshow": {
     "slide_type": "slide"
    }
   },
   "source": [
    "## Summary\n",
    "\n",
    "- A neural network is a set of mathematical expression - represented as MLP.\n",
    "- It takes inputs and has weights/bias as its parameters.\n",
    "- Repeat the following steps until the prediction is good enough.\n",
    "    - The forward pass calculates prediction values.\n",
    "    - The loss function measures the accuracy of the prediction. The lower the loss value, the better the prediction result.\n",
    "    - The backward (backpropagation) of the loss calculates the gradients of its neurons.\n",
    "    - Adjust parameters based on their gradients to decrease the loss value. The step size (learning rate) determines the amount the changes."
   ]
  }
 ],
 "metadata": {
  "kernelspec": {
   "display_name": ".venv",
   "language": "python",
   "name": "python3"
  },
  "language_info": {
   "codemirror_mode": {
    "name": "ipython",
    "version": 3
   },
   "file_extension": ".py",
   "mimetype": "text/x-python",
   "name": "python",
   "nbconvert_exporter": "python",
   "pygments_lexer": "ipython3",
   "version": "3.12.0"
  }
 },
 "nbformat": 4,
 "nbformat_minor": 2
}
