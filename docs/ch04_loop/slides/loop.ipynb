{
 "cells": [
  {
   "cell_type": "markdown",
   "metadata": {
    "slideshow": {
     "slide_type": "slide"
    }
   },
   "source": [
    "# Loop\n",
    "\n",
    "- `while`\n",
    "- `for`\n",
    "- Break and Continue\n",
    "- Two Examples"
   ]
  },
  {
   "cell_type": "markdown",
   "metadata": {
    "slideshow": {
     "slide_type": "slide"
    }
   },
   "source": [
    "## `while` Loop\n",
    "\n",
    "This section introduces the concepts of `while` statement and infinite loop.\n",
    "\n",
    "- The Concept\n",
    "- The Statement\n",
    "- Infinite Loop\n",
    "- Sentinel"
   ]
  },
  {
   "cell_type": "markdown",
   "metadata": {
    "slideshow": {
     "slide_type": "subslide"
    }
   },
   "source": [
    "### The `while` Concept\n",
    "\n",
    "It it a common scenario that you repeat some actions when a certain condition is true. \n",
    "\n",
    "- You repeatedly \"learn\" while a topic that puzzles you.\n",
    "- The rice cooker \"cooks\" rice for 30 minutes. \n",
    "- Your program keeps asking a user to give an input if the current input is invalid.\n",
    "\n",
    "The following diagram shows the concept.\n",
    "\n",
    "![while](../images/while.jpg)"
   ]
  },
  {
   "cell_type": "markdown",
   "metadata": {
    "slideshow": {
     "slide_type": "subslide"
    }
   },
   "source": [
    "### The `while` statement\n",
    "\n",
    "As depicted in the above diagram, the `while` statement has a `while` clause and a code block. The syntax is as the following:\n",
    "\n",
    "```python\n",
    "while condition:\n",
    "    statement\n",
    "    statement\n",
    "    ...\n",
    "\n",
    "statement // after-while statement\n",
    "```\n",
    "\n",
    "When the condition is true, it repeatedly executes the statements in the code block. Each execution of the loop body (code block) is called an **iteration**. Looping is also called **iterating**. If the condition becomes false, it skip the code block and runs the statements below it. Below is an example:"
   ]
  },
  {
   "cell_type": "markdown",
   "metadata": {
    "slideshow": {
     "slide_type": "subslide"
    }
   },
   "source": [
    "### Initial Value\n",
    "\n",
    "Because the `while` clause first checks a condition, the code needs to set a certain value make the condition `True`. Below we set the confirmation to `'yes'` thus when Python executes the `while` statement, the condition is `True` and the statements in the code block are executed. When the confirmation input is not `'yes'`, it skip the code block and run the statement(s) below the `while` statement."
   ]
  },
  {
   "cell_type": "code",
   "execution_count": null,
   "metadata": {
    "slideshow": {
     "slide_type": "subslide"
    },
    "tags": []
   },
   "outputs": [],
   "source": [
    "# a program to calculate the total of user inputs\n",
    "total = 0\n",
    "confirmation = 'yes'\n",
    "\n",
    "while confirmation == 'yes':\n",
    "    number = int(input('Please input an integer: '))\n",
    "    total += number # += is an abbreviation of total = total + num\n",
    "    confirmation = input('more numbers? yes for continue, otherwise stop.')\n",
    "\n",
    "print(f'The total is {total}')\n"
   ]
  },
  {
   "cell_type": "markdown",
   "metadata": {
    "slideshow": {
     "slide_type": "subslide"
    }
   },
   "source": [
    "### Infinite Loop\n",
    "\n",
    "It is very important to change the condition in the code block of a `while` statement. Following is a program that we want to calculate the sum from 1 to 10.\n"
   ]
  },
  {
   "cell_type": "code",
   "execution_count": null,
   "metadata": {},
   "outputs": [],
   "source": [
    "total = 0 # don't use sum as the variable name because it is a built-in function name\n",
    "number = 1\n",
    "while number <= 10:\n",
    "    total += number\n",
    "\n",
    "print(f'The total from 1 to 10 is {total}')"
   ]
  },
  {
   "cell_type": "markdown",
   "metadata": {},
   "source": [
    "If you run the above code, it never ends until the system fails to handle a big number or doesn't have enough memory. The program enters an infinite loop. The reason is the the `while` clause is always evaluate to `True`. To fix it, you should change the condition in the code block."
   ]
  },
  {
   "cell_type": "markdown",
   "metadata": {
    "slideshow": {
     "slide_type": "subslide"
    }
   },
   "source": [
    "### Remember to Change Condition\n",
    "\n",
    "Whenever you write a `while` statement, remember to change the condition inside the code block to avoid infinite loop."
   ]
  },
  {
   "cell_type": "code",
   "execution_count": null,
   "metadata": {
    "tags": []
   },
   "outputs": [],
   "source": [
    "sum = 0\n",
    "number = 1\n",
    "while (number <= 10):\n",
    "    sum += number\n",
    "    number += 1\n",
    "\n",
    "print(f'The sum from 1 to 10 is {sum}')"
   ]
  },
  {
   "cell_type": "markdown",
   "metadata": {
    "slideshow": {
     "slide_type": "subslide"
    }
   },
   "source": [
    "### Sentinel\n",
    "\n",
    "The `while` clause checks a boolean expression to control the iteration. If you use a variable value to represent the `completion`/`end`/`stop` case, the value is called a *sentinel*. It is important that a sentinel should not be a normal input value, otherwise the program can not tell the special end value from normal values. For example, if a program asks user to input positive numbers, it can use `-1` to mark the end of the while loop. "
   ]
  },
  {
   "cell_type": "code",
   "execution_count": null,
   "metadata": {},
   "outputs": [],
   "source": [
    "# a program to calculate the total of user inputs\n",
    "total = 0\n",
    "number = int(input('Please input a positive number, input -1 to stop: '))\n",
    "while number != -1:\n",
    "    total += number # += is an abbreviation of total = total + num\n",
    "    number = int(input('Please input a positive number, input -1 to stop: '))\n",
    "\n",
    "print(f'The total is {total}')"
   ]
  },
  {
   "cell_type": "markdown",
   "metadata": {
    "slideshow": {
     "slide_type": "subslide"
    }
   },
   "source": [
    "### Exercise-1\n",
    "\n",
    "In the above sentinel code example, the prompt message is repeated before and after `while`. Please change the code to call the `input` function only in one place."
   ]
  },
  {
   "cell_type": "markdown",
   "metadata": {
    "slideshow": {
     "slide_type": "subslide"
    }
   },
   "source": [
    "### Exercise-2\n",
    "\n",
    "The following code runs an infinite loop, can you tell what's wrong? Try to fix it."
   ]
  },
  {
   "cell_type": "code",
   "execution_count": null,
   "metadata": {},
   "outputs": [],
   "source": [
    "total = 0\n",
    "confirmation = 'yes'\n",
    "\n",
    "while confirmation == 'yes':\n",
    "    number = int(input('Please input an integer: '))\n",
    "    total += number # += is an abbreviation of sum = sum + num\n",
    "    confirmation2 = input('more numbers? yes for continue, otherwise stop.')\n",
    "\n",
    "print(f'The total is {total}')"
   ]
  },
  {
   "cell_type": "markdown",
   "metadata": {
    "slideshow": {
     "slide_type": "slide"
    }
   },
   "source": [
    "## The `for` Loop\n",
    "\n",
    "- Concept\n",
    "- Statement\n",
    "- Nested loops\n",
    "- Range function\n",
    "- Enumerate with Index"
   ]
  },
  {
   "cell_type": "markdown",
   "metadata": {
    "slideshow": {
     "slide_type": "subslide"
    }
   },
   "source": [
    "### The `for` Loop Concept\n",
    "\n",
    "Like the `while` loop, the `for` loop has two parts: a `for` clause and a code block.\n",
    "\n",
    "The `for` clause gets each element from a `sequence`, assigns each item to an variable and execute the code block. It completes when there is no more elements in the sequence.\n",
    "\n",
    "The variable used in the `for` clause is called a `target variable` because it is assigned the value of each element in the sequence in each loop iteration. It is important to give it a meaningful variable name.\n"
   ]
  },
  {
   "cell_type": "markdown",
   "metadata": {
    "slideshow": {
     "slide_type": "subslide"
    }
   },
   "source": [
    "### The `for` Loop Flow Chart\n",
    "\n",
    "![for](../images/for.jpg)"
   ]
  },
  {
   "cell_type": "markdown",
   "metadata": {
    "slideshow": {
     "slide_type": "subslide"
    }
   },
   "source": [
    "### The `for` Loop Syntax\n",
    "\n",
    "The syntax of `for` loop is as the following:\n",
    "\n",
    "```python\n",
    "for variable_name in sequence:\n",
    "   statement\n",
    "   statement\n",
    "   ...\n",
    "```\n",
    "\n",
    "Following are two examples that print out elements in a sequence -- you use the target variable to access each element:"
   ]
  },
  {
   "cell_type": "code",
   "execution_count": null,
   "metadata": {},
   "outputs": [],
   "source": [
    "students = ['Alice', 'Bob', 'Cindy']\n",
    "for student in students:\n",
    "    print(student)\n",
    "print('All students are printed\\n')"
   ]
  },
  {
   "cell_type": "markdown",
   "metadata": {
    "slideshow": {
     "slide_type": "subslide"
    }
   },
   "source": [
    "### Nested Loop\n",
    "\n",
    "In the code block of a loop statement, you can have another loop statement, this is called nested loop. Conceptually it is rather simple, just treat the nested loop as a regular statement and everything becomes clear. Following is an example. As you can see, the inner `for char` loop is repeated for each number in the outer `for number` loop. Practice more and you will have a better understanding."
   ]
  },
  {
   "cell_type": "code",
   "execution_count": null,
   "metadata": {},
   "outputs": [],
   "source": [
    "numbers = [1, 2, 3]\n",
    "chars = [\"A\", \"B\", \"C\"]\n",
    "\n",
    "print('Outside loop')\n",
    "for number in numbers:\n",
    "    print('Inside number loop')\n",
    "    for char in chars:\n",
    "        print('Inside char loop')\n",
    "        print(number, char)"
   ]
  },
  {
   "cell_type": "markdown",
   "metadata": {
    "slideshow": {
     "slide_type": "subslide"
    }
   },
   "source": [
    "### Exercise\n",
    "\n",
    "Exercise: change the following `for` loop code to use `while` loop."
   ]
  },
  {
   "cell_type": "code",
   "execution_count": null,
   "metadata": {},
   "outputs": [],
   "source": [
    "students = ['Alice', 'Bob', 'Cindy']\n",
    "for student in students:\n",
    "    print(student)\n",
    "print('All students are printed\\n')"
   ]
  },
  {
   "cell_type": "markdown",
   "metadata": {
    "slideshow": {
     "slide_type": "subslide"
    }
   },
   "source": [
    "### The `range` Function\n",
    "\n",
    "Many time you want to repeat a block code for a number of times. Python has a built-in function `range` that generates a sequence of numbers.\n",
    "\n",
    "`range(n)` generates a sequence of integers in the range of `0` up to, but not including, the number `n`. For example, `range(3)` generates a sequence of `0`, `1` and `2`."
   ]
  },
  {
   "cell_type": "code",
   "execution_count": null,
   "metadata": {},
   "outputs": [],
   "source": [
    "for item in range(10):\n",
    "    print(f'Current item: {item}')"
   ]
  },
  {
   "cell_type": "markdown",
   "metadata": {
    "slideshow": {
     "slide_type": "subslide"
    }
   },
   "source": [
    "### More Parameters\n",
    "\n",
    "The range function can take one, two, or three arguments. \n",
    "\n",
    "- `range(m, n)`: generate a sequence of integers in the range of `m` up to, but not including, the number `n`. For example, `range(3, 7)` generates a sequence of `3`, `4`, `5`, and `6`.\n",
    "- `range(m, n, step)`, generate a sequence of integers in the range of `m` up to, but not including, the number `n`, the generate numbers increase at the specified step. For example, `range(3, 7, 2)` generates a sequence of `3` and `5`. `7` is not in the generated list because numbers bigger than or equal to `7` are excluded.\n",
    "\n",
    "It is possible to use a negative step in a `range` function to generate a list from high to low, in a reversed order. For example, `range(3, 0, -1)` generates a list of `[3, 2, 1]`. "
   ]
  },
  {
   "cell_type": "code",
   "execution_count": null,
   "metadata": {},
   "outputs": [],
   "source": [
    "for item in range(3, 10, 2):\n",
    "    print(f'Current item: {item}')"
   ]
  },
  {
   "cell_type": "markdown",
   "metadata": {
    "slideshow": {
     "slide_type": "subslide"
    }
   },
   "source": [
    "### The Index Idiom\n",
    "\n",
    "You can compose the `len` and the `range` functions to generate a sequence of the index numbers for a list. For the above students list, the composed function `range(len(students))` generates a sequence of 0, 1 and 2.\n",
    "\n",
    "Actually, it is an idiom in Python to use the composed function to access both the item and its index in a list. Following is an example to display students and there places in the list. For a typical business user, the index should starts from 1, not 0.\n",
    "\n",
    "Using f-string, you can format the output as the following:"
   ]
  },
  {
   "cell_type": "code",
   "execution_count": null,
   "metadata": {},
   "outputs": [],
   "source": [
    "students = ['Alice', 'Bob', 'Cindy']\n",
    "\n",
    "for index in range(len(students)):\n",
    "    print(f'Index {index}, Name: {students[index]}')"
   ]
  },
  {
   "cell_type": "markdown",
   "metadata": {
    "slideshow": {
     "slide_type": "subslide"
    }
   },
   "source": [
    "### The `enumerate` Function\n",
    "\n",
    "When you need both the index and element value when iterating over a sequence, use `enumerate` function. In each iteration, it returns the current index and current value in a pair."
   ]
  },
  {
   "cell_type": "code",
   "execution_count": null,
   "metadata": {},
   "outputs": [],
   "source": [
    "students = ['Bob', 'David', 'Alice']\n",
    "\n",
    "for (index, name) in enumerate(students):\n",
    "    print(f'Index {index}: {name}')"
   ]
  },
  {
   "cell_type": "markdown",
   "metadata": {
    "slideshow": {
     "slide_type": "subslide"
    }
   },
   "source": [
    "### Which Version is Better?\n",
    "\n",
    "What's the difference? To calculate the length of a list, you need load the whole list first into memory (*eager* evaluation) while the `enumerate` process one element of the list at a time (*lazy* evaluation).\n",
    "\n",
    "Why the difference matters? In most cases, the lazy is better than the eager version because it\n",
    "\n",
    "- starts quickly from the first element.\n",
    "- requires less memory, just one element at a time. "
   ]
  },
  {
   "cell_type": "code",
   "execution_count": null,
   "metadata": {},
   "outputs": [],
   "source": [
    "students = ['Alice', 'Bob', 'Cindy']\n",
    "\n",
    "for index in range(len(students)):\n",
    "    print(f'Index {index}, Name: {students[index]}')\n",
    "\n",
    "for (index, name) in enumerate(students):\n",
    "    print(f'Index {index}, Name: {name}')"
   ]
  },
  {
   "cell_type": "markdown",
   "metadata": {
    "slideshow": {
     "slide_type": "slide"
    }
   },
   "source": [
    "## Continue and Break\n",
    "\n",
    "It is common that you don't want to perform a loop thoroughly. Two common cases are:\n",
    "\n",
    "- Skip some statements in the suite\n",
    "- Stop the loop before it completes"
   ]
  },
  {
   "cell_type": "markdown",
   "metadata": {
    "slideshow": {
     "slide_type": "subslide"
    }
   },
   "source": [
    "### The Continue Concepts\n",
    "\n",
    "In the code block of a `for` or `while` loop, sometimes you want to skip the processing for certain data. \n",
    "\n",
    "For example, when you divide a number by every element in a list, you want to skip the `0` as a divisor because it crashes the program.\n",
    "\n",
    "You use the `continue` statement to continue to the next iteration of the loop."
   ]
  },
  {
   "cell_type": "markdown",
   "metadata": {
    "slideshow": {
     "slide_type": "subslide"
    }
   },
   "source": [
    "### The Continue Flow Chart\n",
    "\n",
    "![continue](../images/continue.jpg)"
   ]
  },
  {
   "cell_type": "markdown",
   "metadata": {
    "slideshow": {
     "slide_type": "subslide"
    }
   },
   "source": [
    "### `continue` Statement\n",
    "\n",
    "As stated above, you use `continue` statement in a certain condition to skip the current iteration and run the next iteration of the loop."
   ]
  },
  {
   "cell_type": "code",
   "execution_count": null,
   "metadata": {},
   "outputs": [],
   "source": [
    "dividend = 100\n",
    "numbers = [3, 5, 7, 0, 9, 2]\n",
    "\n",
    "for number in numbers:\n",
    "    print(f'The element is {number}')\n",
    "    if number == 0:\n",
    "        print(f'oops, zero cannot be a divisor')\n",
    "        continue\n",
    "    \n",
    "    quotient = dividend / number\n",
    "    print(f'The quotient of {dividend}/{number} is {quotient: .2f}')\n"
   ]
  },
  {
   "cell_type": "markdown",
   "metadata": {
    "slideshow": {
     "slide_type": "subslide"
    }
   },
   "source": [
    "### The Break Concept\n",
    "\n",
    "In another situate, in some conditions you want to exit the loop execution. For example, you read input from a user in a loop and the user types an `exit` to exit the loop. You use the `break` statement to break out of the loop. The following flow chart describes the break control flow:\n",
    "\n",
    "![break](../images/break.jpg)"
   ]
  },
  {
   "cell_type": "markdown",
   "metadata": {
    "slideshow": {
     "slide_type": "subslide"
    }
   },
   "source": [
    "### The `break` Statement\n",
    "\n",
    "Similar to the `continue` statement, you check a condition that you want exit a loop, if the condition is `true`, you use `break` to exit the loop and jumps to the next element after the loop structure. "
   ]
  },
  {
   "cell_type": "code",
   "execution_count": null,
   "metadata": {},
   "outputs": [],
   "source": [
    "dividend = 100\n",
    "numbers = [3, 5, 7, 0, 9, 2,]\n",
    "\n",
    "for number in numbers:\n",
    "    print(f'The element is {number}')\n",
    "    \n",
    "    # exits from the loop when it sees a `0`. \n",
    "    if number == 0:\n",
    "        print(f'oops, zero divisor, clean your data first')\n",
    "        break\n",
    "    \n",
    "    quotient = dividend / number\n",
    "    print(f'The quotient of {dividend}/{number} is {quotient: .2f}')\n",
    "\n",
    "print('Done')"
   ]
  },
  {
   "cell_type": "markdown",
   "metadata": {
    "slideshow": {
     "slide_type": "subslide"
    }
   },
   "source": [
    "### Stop Loop with Sentinel\n",
    "\n",
    "The following example stops when it the input is the sentinel value. It skips `0` to avoid division by zero error."
   ]
  },
  {
   "cell_type": "code",
   "execution_count": null,
   "metadata": {},
   "outputs": [],
   "source": [
    "SENTINEL = -1\n",
    "dividend = 100\n",
    "prompt = f'Please input an integer, input {SENTINEL} to exit: '\n",
    "\n",
    "number = int(input(prompt))\n",
    "while number != SENTINEL:\n",
    "    print(f'The input number is {number}')\n",
    "    if number == 0:\n",
    "        print(f'Zero cannot be a divisor, ignored.')\n",
    "        number = int(input('Please input an integer, input -1 to exit: '))\n",
    "        continue\n",
    "\n",
    "    # now the normal logic to process the data\n",
    "    quotient = dividend / number\n",
    "    print(f'The quotient of {dividend}/{number} is {quotient: .2f}')\n",
    "\n",
    "    # must have code to change the number\n",
    "    number = int(input(prompt))\n",
    "\n",
    "print('Done')"
   ]
  },
  {
   "cell_type": "markdown",
   "metadata": {
    "slideshow": {
     "slide_type": "subslide"
    }
   },
   "source": [
    "### `while True:`\n",
    "\n",
    "The code `while True:` looks weird if it is the first time you see it. It looks like an infinite loop because the condition is always true. For this clause, there must be a `break` statement in the code block to exit the loop at a certain condition. The code can be revised to get an input first and check the sentinel in the `while` clause. Following is a version that checks the sentinel in `while` clause. "
   ]
  },
  {
   "cell_type": "code",
   "execution_count": null,
   "metadata": {},
   "outputs": [],
   "source": [
    "# a sentinel is a special value that marks the end.\n",
    "SENTINEL = -1\n",
    "dividend = 100\n",
    "\n",
    "prompt = f'Please input an integer, input {SENTINEL} to exit: '\n",
    "while True:\n",
    "    number = int(input(prompt))\n",
    "    print(f'The input number is {number}')\n",
    "    if number == 0:\n",
    "        print(f'Zero cannot be a divisor, ignored.')\n",
    "        continue\n",
    "\n",
    "    if number == SENTINEL:\n",
    "        break\n",
    "\n",
    "    # now the normal logic to process the data\n",
    "    quotient = dividend / number\n",
    "    print(f'The quotient of {dividend}/{number} is {quotient: .2f}')\n",
    "\n",
    "print('Done')"
   ]
  },
  {
   "cell_type": "markdown",
   "metadata": {
    "slideshow": {
     "slide_type": "subslide"
    }
   },
   "source": [
    "### `while` Exercise\n",
    "\n",
    "Exercise: write a program that prints the first 5 odd numbers from the list `[3, 8, 10, 5, 7, 0, 9, 2]`."
   ]
  },
  {
   "cell_type": "markdown",
   "metadata": {
    "slideshow": {
     "slide_type": "slide"
    }
   },
   "source": [
    "## Two Examples\n",
    "\n",
    "- Factorial with `while` and `for`\n",
    "- Draw spiral circles"
   ]
  },
  {
   "cell_type": "code",
   "execution_count": null,
   "metadata": {
    "slideshow": {
     "slide_type": "subslide"
    }
   },
   "outputs": [],
   "source": [
    "\"\"\"Calculate the factorial of a non-negative integer\"\"\"\n",
    "number = int(input('Enter a positive number: '))\n",
    "\n",
    "# calculate number!  factorial\n",
    "factorial = 1\n",
    "\n",
    "# 1 * 2 * 3 ... * number \n",
    "\n",
    "# while loop is error-prone, \n",
    "# - need variable to control the loop condition explicitly\n",
    "# - often has missing-by-one bug or infinite loop\n",
    "# index = 2\n",
    "# while index <= number:\n",
    "#     factorial *= index\n",
    "#     index += 1\n",
    "\n",
    "# for n in range(2, number + 1):\n",
    "#     factorial *= n\n",
    "\n",
    "# decremental\n",
    "for n in range(number, 1, -1):\n",
    "    factorial *= n\n",
    "    \n",
    "print(f'{number}! is {factorial}.')"
   ]
  },
  {
   "cell_type": "code",
   "execution_count": null,
   "metadata": {
    "slideshow": {
     "slide_type": "subslide"
    }
   },
   "outputs": [],
   "source": [
    "import turtle\n",
    "\n",
    "# don't name the file a turtle.py -- it causes a name conflict error.\n",
    "\n",
    "# Named constants\n",
    "NUM_CIRCLES = 36  # Number of circles to draw\n",
    "RADIUS = 100  # Radius of each circle\n",
    "ANGLE = 10  # Angle to turn\n",
    "ANIMATION_SPEED = 0  # Animation speed\n",
    "COLORS = [\"red\", \"green\", \"blue\"]\n",
    "\n",
    "t = turtle.Turtle()\n",
    "t.speed(ANIMATION_SPEED)\n",
    "\n",
    "# Draw 36 circles, with the turtle tilted\n",
    "# by 10 degrees after each circle is drawn.\n",
    "color_index = 0\n",
    "for x in range(NUM_CIRCLES):\n",
    "    t.pencolor(COLORS[color_index])\n",
    "    t.circle(RADIUS)\n",
    "    t.left(ANGLE)\n",
    "\n",
    "    color_index += 1\n",
    "    if color_index >= len(COLORS):\n",
    "        color_index = 0\n",
    "\n",
    "t.screen.mainloop()"
   ]
  }
 ],
 "metadata": {
  "kernelspec": {
   "display_name": "Python 3.10.6 64-bit",
   "language": "python",
   "name": "python3"
  },
  "language_info": {
   "codemirror_mode": {
    "name": "ipython",
    "version": 3
   },
   "file_extension": ".py",
   "mimetype": "text/x-python",
   "name": "python",
   "nbconvert_exporter": "python",
   "pygments_lexer": "ipython3",
   "version": "3.12.0"
  },
  "orig_nbformat": 2,
  "vscode": {
   "interpreter": {
    "hash": "949777d72b0d2535278d3dc13498b2535136f6dfe0678499012e853ee9abcab1"
   }
  }
 },
 "nbformat": 4,
 "nbformat_minor": 2
}
