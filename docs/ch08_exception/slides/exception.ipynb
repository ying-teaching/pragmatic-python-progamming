{
 "cells": [
  {
   "cell_type": "markdown",
   "metadata": {
    "slideshow": {
     "slide_type": "slide"
    }
   },
   "source": [
    "# Exception\n",
    "\n",
    "- Two Error Types\n",
    "- Traceback\n",
    "- Error Handling Strategy\n",
    "- `try` Statement\n",
    "- `else` and `finally`\n",
    "- `raise` Exception\n",
    "\n",
    "\n"
   ]
  },
  {
   "cell_type": "markdown",
   "metadata": {
    "slideshow": {
     "slide_type": "slide"
    }
   },
   "source": [
    "## Two Kinds of Errors\n",
    "\n",
    "Python has two kinds of program errors: syntax errors and exceptions.\n",
    "\n",
    "- Syntax Error: the program violates the Python grammar.\n",
    "- Exception: The program grammar is correct but has other errors that Python cannot run the program."
   ]
  },
  {
   "cell_type": "markdown",
   "metadata": {
    "slideshow": {
     "slide_type": "subslide"
    }
   },
   "source": [
    "### Syntax Errors\n",
    "\n",
    "When you learn Python, you often make many syntax errors because you are not familiar with the Python syntax (grammar). Typos and incorrect grammars are common reasons for syntax errors."
   ]
  },
  {
   "cell_type": "code",
   "execution_count": null,
   "metadata": {},
   "outputs": [],
   "source": [
    "for element in [1, 2, 3] # Expected :\n",
    "    print(element)\n",
    "\n",
    "iff 6 > 5: print('hi') # unknown identifier iff\n"
   ]
  },
  {
   "cell_type": "markdown",
   "metadata": {
    "slideshow": {
     "slide_type": "subslide"
    }
   },
   "source": [
    "### Exception Error\n",
    "\n",
    "Even if all statements in a program are syntactically correct, Python may still fails to execute the program because something is wrong.\n",
    "\n",
    "These execution time errors are called `exceptions`,  `runtime exceptions` or `runtime errors`.\n",
    "\n",
    "When an exception happens and you don't handle it, the program crashes with an error message printed."
   ]
  },
  {
   "cell_type": "markdown",
   "metadata": {
    "slideshow": {
     "slide_type": "subslide"
    }
   },
   "source": [
    "### Common Exception Types\n",
    "\n",
    "- `ZeroDivisionError`: divide by zero exception.\n",
    "- `NameError`: unknown variable identifier or function names, most likely cause by a typo.\n",
    "- `ImportError`: unable to import a specified module.\n",
    "- `AssertionError`: the boolean expression in an `assert` is false.\n",
    "- `FileNotFoundError`: unable to find the specified file when read a file.\n",
    "- `ValueError`: the value data is not expected. For example, unable to convert a string `\"abc\"` to an integer because the string value is not a valid number.\n",
    "- You can find more exception in [exception document](https://docs.python.org/3/library/exceptions.html).\n",
    "- User defined exception types."
   ]
  },
  {
   "cell_type": "markdown",
   "metadata": {
    "slideshow": {
     "slide_type": "subslide"
    }
   },
   "source": [
    "### Exception Example 1\n",
    "\n",
    "In Python, a statement __`raises`__ an exception when something is wrong in execution. The code after the statement is not executed.  "
   ]
  },
  {
   "cell_type": "code",
   "execution_count": null,
   "metadata": {},
   "outputs": [],
   "source": [
    "dividend = 42\n",
    "divisor = 0\n",
    "quotient = dividend / divisor\n",
    "print(quotient)\n"
   ]
  },
  {
   "cell_type": "markdown",
   "metadata": {},
   "source": [
    "The statement `dividend / divisor` is syntactically correct. However, dividing by 0 is undefined in math therefore a `ZeroDivisionError` happens. Python prints a message `ZeroDivisionError: division by zero` and stops execution at the statement that causes the exception. "
   ]
  },
  {
   "cell_type": "markdown",
   "metadata": {
    "slideshow": {
     "slide_type": "subslide"
    }
   },
   "source": [
    "### Exception Example 2\n",
    "\n",
    "If you don't define a `prin` function, the following syntactically correct function call statement raises an exception:\n",
    "\n",
    "`prin(\"hi\")`\n",
    "\n",
    "The `prin(\"hi\")` statement raises a `NameError` exception because it could't find the the function named `prin` -- in this case it might be a typo for the built-in function `print`."
   ]
  },
  {
   "cell_type": "markdown",
   "metadata": {
    "slideshow": {
     "slide_type": "slide"
    }
   },
   "source": [
    "## Traceback\n",
    "\n",
    "A non-trivial Python program usually has many functions. Starting from the `main` function, a function calls one or more functions that call other functions, and so on and so forth. The calls are represented like a call stack where a caller is below the called function.\n",
    "\n",
    "An exception might be raised deeply in a function call. Python tries to give a list of functions involved in the exception, from the top most function to the exception location.\n",
    "\n",
    "Because the trace message shows the call stack in a reverse order, it is called __traceback__."
   ]
  },
  {
   "cell_type": "code",
   "execution_count": null,
   "metadata": {
    "slideshow": {
     "slide_type": "subslide"
    }
   },
   "outputs": [],
   "source": [
    "def multiplyBy7():\n",
    "    # it may get this string from a file or user input\n",
    "    number_str = \"Six\"\n",
    "    number = int(number_str)\n",
    "\n",
    "result = multiplyBy7()\n"
   ]
  },
  {
   "cell_type": "markdown",
   "metadata": {},
   "source": [
    "### Stack Trace Message\n",
    "\n",
    "```text\n",
    "ValueError        Traceback (most recent call last)\n",
    "exception.ipynb Cell 12 line 6\n",
    "      3     number_str = \"Six\"\n",
    "      4     number = int(number_str)\n",
    "----> 6 result = multiplyBy7()\n",
    "\n",
    "exception.ipynb Cell 12 line 4\n",
    "      1 def multiplyBy7():\n",
    "      2     # it may get this string from a file or user input\n",
    "      3     number_str = \"Six\"\n",
    "----> 4     number = int(number_str)\n",
    "\n",
    "ValueError: invalid literal for int() with base 10: 'Six'\n",
    "```"
   ]
  },
  {
   "cell_type": "markdown",
   "metadata": {
    "slideshow": {
     "slide_type": "slide"
    }
   },
   "source": [
    "## Error Handling Strategy\n",
    "\n",
    "Because an exception represents a runtime error, the best error handling strategy is to avoid exceptions. If you design a program carefully, you can avoid many exceptions thus there are no need to handle them.\n",
    "\n",
    "For example, to avoid `ZeroDivisionError`, check the divisor first before a division computation. If the divisor is zero, display an error message and ask the user to correct the problem.\n",
    "\n",
    "To avoid `FileNotFoundError`, check the existence of a file before read from it. Following is a code example."
   ]
  },
  {
   "cell_type": "code",
   "execution_count": null,
   "metadata": {
    "slideshow": {
     "slide_type": "subslide"
    }
   },
   "outputs": [],
   "source": [
    "import os\n",
    "\n",
    "READ_MODE = 'r'\n",
    "\n",
    "filename = input('Please type the filename: ')\n",
    "\n",
    "if os.path.isfile(filename):\n",
    "    with open(filename, READ_MODE) as file:\n",
    "        print(f'Process {filename}')\n",
    "        # process the file content here\n",
    "else:\n",
    "    print(f'{filename} is not a valid file, please check that you input the correct filename.')\n"
   ]
  },
  {
   "cell_type": "markdown",
   "metadata": {
    "slideshow": {
     "slide_type": "subslide"
    }
   },
   "source": [
    "### For Unexpected\n",
    "\n",
    "You should avoid runtime errors if possible.\n",
    "\n",
    "Sometimes it is hard to check a runtime error or to display user-friendly error message, you can use the built-in exception handling mechanisms."
   ]
  },
  {
   "cell_type": "markdown",
   "metadata": {
    "slideshow": {
     "slide_type": "slide"
    }
   },
   "source": [
    "## The `try` Statement\n",
    "\n",
    "Python's `try` statement allows you to enclose a code block and to catch/handle specific or all exceptions in its `except`/`else`/`finally` clauses. With `try` statement, you can:\n",
    "\n",
    "- Catch all exceptions\n",
    "- Catch a specific exception type\n",
    "- Catch multiple exception types\n",
    "- Only execute some statements if no exception raised\n",
    "- Execute some statement regardless of exception raised or not"
   ]
  },
  {
   "cell_type": "markdown",
   "metadata": {
    "slideshow": {
     "slide_type": "subslide"
    }
   },
   "source": [
    "## Built-in Exception Handling\n",
    "\n",
    "When an exception raise in a statement, Python handles it as the following:\n",
    "\n",
    "- if the statement is in a `try` statement, Python uses its `except` clause to handle the exception.\n",
    "- if there the statement is not inside a `try` statement or the exception doesn't match the `except` clause, Python checks the call stack to find if any caller function has a matched `try` statement.\n",
    "- if no caller function handles the exception, Python stops the program and prints traceback error message. This is a so-called __crash__."
   ]
  },
  {
   "cell_type": "markdown",
   "metadata": {
    "slideshow": {
     "slide_type": "slide"
    }
   },
   "source": [
    "### Catch All\n",
    "\n",
    "A `try` statement has a `try` clause and an `except` clause.\n",
    "\n",
    "Below the  `try:` clause, you can write statements in a code block that is protected by the try-clause.\n",
    "\n",
    "The statements in the `except` clause will be executed when an exception is raised in the protected clause.\n",
    "\n",
    "If there is no exception in the try-clause code block, the except-clause is skipped."
   ]
  },
  {
   "cell_type": "code",
   "execution_count": null,
   "metadata": {
    "slideshow": {
     "slide_type": "subslide"
    }
   },
   "outputs": [],
   "source": [
    "try:\n",
    "    # all statements in this block is protected\n",
    "    print('test exceptions')\n",
    "    1 / 0 # raise an exception\n",
    "except:\n",
    "    print(f'Unexpected exception, blame its developer.')\n"
   ]
  },
  {
   "cell_type": "markdown",
   "metadata": {
    "slideshow": {
     "slide_type": "subslide"
    }
   },
   "source": [
    "### Catch One Type\n",
    "\n",
    "You can only catch a specific type of exceptions in the except-clause. You can have an optional `as variable_name` to bind the caught exception instance to a variable.\n",
    "\n",
    "If there is an exception raised, Python will check if the exception matches with the exception type specified in the `except ExceptionType as variable_name:` clause. If there is a match, the code block in the except clause will be executed. Otherwise, the exception is uncaught and Python uses its built-in exception handling mechanism."
   ]
  },
  {
   "cell_type": "code",
   "execution_count": null,
   "metadata": {
    "slideshow": {
     "slide_type": "subslide"
    }
   },
   "outputs": [],
   "source": [
    "FILENAME = 'test.txt'\n",
    "\n",
    "try:\n",
    "    with open(FILENAME) as file: \n",
    "        pass # process file data here\n",
    "except OSError as error:\n",
    "    print(f'Unable to open file {FILENAME}. Error message: {error}')\n",
    "\n",
    "print('After the handling code, program keeps running')\n"
   ]
  },
  {
   "cell_type": "markdown",
   "metadata": {
    "slideshow": {
     "slide_type": "subslide"
    }
   },
   "source": [
    "### Optional `as`\n",
    "\n",
    "A file cannot be opened for many reasons: not found, no permission, time out errors etc. The `OSError` can be used to catch these errors and display a user friendly message. If you don't need the error message, you can ignore the `as variable_name` in the except clause. The code will be the following:"
   ]
  },
  {
   "cell_type": "code",
   "execution_count": null,
   "metadata": {},
   "outputs": [],
   "source": [
    "FILENAME = 'test.txt'\n",
    "\n",
    "try:\n",
    "    with open(FILENAME) as file: \n",
    "        pass # process file data here\n",
    "except OSError:\n",
    "    print(f'Unable to open file {FILENAME}')\n"
   ]
  },
  {
   "cell_type": "markdown",
   "metadata": {
    "slideshow": {
     "slide_type": "subslide"
    }
   },
   "source": [
    "### Catch Multiple Types\n",
    "\n",
    "If the code block in a try-clause has many operations, it could raise many different exceptions. You can use multiple except-clause to catch different exception types."
   ]
  },
  {
   "cell_type": "code",
   "execution_count": null,
   "metadata": {
    "slideshow": {
     "slide_type": "subslide"
    }
   },
   "outputs": [],
   "source": [
    "try:\n",
    "    # all statements in this block is protected\n",
    "    number_str = \"abc\"\n",
    "    number = int(number_str)\n",
    "except OSError as error:\n",
    "    print(f\"Unable to process {number_str}. Error message: {error}\")\n",
    "except ValueError:\n",
    "    print(f\"Value error message\")\n"
   ]
  },
  {
   "cell_type": "markdown",
   "metadata": {
    "slideshow": {
     "slide_type": "subslide"
    }
   },
   "source": [
    "### Catch Multiple Types and All\n",
    "\n",
    "Often the error handling is a mix of catching specific types and a catch-all.\n",
    "\n",
    "The order matters. Python will try to match the exception sequentially.\n",
    "\n",
    "You can use `sys.exc_info()` to get error information. "
   ]
  },
  {
   "cell_type": "code",
   "execution_count": null,
   "metadata": {
    "slideshow": {
     "slide_type": "subslide"
    }
   },
   "outputs": [],
   "source": [
    "import sys\n",
    "\n",
    "try:\n",
    "    # all statements in this block is protected\n",
    "    print('test exceptions')\n",
    "    1 / 0 # raise an exception\n",
    "except OSError as error:\n",
    "    print(f'Unable to open file {FILENAME}. Error message: {error}')\n",
    "except ValueError as error:\n",
    "    print(f'Value error message: {error}')\n",
    "except:\n",
    "    error = sys.exc_info()[0] # to get error info\n",
    "    print(f'Unexpected error: {error}')\n"
   ]
  },
  {
   "cell_type": "markdown",
   "metadata": {
    "slideshow": {
     "slide_type": "slide"
    }
   },
   "source": [
    "## `else` and `finally`\n",
    "\n",
    "In addition to catching exception, you want to run some statements for two scenarios:\n",
    "\n",
    "- if there is no exception: for example, write to success message only if there is no exceptions.\n",
    "- regardless of exception raised or not: it is very common that you want to do some cleanup tasks regardless no matter an exception is raised or not. For example, you should always close a file after use."
   ]
  },
  {
   "cell_type": "code",
   "execution_count": null,
   "metadata": {
    "slideshow": {
     "slide_type": "subslide"
    }
   },
   "outputs": [],
   "source": [
    "try:\n",
    "    print('normal code, no exception.')\n",
    "    1 / 0\n",
    "except:\n",
    "    print('skipped if no exception.')\n",
    "else:\n",
    "    print('executed when there is no exception.')\n",
    "finally:\n",
    "    print('always execute the finally code block.')\n"
   ]
  },
  {
   "cell_type": "markdown",
   "metadata": {
    "slideshow": {
     "slide_type": "slide"
    }
   },
   "source": [
    "## `raise` An Exception\n",
    "\n",
    "Python allows you to raise an exception if your code couldn't continue due to some run-time errors.\n",
    "\n",
    "If you cannot find an appropriate built-in exception type for the error, you can define customized exception classes.\n",
    "\n",
    "For example, in a division computation, you detect a divisor is `0` or an invalid number string, you may want to raise an exception because the program cannot run with this input."
   ]
  },
  {
   "cell_type": "code",
   "execution_count": null,
   "metadata": {
    "slideshow": {
     "slide_type": "subslide"
    }
   },
   "outputs": [],
   "source": [
    "def demo(count):\n",
    "    if count == 0:\n",
    "        raise ValueError(\"The count cannot be zero\")\n",
    "    else:\n",
    "        # continue process\n",
    "        ...\n"
   ]
  },
  {
   "cell_type": "markdown",
   "metadata": {
    "slideshow": {
     "slide_type": "subslide"
    }
   },
   "source": [
    "### Customize Exception\n",
    "\n",
    "You define an exception type for an application-specific error. If you write a library used by other code, it is often a good idea to define customized error type to hide the implementation details.\n",
    "\n",
    "You should define a subclass of `Exception` for exception types. The type should have the `Exception` as its name postfix.\n",
    "\n",
    "For Example, if the correct argument must be positive in your function, you can define an exception type for error values not in the range. "
   ]
  },
  {
   "cell_type": "code",
   "execution_count": null,
   "metadata": {
    "slideshow": {
     "slide_type": "subslide"
    }
   },
   "outputs": [],
   "source": [
    "class PositiveException(Exception):\n",
    "    \"\"\" The value should be between One and Ten inclusive \"\"\"\n",
    "\n",
    "    def __init__(self, message = \"Value must be positive\"):\n",
    "        self.message = message\n",
    "        super().__init__(self.message)\n",
    "\n",
    "\n",
    "def demo(count):\n",
    "    if count <= 0:\n",
    "        raise PositiveException()\n",
    "    else:\n",
    "        # continue process\n",
    "        ...\n",
    "\n",
    "demo(-1)\n"
   ]
  },
  {
   "cell_type": "markdown",
   "metadata": {
    "slideshow": {
     "slide_type": "slide"
    }
   },
   "source": [
    "## Summary\n",
    "\n",
    "As a beginner programmer, you need to understand the `try` statement and read other people's code.\n",
    "\n",
    "When you gain more experience, you will use it more. \n",
    "\n",
    "Nonetheless, the best exception handling strategy is \n",
    "\n",
    "- check the possible errors to avoid exceptions.\n",
    "- if you don't know how to handle an exception in a function, ignore it.\n",
    "- catch all exceptions in UI code to give user-friendly error message. For API, wrap an exception to hide internal implementation details."
   ]
  }
 ],
 "metadata": {
  "kernelspec": {
   "display_name": "Python 3",
   "language": "python",
   "name": "python3"
  },
  "language_info": {
   "codemirror_mode": {
    "name": "ipython",
    "version": 3
   },
   "file_extension": ".py",
   "mimetype": "text/x-python",
   "name": "python",
   "nbconvert_exporter": "python",
   "pygments_lexer": "ipython3",
   "version": "3.11.4"
  },
  "orig_nbformat": 4
 },
 "nbformat": 4,
 "nbformat_minor": 2
}
