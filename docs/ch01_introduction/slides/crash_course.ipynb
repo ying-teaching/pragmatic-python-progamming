{
 "cells": [
  {
   "cell_type": "markdown",
   "metadata": {
    "slideshow": {
     "slide_type": "slide"
    }
   },
   "source": [
    "# Python Crash Course\n",
    "\n",
    "> A language that doesn't affect the way you think about programming, is not worth knowing.\n",
    "> \n",
    "> -- Alan J. Perlis"
   ]
  },
  {
   "cell_type": "markdown",
   "metadata": {
    "slideshow": {
     "slide_type": "slide"
    }
   },
   "source": [
    "## Say \"Hello World!\"\n",
    "\n",
    "It is a tradition (since C programming language book)  to display `\"Hello World!\"` in a computer console (terminal). \n",
    "\n",
    "`print` is a Python built-in function name. A function performs some tasks. \n",
    "\n",
    "Here it prints the message (a string)  `\"Hello World!\"` to the console."
   ]
  },
  {
   "cell_type": "code",
   "execution_count": null,
   "metadata": {},
   "outputs": [],
   "source": [
    "print(\"Hello World\")"
   ]
  },
  {
   "cell_type": "markdown",
   "metadata": {
    "slideshow": {
     "slide_type": "slide"
    }
   },
   "source": [
    "## Function Call\n",
    "\n",
    "A function, like a computer, processes its input and performs some tasks.\n",
    "\n",
    "A function name followed by a pair of parentheses is a function call – the computer runs/executes the function. For example, `print(\"Hello World\")`\n",
    "\n",
    "The string `\"Hello World!\"` is the input to the print function.\n",
    "\n",
    "A string is written inside a pair of double quotes or a pair of single quotes.\n",
    "A pair of single quotes also works: `print('Hello World!')`."
   ]
  },
  {
   "cell_type": "markdown",
   "metadata": {
    "slideshow": {
     "slide_type": "slide"
    }
   },
   "source": [
    "## Python is Simple and Easy\n",
    "\n",
    "In Python: `print(\"Hello World!\")`\n",
    "\n",
    "In Java:\n",
    "\n",
    "```java\n",
    "public class Main\n",
    "{\n",
    "    public static void main(String[] args) {\n",
    "        System.out.println(\"Hello World\");\n",
    "    }\n",
    "}\n",
    "```"
   ]
  },
  {
   "cell_type": "markdown",
   "metadata": {
    "slideshow": {
     "slide_type": "slide"
    }
   },
   "source": [
    "## A Computer Can Compute\n",
    "\n",
    "It is a good idea to put a space before and after the `+` operator to make it easy to read.\n",
    "\n",
    "Python interpreter will ignore those spaces."
   ]
  },
  {
   "cell_type": "code",
   "execution_count": 2,
   "metadata": {},
   "outputs": [
    {
     "data": {
      "text/plain": [
       "5"
      ]
     },
     "execution_count": 2,
     "metadata": {},
     "output_type": "execute_result"
    }
   ],
   "source": [
    "2 + 3"
   ]
  },
  {
   "cell_type": "markdown",
   "metadata": {
    "slideshow": {
     "slide_type": "slide"
    }
   },
   "source": [
    "## Two Execution Modes\n",
    "\n",
    "You run Python code in one of two modes:\n",
    "\n",
    "### Interactive\n",
    "\n",
    "- Type and run code directly inside the Python Interpreter.\n",
    "- It is convenient to try small code snippets.\n",
    "\n",
    "### Script\n",
    "\n",
    "- Type code into a file (script file), then run the script file as `python3 filename.py`\n",
    "- It is used for most Python applications. However, you need I/O functions such as built-in function `print()` to see the output."
   ]
  },
  {
   "cell_type": "markdown",
   "metadata": {
    "slideshow": {
     "slide_type": "slide"
    }
   },
   "source": [
    "## More Computations\n",
    "\n",
    "Python supports common mathematic operations.\n",
    "\n",
    "Use `#` to mark a start of comments, either at the start of a line or middle of a line.\n",
    "\n",
    "Comments work as help text for developers. Python Ignores comments."
   ]
  },
  {
   "cell_type": "code",
   "execution_count": null,
   "metadata": {},
   "outputs": [],
   "source": [
    "# this is a comment, ignored by Python Script\n",
    "1 + 2\n",
    "\n",
    "5 - 3\n",
    "\n",
    "3 * 5 - 2\n",
    "\n",
    "7 / 5\n",
    "\n",
    "2 ** 10 # exponential\n",
    "\n",
    "7 // 5 # quotient\n",
    "\n",
    "7 % 5 # remainder"
   ]
  },
  {
   "cell_type": "markdown",
   "metadata": {
    "slideshow": {
     "slide_type": "slide"
    }
   },
   "source": [
    "## Operation Orders\n",
    "\n",
    "It is a best practice to use parenthesis for operation order."
   ]
  },
  {
   "cell_type": "code",
   "execution_count": null,
   "metadata": {},
   "outputs": [],
   "source": [
    "# they are optional here but better\n",
    "(3 * 5) - 2\n",
    "\n",
    "# subtraction before multiplication\n",
    "3 * (5 - 2)\n",
    "\n",
    "# the order of operation is not clear\n",
    "2 ** 3 ** 2\n",
    "\n",
    "# no ambiguity, pay attention to code format\n",
    "(2 ** 3) ** 2\n",
    "\n",
    "# no ambiguity\n",
    "2 ** (3 ** 2)"
   ]
  },
  {
   "cell_type": "markdown",
   "metadata": {
    "slideshow": {
     "slide_type": "slide"
    }
   },
   "source": [
    "## Complex Math\n",
    "\n",
    "Python put more math functions in the `math` module. A module is a Python file that provides multiple functions.\n",
    "\n",
    "You need to import it first before use.\n",
    "\n",
    "A function may return a value that can be used as an input to other functions."
   ]
  },
  {
   "cell_type": "code",
   "execution_count": null,
   "metadata": {},
   "outputs": [],
   "source": [
    "import math\n",
    "\n",
    "print(math.sqrt(2))\n",
    "\n",
    "print(math.log(2))"
   ]
  },
  {
   "cell_type": "markdown",
   "metadata": {
    "slideshow": {
     "slide_type": "slide"
    }
   },
   "source": [
    "## Python Functions\n",
    "\n",
    "There are three types of sources for Python functions:\n",
    "\n",
    "- Built-in: they are essential functions that are part of the Python programming language. You can call these functions directly.\n",
    "- Standard library: these are common functions that come with Python installation but you must `import` them before use them.\n",
    "- Installation packages: you need to download and install them online first, then `import` them before use. For example, all AI packages."
   ]
  },
  {
   "cell_type": "markdown",
   "metadata": {
    "slideshow": {
     "slide_type": "slide"
    }
   },
   "source": [
    "## Built-in Functions\n",
    "\n",
    "- Python has about 80 built-in functions such as “print”, “input”, “abs”, “sum” etc., for the very basic programming tasks required by almost all programs.\n",
    "- You can use these functions directly.\n",
    "- The operators such as “+”, “-”, “*” etc. are another type of built-in functions that are presented as natural math operations.\n",
    "- List of built-in functions: https://docs.python.org/3/library/functions.html "
   ]
  },
  {
   "cell_type": "markdown",
   "metadata": {
    "slideshow": {
     "slide_type": "slide"
    }
   },
   "source": [
    "## Standard Library\n",
    "\n",
    "- Python provides more functions in so-called standard library. \n",
    "- Functions are organized into service modules such as `math`,  `statistics`, `“os”`, `“time”` etc., that provide additional common functions.\n",
    "- You need to `import` a module first to use its functions.\n",
    "- You call the function using its module prefix such as `math.sqrt(2)`.\n",
    "- Documentation: https://docs.python.org/3/library/"
   ]
  },
  {
   "cell_type": "markdown",
   "metadata": {
    "slideshow": {
     "slide_type": "slide"
    }
   },
   "source": [
    "## Comparison\n",
    "\n",
    "The comparison result is a Boolean value that is either `True` or `False`"
   ]
  },
  {
   "cell_type": "code",
   "execution_count": null,
   "metadata": {},
   "outputs": [],
   "source": [
    "import math\n",
    "\n",
    "3 > 2\n",
    "\n",
    "3 == 2\n",
    "\n",
    "3 != 2\n",
    "(7 / 5) >= 1\n",
    "math.sqrt(3) > 2\n",
    "\n",
    "# can be chained\n",
    "2 > math.sqrt(3) > math.sqrt(2)"
   ]
  },
  {
   "cell_type": "markdown",
   "metadata": {
    "slideshow": {
     "slide_type": "slide"
    }
   },
   "source": [
    "## Logical Operations\n",
    "\n",
    "There are three basic logical operations: `not`, `and`, and `or`.\n",
    "\n",
    "These operations work on boolean values and the results are either `True` or `False`."
   ]
  },
  {
   "cell_type": "code",
   "execution_count": null,
   "metadata": {},
   "outputs": [],
   "source": [
    "not (3 == 2)\n",
    "\n",
    "not (3 != 2)\n",
    "\n",
    "(3 > 2) and ((7 / 5) > 3)\n",
    "\n",
    "(3 == 2) or (3 >= 2)"
   ]
  },
  {
   "cell_type": "markdown",
   "metadata": {
    "slideshow": {
     "slide_type": "slide"
    }
   },
   "source": [
    "## CPU\n",
    "\n",
    "All a computer can do is rather simple arithmetic and logic operations\n",
    "\n",
    "- A core component of a CPU is called ALU: Arithmetic and Logic Unit\n",
    "- Essentially, a computer performs arithmetic and logic operations on binary data.\n",
    "\n",
    "All complex functions such as scientific calculation, image processing, and AI are based on these arithmetic and logic operations.\n",
    "\n",
    "![CPU](../images/cpu.png)"
   ]
  },
  {
   "cell_type": "markdown",
   "metadata": {
    "slideshow": {
     "slide_type": "slide"
    }
   },
   "source": [
    "## Literals Are Not Enough\n",
    "\n",
    "- So far, the operation data are *literals* such as numbers:  `5`, `3` or text `\"Hello World!\"`\n",
    "- But you need something when you want to\n",
    "  - Name a data !!! \n",
    "  - Store the result of an operation\n",
    "  - Use a short reference in multiple places\n",
    "  - Refer a non-existing data from input "
   ]
  },
  {
   "cell_type": "markdown",
   "metadata": {
    "slideshow": {
     "slide_type": "slide"
    }
   },
   "source": [
    "## Variables\n",
    "\n",
    "A Python variable is a symbolic name that is a reference to a data.\n",
    "\n",
    "Examples:\n",
    "\n",
    "- Name a data: `pi = 3.141592653589793`\n",
    "- Store the result of an operation: `diameter = 2 * radius`\n",
    "- Use a short reference in multiple places: `circumference = pi * diameter`\n",
    "- Refer a non-existing data from input: `radius_input = input(\"Please input radius: \")`"
   ]
  },
  {
   "cell_type": "markdown",
   "metadata": {
    "slideshow": {
     "slide_type": "slide"
    }
   },
   "source": [
    "## A Simple Program"
   ]
  },
  {
   "cell_type": "code",
   "execution_count": null,
   "metadata": {},
   "outputs": [],
   "source": [
    "pi = 3.14159\n",
    "\n",
    "# display a message and take user input\n",
    "radius_input = input(\"Please input radius: \")\n",
    "\n",
    "# convert input string into a float number\n",
    "radius = float(radius_input)\n",
    "\n",
    "diameter = 2 * radius\n",
    "circumference = pi * diameter\n",
    "\n",
    "print(circumference)"
   ]
  },
  {
   "cell_type": "markdown",
   "metadata": {
    "slideshow": {
     "slide_type": "slide"
    }
   },
   "source": [
    "## Create a Python Program\n",
    "\n",
    "You create a program by writing a code/script file.\n",
    "\n",
    "Python code file has a `.py`  postfix.\n",
    "\n",
    "A script file usually has multiple lines.\n",
    "\n",
    "Python runs the script file line by line, from top to the bottom.\n",
    "\n",
    "IDE (Integrated Development Environment) such as VS Code provides syntax highlight and checks code errors."
   ]
  },
  {
   "cell_type": "markdown",
   "metadata": {
    "slideshow": {
     "slide_type": "slide"
    }
   },
   "source": [
    "## Better Output\n",
    "\n",
    "You can use an *f-string* (formatted string literals) to create a text string from variables.\n",
    "\n",
    "An f-string is created by prefixing the string with `f` or `F` and writing variable as `{variable}`.\n",
    "\n",
    "For example: \n",
    "- `f\"The circumference of radius {radius} is {circumference}.\"`\n",
    "\n",
    "You can also add format modifiers: \n",
    "\n",
    "- `f\"The circumference of radius {radius:.2f} is {circumference:.4f}.\"`\n",
    "- The `:.2f` is a format modifier that shows `2` places after the decimal."
   ]
  },
  {
   "cell_type": "code",
   "execution_count": null,
   "metadata": {
    "slideshow": {
     "slide_type": "subslide"
    }
   },
   "outputs": [],
   "source": [
    "import math\n",
    "# display a message and take user input\n",
    "radius_input = input(\"Please input radius: \")\n",
    "# convert input text into a float number\n",
    "radius = float(radius_input)\n",
    "diameter = 2 * radius\n",
    "\n",
    "# Python has a predefined pi variable in the math module\n",
    "circumference = math.pi * diameter\n",
    "print(f\"The circumference of radius {radius:.2f} is {circumference:.4f}.\")"
   ]
  },
  {
   "cell_type": "markdown",
   "metadata": {
    "slideshow": {
     "slide_type": "slide"
    }
   },
   "source": [
    "## Life is Not Linear\n",
    "\n",
    "You want take different actions based on different conditions/assumptions.\n",
    "\n",
    "Python uses an *indentation* (4 spaces) to mark a *code block*. \n",
    "\n",
    "Python runs a code block if its above condition is True.\n",
    "\n",
    "Go back to same level as the if statement."
   ]
  },
  {
   "cell_type": "code",
   "execution_count": null,
   "metadata": {
    "slideshow": {
     "slide_type": "subslide"
    }
   },
   "outputs": [],
   "source": [
    "# display a message and take user input\n",
    "score_input = input(\"Please input your score: \")\n",
    "\n",
    "# convert input text into an integer\n",
    "score = int(score_input)\n",
    "if score >= 900:\n",
    "    # nice\n",
    "    grade = \"A\"\n",
    "elif score >= 800:\n",
    "    # ok\n",
    "    grade = \"B\"\n",
    "else:\n",
    "    # too bad\n",
    "    grade = \"C\"\n",
    "\n",
    "# back to normal\n",
    "result = f\"Grade is {grade}.\"\n",
    "print(result)"
   ]
  },
  {
   "cell_type": "markdown",
   "metadata": {
    "slideshow": {
     "slide_type": "slide"
    }
   },
   "source": [
    "## Life is Full of Repetitions\n",
    "\n",
    "You keep studying and practicing until ...\n",
    "\n",
    "Python code is easy to understand even if it is the first time you see the following code.\n",
    "\n",
    "A code block may have more than one lines of code at the same indentation level. They are executed top-down."
   ]
  },
  {
   "cell_type": "code",
   "execution_count": null,
   "metadata": {
    "slideshow": {
     "slide_type": "subslide"
    }
   },
   "outputs": [],
   "source": [
    "score_input = input(\"Please input your score: \")\n",
    "score = int(score_input)\n",
    "\n",
    "while score < 900:\n",
    "    print(\"Please keep studying and practicing....\")\n",
    "    score_input = input(\"Please input new score: \")\n",
    "    score = int(score_input)\n",
    "\n",
    "# back to normal \n",
    "print(\"Great, you made it!\")"
   ]
  },
  {
   "cell_type": "markdown",
   "metadata": {
    "slideshow": {
     "slide_type": "slide"
    }
   },
   "source": [
    "## It is Turing Complete\n",
    "\n",
    "You have learned all the fundamental programming concepts:\n",
    "\n",
    "- Variables\n",
    "- Sequential execution\n",
    "- Branch (if else)\n",
    "- Loop (while …)"
   ]
  },
  {
   "cell_type": "markdown",
   "metadata": {
    "slideshow": {
     "slide_type": "slide"
    }
   },
   "source": [
    "## Real World is Complex\n",
    "\n",
    "You need to deal with many many types of compound data:\n",
    "\n",
    "- A class has 50 students.\n",
    "- Each student has name, age, major, and GPA.\n",
    "- An AI model may use billions of record.\n",
    "- ..."
   ]
  },
  {
   "cell_type": "markdown",
   "metadata": {
    "slideshow": {
     "slide_type": "slide"
    }
   },
   "source": [
    "## List\n",
    "\n",
    "A sequence of values can be written as a list of comma separated items: in a pair of square brackets.\n",
    "\n",
    "You can access an item by its index number in a pair of square brackets, starting from 0.\n",
    "\n",
    "If the index is out of range, your code crashes with an IndexError exception"
   ]
  },
  {
   "cell_type": "code",
   "execution_count": null,
   "metadata": {},
   "outputs": [],
   "source": [
    "scores = [930, 790, 367, 827]\n",
    "grades = [\"A\", \"B\", \"C\", \"D\", \"F\"]\n",
    "\n",
    "print(scores[0])\n",
    "print(grades[4])\n",
    "print(grades[6])"
   ]
  },
  {
   "cell_type": "markdown",
   "metadata": {
    "slideshow": {
     "slide_type": "slide"
    }
   },
   "source": [
    "## For Loop\n",
    "\n",
    "Python has a `for` loop to iterate over a list of items."
   ]
  },
  {
   "cell_type": "code",
   "execution_count": null,
   "metadata": {},
   "outputs": [],
   "source": [
    "scores = [930, 790, 367, 827]\n",
    "# in each iteration of this for loop\n",
    "# the score is assigned the next value in the list\n",
    "# starting from index 0 to the last one.\n",
    "for score in scores:\n",
    "    if score >= 900:\n",
    "        print(f\"Great, you got an A.\")\n",
    "    else:\n",
    "        difference = 900 - score\n",
    "        print(f\"You need {difference} points to get an A.\")\n",
    "\n",
    "print(\"Done.\")"
   ]
  },
  {
   "cell_type": "markdown",
   "metadata": {
    "slideshow": {
     "slide_type": "slide"
    }
   },
   "source": [
    "## Dictionary\n",
    "\n",
    "A dictionary has a set of items.\n",
    "\n",
    "Each item is a pair of `key: value`."
   ]
  },
  {
   "cell_type": "code",
   "execution_count": null,
   "metadata": {
    "slideshow": {
     "slide_type": "subslide"
    }
   },
   "outputs": [],
   "source": [
    "# a dictionary has a comma-separated list of key:value pairs within the braces\n",
    "student = {\"Name\": \"Alice\", \"Age\": 20, \"Major\": \"IS\"}\n",
    "\n",
    "# use a key to read or change a dictionary value\n",
    "print(student[\"Name\"])\n",
    "student[\"Age\"] = 21\n",
    "print(student[\"Age\"])\n",
    "\n",
    "# access every key and its value\n",
    "for key in student.keys():\n",
    "    message = f\"Key {key} has a value of {student[key]}\"\n",
    "    print(message)"
   ]
  },
  {
   "cell_type": "markdown",
   "metadata": {
    "slideshow": {
     "slide_type": "slide"
    }
   },
   "source": [
    "## Define a Function\n",
    "\n",
    "You want define a function that can be reused for different reasons:\n",
    "\n",
    "- No redundant code. \n",
    "- Function name shows its purpose.\n",
    "- It can  be used in other places.\n"
   ]
  },
  {
   "cell_type": "code",
   "execution_count": null,
   "metadata": {
    "slideshow": {
     "slide_type": "subslide"
    }
   },
   "outputs": [],
   "source": [
    "import math\n",
    "# define a function with a parameter radius\n",
    "# the body is a code block to do the real work\n",
    "def get_circumference(radius):\n",
    "    diameter = 2 * radius\n",
    "    circumference = math.pi * diameter\n",
    "    return circumference\n",
    "\n",
    "radiuses = [1, 5, 10]\n",
    "for radius in radiuses:\n",
    "    # here the radius is the argument of the function call\n",
    "    circumference = get_circumference(radius)\n",
    "    print(f\"The circumference is {circumference:.4f}.\")\n"
   ]
  },
  {
   "cell_type": "markdown",
   "metadata": {
    "slideshow": {
     "slide_type": "slide"
    }
   },
   "source": [
    "## Function Concepts\n",
    "\n",
    "- Functions name: describe the purpose of the function. \n",
    "- Function call:  execute the function by appending a pair of parentheses after the function name.\n",
    "- Parameters: zero, one or more inputs used by the function body.\n",
    "- Arguments: the actual input data used in function call.\n",
    "- Function body: the code block in function definition. It is executed in function call.\n",
    "- Return value: the output of a function call."
   ]
  },
  {
   "cell_type": "markdown",
   "metadata": {
    "slideshow": {
     "slide_type": "slide"
    }
   },
   "source": [
    "## Objects and Types\n",
    "\n",
    "In Python, all data are *objects*.\n",
    "\n",
    "Every object has a *type* that determines the valid operations of the object.\n",
    "\n",
    "You can use built-in function *type()* to get an object’s type. For example: "
   ]
  },
  {
   "cell_type": "code",
   "execution_count": null,
   "metadata": {},
   "outputs": [],
   "source": [
    "type(\"hi\") # <class 'str'>\n",
    "type(3) # <class 'int'>"
   ]
  },
  {
   "cell_type": "markdown",
   "metadata": {
    "slideshow": {
     "slide_type": "slide"
    }
   },
   "source": [
    "## Method and Attribute\n",
    "\n",
    "Function defined inside a type is called a *method*.  You call a method using the *dot notation*. \n",
    "\n",
    "An object may contain data that is called an *attribute*. You use a dot notation to access an attribute. \n",
    "\n",
    "For example, the `math` module is an object that has an object called `pi`\n"
   ]
  },
  {
   "cell_type": "code",
   "execution_count": 5,
   "metadata": {},
   "outputs": [
    {
     "name": "stdout",
     "output_type": "stream",
     "text": [
      "Hi\n",
      "3.141592653589793\n"
     ]
    }
   ],
   "source": [
    "print(\"hi\".title())\n",
    "\n",
    "import math\n",
    "\n",
    "print(math.pi) "
   ]
  },
  {
   "cell_type": "markdown",
   "metadata": {
    "slideshow": {
     "slide_type": "slide"
    }
   },
   "source": [
    "## Computational/Algorithmic Thinking\n",
    "\n",
    "- Arithmetic and logic operations\n",
    "- Variables\n",
    "- Control flow\n",
    "  - Sequential execution\n",
    "  - Branch: if ... else ...\n",
    "  - Loop: for, while\n",
    "- Composite data\n",
    "- Function\n",
    "- Type (method and attribute)"
   ]
  },
  {
   "cell_type": "markdown",
   "metadata": {
    "slideshow": {
     "slide_type": "slide"
    }
   },
   "source": [
    "## That's It\n",
    "\n",
    "- These are essential constructs of any programming language.\n",
    "- Everything else is nice/bad-to-have optional: they are there to provide handy functions.\n",
    "\n",
    "- You will learn more details get a deep understanding of this concepts.\n",
    "- You will learn other nice-to-have options."
   ]
  }
 ],
 "metadata": {
  "kernelspec": {
   "display_name": "Python 3",
   "language": "python",
   "name": "python3"
  },
  "language_info": {
   "codemirror_mode": {
    "name": "ipython",
    "version": 3
   },
   "file_extension": ".py",
   "mimetype": "text/x-python",
   "name": "python",
   "nbconvert_exporter": "python",
   "pygments_lexer": "ipython3",
   "version": "3.12.0"
  },
  "orig_nbformat": 4
 },
 "nbformat": 4,
 "nbformat_minor": 2
}
