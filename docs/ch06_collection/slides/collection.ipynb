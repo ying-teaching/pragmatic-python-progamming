{
 "cells": [
  {
   "cell_type": "markdown",
   "metadata": {
    "slideshow": {
     "slide_type": "slide"
    }
   },
   "source": [
    "# Collection\n",
    "\n",
    "People often need to deal with a collection of objects in a consistent way.\n",
    "\n",
    "Python provides three types of language constructs to support collection operation:\n",
    "\n",
    "- built-in collection types that can contain multiple elements\n",
    "- creating new collections from existing ones\n",
    "- creating classes that contain data collection"
   ]
  },
  {
   "cell_type": "markdown",
   "metadata": {
    "slideshow": {
     "slide_type": "subslide"
    }
   },
   "source": [
    "## Data Types\n",
    "- sequence\n",
    "  - `str`: an immutable sequence of characters.\n",
    "  - `list`: a mutable sequence of any objects.\n",
    "  - `tuple`: an immutable sequence of objects.\n",
    "- set\n",
    "  - `set`: a mutable unordered collection of unique objects.\n",
    "- mapping\n",
    "  - `dict`: a mutable mapping of key and value pairs."
   ]
  },
  {
   "cell_type": "markdown",
   "metadata": {
    "slideshow": {
     "slide_type": "subslide"
    }
   },
   "source": [
    "## Comparison\n",
    "\n",
    "| Features | List\t| Tuple | Dictionary |\tSet |\n",
    "| --- | --- | --- | --- | -- |\n",
    "| Eample\t| [1, 2, 3] | ('apple', 3) | {'name': 'Alice', 'age': 7} | {2, 4} |\n",
    "| Mutable? |\tMutable\t | Immutable |\tMutable |\tMutable |\n",
    "| Mutable element? | Yes | Yes | Key: No, Value: yes | No |\n",
    "| Ordered? |\tOrdered\t | Ordered | Preserves order since Python 3.7 | Unordered |\n",
    "| Search time |\tO(n) |\tO(n) |\tO(1) |\tO(1) | "
   ]
  },
  {
   "cell_type": "markdown",
   "metadata": {
    "slideshow": {
     "slide_type": "subslide"
    }
   },
   "source": [
    "## When to use which?\n",
    "\n",
    "- List: a mutable sequence of ordered data\n",
    "- Tuple: an immutable sequence of ordered data\n",
    "- Dictonary: accessing data by its key\n",
    "- Set: a collection of unique, unordered data"
   ]
  },
  {
   "cell_type": "markdown",
   "metadata": {
    "slideshow": {
     "slide_type": "subslide"
    }
   },
   "source": [
    "## Creating New Collections From Existing Ones\n",
    "\n",
    "Python provides two convenient constructs to create new collections:\n",
    "\n",
    "- List/set/dictionary comprehension\n",
    "- Generator expression\n",
    "\n",
    "Many times, these constructs make your program simple and efficient."
   ]
  },
  {
   "cell_type": "markdown",
   "metadata": {
    "slideshow": {
     "slide_type": "slide"
    }
   },
   "source": [
    "## 1 String\n",
    "\n",
    "A string is a sequence of characters.\n",
    "\n",
    "A string is an immutable object. \n",
    "\n",
    "A programmer creates a string literal by surrounding text with single or double quotes, such as `'MARY'`, `\"MARY\"`, `'41'`, or `\"41\"`.\n",
    "\n",
    "An empty string is a sequence type with 0 elements, created with a pair of single/double quotes. Ex: `my_str = \"\"` or `my_str=''`.\n",
    "\n",
    "Python use backslash `\\` to escape special characters. For example: `\"\\n\"` represents a newline character. It is also used to escape a slash or quotation symbols. For example: `\"a slash \\\\ and an escaped \\\" double quotation mark.`"
   ]
  },
  {
   "cell_type": "markdown",
   "metadata": {
    "slideshow": {
     "slide_type": "subslide"
    }
   },
   "source": [
    "### 1.1 Built-in String Operations\n",
    "\n",
    "A programmer can access a character at a specific index using `alphabet[index]`. `index` starts from `0` and ends with `len(alphabet) - 1`.\n",
    "\n",
    "The `len()` built-in function can be used to find the length of a string (and any other sequence type).\n",
    "\n",
    "Use `+` to concatenate two strings.\n",
    "\n",
    "Use `in` to determine if a character or a substring exists in a string. It returns `True` or `False`\n",
    "\n",
    "Use `for` loop to iterate every character."
   ]
  },
  {
   "cell_type": "code",
   "execution_count": null,
   "metadata": {
    "slideshow": {
     "slide_type": "subslide"
    }
   },
   "outputs": [],
   "source": [
    "text = \"Hello World\"\n",
    "\n",
    "print(len(text))  # 11\n",
    "\n",
    "print (text + \" to every one.\") # Hello World to every one.\n",
    "\n",
    "print(\"H\" in text, \"hi\" in text) # True False\n",
    "\n",
    "for char in text:\n",
    "    print(char, end=\" \")    \n",
    "# H e l l o   W o r l d \n"
   ]
  },
  {
   "cell_type": "markdown",
   "metadata": {
    "slideshow": {
     "slide_type": "subslide"
    }
   },
   "source": [
    "### 1.2 Slicing\n",
    "\n",
    "Python has a special slicing syntax `sequence[start:stop:step]` to get a subset of a sequence.\n",
    "\n",
    "- `start`: optional, starting index of the slice.\n",
    "- `stop`: the last index (exclusive) of the slide or the number of items to get. It is optional with a default to `len(sequence)` if the `start` argument is specified.\n",
    "- `step`: optional, the step value with a default of `1`.\n",
    "\n",
    "You can slice a string to get another string. \n",
    "\n",
    "You can also use slicing syntax in other sequence types that works similarly."
   ]
  },
  {
   "cell_type": "code",
   "execution_count": null,
   "metadata": {
    "slideshow": {
     "slide_type": "subslide"
    }
   },
   "outputs": [],
   "source": [
    "text = \"hello world\"\n",
    "\n",
    "print(text[2]) # regular index: \"l\"\n",
    "print(text[2:]) # from index 2 to end: \"llo world\"\n",
    "print(text[0:3]) # first three: \"hel\"\n",
    "print(text[::4]) # every fourth character: \"hor\"\n",
    "print(text[3::2]) # from index 3, every other characters: \"l ol\"\n"
   ]
  },
  {
   "cell_type": "markdown",
   "metadata": {
    "slideshow": {
     "slide_type": "subslide"
    }
   },
   "source": [
    "### 1.3 Common String Methods\n",
    "\n",
    "Because string is an immutable object, any method that changes the string content will create a new string.\n",
    "\n",
    "Following are some examples:"
   ]
  },
  {
   "cell_type": "code",
   "execution_count": null,
   "metadata": {
    "slideshow": {
     "slide_type": "subslide"
    }
   },
   "outputs": [],
   "source": [
    "hi = \"Hi\"\n",
    "text = \"hello world\"\n",
    "\n",
    "# find the index of the first occurrence of a substring, -1 if not found\n",
    "print(text.find('o')) # 4\n",
    "print(text.find(\"alice\")) # -1\n",
    "\n",
    "# Lower case, upper case and title case\n",
    "print(hi.lower()) # hi\n",
    "print(text.upper()) # HELLO WORLD\n",
    "print(text.title()) # Hello World\n",
    "\n",
    "# split a string into a list by the specified separator string\n",
    "# default is white space\n",
    "print(text.split()) # [\"hello\", \"world\"]\n",
    "print(text.split(\"ll\"))  # [\"he\", \"o world\"]\n",
    "\n",
    "# replace a substr with another substr\n",
    "print(hi.replace('i', 'a')) # Ha\n",
    "print(text.replace(\"world\", \"alice\")) # hello alice\n",
    "\n",
    "# join a list of strings together with the desired separator string\n",
    "print(\", \".join([\"alice\", \"bob\", \"cindy\"])) # alice, bob, cindy\n"
   ]
  },
  {
   "cell_type": "markdown",
   "metadata": {
    "slideshow": {
     "slide_type": "slide"
    }
   },
   "source": [
    "## 2 List\n",
    "\n",
    "A _list_ is a sequential container (similar to a string) object that contains a number of elements. The objects in an list are called _elements_ or _items_ of the list. \n",
    "\n",
    "It is a mutable object whose value is changed in place.\n",
    "\n",
    "List elements can be in different types, but it is a best practice to put same-type elements into a list."
   ]
  },
  {
   "cell_type": "markdown",
   "metadata": {
    "slideshow": {
     "slide_type": "subslide"
    }
   },
   "source": [
    "### 2.1 Creating A List\n",
    "\n",
    "There are two common ways to create a list. \n",
    "\n",
    "First, you can create a list literally by listing elements in brackets and separating by commas.\n",
    "\n",
    "Second, Python has a built-in `list()` function that can convert certain types of objects to lists."
   ]
  },
  {
   "cell_type": "code",
   "execution_count": null,
   "metadata": {
    "slideshow": {
     "slide_type": "subslide"
    }
   },
   "outputs": [],
   "source": [
    "# create a list from literals\n",
    "some_numbers = [3, 5 ,7]\n",
    "names = ['Alice', 'Bob', 'Cindy']\n",
    "# elements can be of different types - not recommended\n",
    "some_data = [3, 'Alice', 12.5] \n",
    "\n",
    "# use list() function\n",
    "generated_numbers = list(range(3, 8, 2))\n",
    "letters = list('abc')\n",
    "\n",
    "# print can print a list directly\n",
    "print(generated_numbers)\n",
    "print(letters)\n"
   ]
  },
  {
   "cell_type": "markdown",
   "metadata": {
    "slideshow": {
     "slide_type": "subslide"
    }
   },
   "source": [
    "### 2.2 Basic Operations\n",
    "\n",
    "A list has a sequence of elements. A basic requirement is to access one element, all elements or some elements.\n",
    "\n",
    "- one element: index\n",
    "- all elements: loop\n",
    "- some elements: slice"
   ]
  },
  {
   "cell_type": "markdown",
   "metadata": {
    "slideshow": {
     "slide_type": "subslide"
    }
   },
   "source": [
    "### 2.2.1 Index\n",
    "\n",
    "Each element in a list has an index associated with it, starting from `0`.\n",
    "\n",
    "The first element has an index of `0`, the second element has an index of `1`, and so on and so forth. \n",
    "\n",
    "If the index is out of range, Python raises an `IndexError` exception.\n",
    "\n",
    "The last element has an index of the list length minus `1`.\n",
    "\n",
    "You can use negative index numbers to access elements from the end of the list. For example, `-1` identifies the last element in a list, `-2` identifies the next to last element, and so on an so forth.\n",
    "\n",
    "The index syntax is to put an index in a pair of brackets, right after the list variable name."
   ]
  },
  {
   "cell_type": "code",
   "execution_count": null,
   "metadata": {},
   "outputs": [],
   "source": [
    "numbers = [3, 5 ,7]\n",
    "\n",
    "print(numbers[0], numbers[1], numbers[2])\n",
    "\n",
    "print(numbers[-1], numbers[-2], numbers[-3])\n",
    "\n",
    "# oops, IndexError if the index is out of range\n",
    "print(numbers[5])\n"
   ]
  },
  {
   "cell_type": "markdown",
   "metadata": {
    "slideshow": {
     "slide_type": "subslide"
    }
   },
   "source": [
    "### 2.2.2 Unpack a List\n",
    "\n",
    "You can unpack a tuple and assign its elements to different variables.\n",
    "\n",
    "You can prefix the last variable with a `*` to match multiple elements of a list.\n",
    "\n",
    "Use `_` if you don't need the elements."
   ]
  },
  {
   "cell_type": "code",
   "execution_count": null,
   "metadata": {},
   "outputs": [],
   "source": [
    "numbers = [1, 2, 3, 4, 5]\n",
    "first, second, *rest = numbers\n",
    "print(first, second, rest) # 1 2 [3, 4, 5]\n",
    "\n",
    "first, _, third, *_ = numbers\n",
    "print(first, third) # 1, 3\n",
    "\n",
    "first, second, *_ = numbers\n",
    "print(first, second) # 1, 2\n",
    "\n",
    "first, *_, last = numbers\n",
    "print(first, last) # 1, 5\n"
   ]
  },
  {
   "cell_type": "markdown",
   "metadata": {
    "slideshow": {
     "slide_type": "subslide"
    }
   },
   "source": [
    "### 2.2.3 Accessing All Elements\n",
    "\n",
    "You can loop (iterate) over a list to access all its elements.\n",
    "\n",
    "Both `for` and `while` loops can be used, but the Pythonic way is using `for` because it is less error-prone and simpler than `while` loop.\n",
    "\n",
    "When you need the element index, the Pythonic way is to use built-in `enumerate()` functions."
   ]
  },
  {
   "cell_type": "code",
   "execution_count": null,
   "metadata": {
    "slideshow": {
     "slide_type": "subslide"
    }
   },
   "outputs": [],
   "source": [
    "numbers = list(range(3, 8, 2))\n",
    "\n",
    "# use for\n",
    "for number in numbers:\n",
    "    doubled = number * 2\n",
    "    print(f'Double element {number} is {doubled}')\n",
    "\n",
    "# use enumerator if you need the index\n",
    "for index, number in enumerate(numbers):\n",
    "    print(f'Index: {index}, Value: {number}')\n",
    "\n",
    "# Not recommended\n",
    "length = len(numbers)\n",
    "for index in range(length):\n",
    "    print(f'Index: {index}, Value: {numbers[index]}')\n",
    "\n",
    "# Not recommended\n",
    "index = 0\n",
    "while index < len(numbers):\n",
    "    print(f'Index: {index}, Value: {numbers[index]}')\n",
    "    index += 1\n"
   ]
  },
  {
   "cell_type": "markdown",
   "metadata": {
    "slideshow": {
     "slide_type": "subslide"
    }
   },
   "source": [
    "### 2.2.4 Slicing a List\n",
    "\n",
    "A `slice` is a span of items taken from a list. It is used to select some elements from a list. To slice a list, you use the `list_name[start : end : step]` to specify the start index and end index of a list. Like the `range` syntax, it doesn't include the `end` index. Following are some examples:"
   ]
  },
  {
   "cell_type": "code",
   "execution_count": null,
   "metadata": {
    "slideshow": {
     "slide_type": "subslide"
    }
   },
   "outputs": [],
   "source": [
    "days = ['Mon', 'Tue', 'Wed', 'Thu', 'Fri', 'Sat', 'Sun']\n",
    "\n",
    "# index from 0 to 5, excluding 5\n",
    "weekday = days[0:5] \n",
    "print(f'Weekdays are: {weekday}')\n",
    "\n",
    "# default start is 0\n",
    "weekday2 = days[:5] \n",
    "print(f'Weekdays version 2 are: {weekday}')\n",
    "\n",
    "weekends = days[5:7]\n",
    "print(f'Weekends are {weekends}')\n",
    "\n",
    "# default end is the length\n",
    "weekends2 = days[5:] \n",
    "print(f'Weekends version 2 are {weekends}')\n",
    "\n",
    "odd_days = days[::2] \n",
    "print(f'Odd days are {odd_days}')\n"
   ]
  },
  {
   "cell_type": "markdown",
   "metadata": {
    "slideshow": {
     "slide_type": "subslide"
    }
   },
   "source": [
    "### 2.3 List and Built-in Operations\n",
    "\n",
    "Python has several built-in operators and functions working with a list.\n",
    "\n",
    "- Operators\n",
    "  - `in`: check if an item is a list element.\n",
    "  - `not in`: check if an item is not a list element.\n",
    "  - `+`: combine two lists\n",
    "  - `*`: repeat a list for a number of times\n",
    "  - `del`: delete an element from a list\n",
    "- Functions\n",
    "  - `len`: get the length of a list\n",
    "  - `min`: get the minimum element of a list\n",
    "  - `max`: get the maximum element of a list\n",
    "  - `sum`: get the sum of number elements of a list"
   ]
  },
  {
   "cell_type": "code",
   "execution_count": null,
   "metadata": {
    "slideshow": {
     "slide_type": "subslide"
    }
   },
   "outputs": [],
   "source": [
    "days = ['Mon', 'Tue', 'Wed', 'Thu', 'Fri', 'Sat', 'Sun']\n",
    "weekday = days[:5] \n",
    "today = 'Thu'\n",
    "\n",
    "is_weekday = today in weekday\n",
    "print(f'Today is {today}. Is weekday: {is_weekday}')\n",
    "is_weekend = today not in weekday\n",
    "print(f'Today is {today}. Is weekend: {is_weekend}')\n",
    "\n",
    "tens = [10, 20, 30]\n",
    "hundreds = [500, 600, 700]\n",
    "all = tens + hundreds\n",
    "print(all)\n",
    "\n",
    "repeated_tens = tens * 3\n",
    "print(repeated_tens)\n",
    "\n",
    "numbers = [3, 5, 7]\n",
    "length = len(numbers)\n",
    "smallest = min(numbers)\n",
    "biggest = max(numbers)\n",
    "total = sum(numbers)\n",
    "print(f'Length: {length}, Min: {smallest}, Max: {biggest}, Sum: {total}')\n"
   ]
  },
  {
   "cell_type": "markdown",
   "metadata": {
    "slideshow": {
     "slide_type": "subslide"
    }
   },
   "source": [
    "### 2.4 List Methods\n",
    "\n",
    "Lists have numerous methods that you can use to manipulate a list.\n",
    "\n",
    "You use `list_name.method_name()` to call a method that work on a list.\n",
    "\n",
    "It is important to differentiate an in-place modification and an operation that returns a new list. Both `+` and slicing return a new list."
   ]
  },
  {
   "cell_type": "markdown",
   "metadata": {
    "slideshow": {
     "slide_type": "subslide"
    }
   },
   "source": [
    "### Method Examples\n",
    "\n",
    "- `list_name.append(element)`: add an element to the end of the list. \n",
    "- `list.extend(iterable)`: extend the list from an iterable object. An `iterable` object is a collection object that you can apply the `for` loop. For example, `range(5)` is an iterable object.\n",
    "- `list_name.index(element)`: find the first index of an element, raise a `ValueError` if the item is not found. To avoid exception, use `element in list_name` to check the existence first.\n",
    "- `list_name.insert(index, element)`: insert an item at the specified index.\n",
    "- `list.pop()`: remove the last element, `list.pop(index)`, remove the element at the `index` position.  \n",
    "- `list_name.sort()`: sort the items in the list.\n",
    "\n",
    "You can find more list methods in [Python List Document](https://docs.python.org/3/tutorial/datastructures.html)."
   ]
  },
  {
   "cell_type": "code",
   "execution_count": null,
   "metadata": {
    "slideshow": {
     "slide_type": "subslide"
    }
   },
   "outputs": [],
   "source": [
    "numbers = [3, 5, 7]\n",
    "n2 = numbers\n",
    "n3 = numbers[:2]\n",
    "numbers.append(42) \n",
    "print(numbers) # [3, 5, 7, 42]\n",
    "\n",
    "if (5 in numbers):\n",
    "    print(numbers.index(5)) # 1\n",
    "\n",
    "\n",
    "numbers.insert(1, 50)\n",
    "print(numbers) # [3, 50, 5, 7, 42]\n",
    "\n",
    "numbers.sort()\n",
    "print(numbers) # [3, 5, 7, 42, 50]\n",
    "print(n2)\n",
    "print(n3)\n"
   ]
  },
  {
   "cell_type": "markdown",
   "metadata": {
    "slideshow": {
     "slide_type": "subslide"
    }
   },
   "source": [
    "### 2.5 Nested List\n",
    "\n",
    "A list can have other lists as its elements. There is nothing special for nested lists, you just use the index to access each element in a list. For example:"
   ]
  },
  {
   "cell_type": "code",
   "execution_count": null,
   "metadata": {
    "slideshow": {
     "slide_type": "fragment"
    }
   },
   "outputs": [],
   "source": [
    "numbers = [1, [2, 3], [4, 5, 6]]\n",
    "numbers[1].append(42)\n",
    "del numbers[2][2]\n",
    "print(numbers)\n"
   ]
  },
  {
   "cell_type": "markdown",
   "metadata": {
    "slideshow": {
     "slide_type": "subslide"
    }
   },
   "source": [
    "### 2.6 List as Mutable Argument\n",
    "\n",
    "Be _careful_ when you pass a list as an argument to a function because the list is a mutable object.\n",
    "\n",
    "If the function changes the list value in the function body, the passed-in object changes because an argument is just an alias to the object.\n",
    "\n",
    "It is a best practice that you should not change a mutable argument in a function body. If there is a need, make a copy of the object.\n",
    "\n",
    "However, if elements of a list are mutable, for example, nested lists, you need a deep copy. Check [Python copy document](https://docs.python.org/3/library/copy.html?highlight=deep%20copy) for more details."
   ]
  },
  {
   "cell_type": "code",
   "execution_count": null,
   "metadata": {
    "slideshow": {
     "slide_type": "subslide"
    }
   },
   "outputs": [],
   "source": [
    "def report_sum(numbers):\n",
    "    numbers.append(10)\n",
    "    print(sum(numbers))\n",
    "\n",
    "scores = [3, 5, 7]\n",
    "print(f\"before call scores are {scores}\")\n",
    "\n",
    "report_sum(scores)\n",
    "print(f\"after call scores are {scores}\")\n",
    "\n",
    "def report_sum2(numbers):\n",
    "    new_numbers = numbers.copy()\n",
    "    new_numbers.append(10)\n",
    "    print(sum(new_numbers))\n",
    "\n",
    "scores = [3, 5, 7]\n",
    "print(f\"before call scores are {scores}\")\n",
    "\n",
    "report_sum2(scores)\n",
    "print(f\"after call scores are {scores}\")\n"
   ]
  },
  {
   "cell_type": "markdown",
   "metadata": {
    "slideshow": {
     "slide_type": "subslide"
    }
   },
   "source": [
    "### 2.7 A Stack\n",
    "\n",
    "A stack is a data structure that stores elements in an last in, first out (LIFO) manner. For example, Python runtime uses stack to manage calls -- named as a _call stack_. A stack supports two basic methods: \n",
    "\n",
    "- `append` that adds an element to the top of a stack. The operation is often called `push`\n",
    "- `pop` that pops an element from the top of a stack.\n",
    "\n",
    "When using a list to implement a stack, the _top_ is the end of a list. You can `append` (also called push in stack) an element and `pop` an element. Both operate at the end of a list."
   ]
  },
  {
   "cell_type": "code",
   "execution_count": null,
   "metadata": {
    "slideshow": {
     "slide_type": "subslide"
    }
   },
   "outputs": [],
   "source": [
    "numbers = [1, 2, 3]\n",
    "numbers.append(37)\n",
    "numbers.append(42)\n",
    "top = numbers.pop()\n",
    "print(top)\n"
   ]
  },
  {
   "cell_type": "markdown",
   "metadata": {
    "slideshow": {
     "slide_type": "slide"
    }
   },
   "source": [
    "## 3 Tuple\n",
    "\n",
    "A tuple consists of a number of values separated by commas.\n",
    "\n",
    "A tuple is an immutable object.\n",
    "\n",
    "Tuple is often used to represent a short sequence of data that have different data types. For example, returning multiple values as a tuple."
   ]
  },
  {
   "cell_type": "markdown",
   "metadata": {
    "slideshow": {
     "slide_type": "subslide"
    }
   },
   "source": [
    "### Tuple Operations\n",
    "\n",
    "The tuple operations are similar to the list operation, except that it doesn't support any write operation because it is immutable.\n",
    "\n",
    "You access tuple by index or slicing.\n",
    "\n",
    "You can unpack a tuple and assign its elements to different variables.\n",
    "\n",
    "You can use built-in operator (such as `+`, `==` etc) and built-in functions (such as `len()`, `max()`) and so on with tuple."
   ]
  },
  {
   "cell_type": "code",
   "execution_count": null,
   "metadata": {
    "slideshow": {
     "slide_type": "subslide"
    }
   },
   "outputs": [],
   "source": [
    "# create a tuple \n",
    "person1 = \"Alice\", 19\n",
    "print(person1[0]) # Alice\n",
    "\n",
    "# you can create a tuple in parentheses\n",
    "person2 = (\"Bob\", 20)\n",
    "\n",
    "person1 == person2 # False\n",
    "\n",
    "name, age = person1\n",
    "print(name, age) # Alice, 19\n",
    "\n",
    "# an empty tuple\n",
    "empty = ()\n",
    "\n",
    "# a tuple with one element\n",
    "one = 1,\n",
    "\n",
    "numbers = 1, 2, 3, 4, 5\n",
    "print(numbers[0]) # 1\n",
    "print(numbers[::2]) # (1, 3, 5)\n",
    "print(max(numbers)) # 5\n",
    "\n",
    "first, second, *rest = numbers\n",
    "print(first, second, rest)\n",
    "\n",
    "first, _ = numbers\n",
    "print(first) # 1\n"
   ]
  },
  {
   "cell_type": "markdown",
   "metadata": {
    "slideshow": {
     "slide_type": "subslide"
    }
   },
   "source": [
    "### Tuple Is Immutable, But\n",
    "\n",
    "Tuple is a collection of elements.\n",
    "\n",
    "Actually it contains a collection of element _references_. The number and the position of references are immutable.\n",
    "\n",
    "However, if the reference points to a mutable object such as a list, the list data can be changed.\n",
    "\n",
    "You can see that a tuple is an immutable structure, but its value may change."
   ]
  },
  {
   "cell_type": "code",
   "execution_count": null,
   "metadata": {
    "slideshow": {
     "slide_type": "subslide"
    }
   },
   "outputs": [],
   "source": [
    "alice = \"Alice\", [3, 4, 5]\n",
    "alice[1].append(42)\n",
    "print(alice) # ('Alice', [3, 4, 5, 42])\n",
    "\n",
    "# however, you cannot using the assignment to change tuple element\n",
    "# both give TypeError:  you cannot using the assignment to change tuple element\n",
    "alice[0] = \"Bob\"\n",
    "alice[1] += 42\n"
   ]
  },
  {
   "cell_type": "markdown",
   "metadata": {
    "slideshow": {
     "slide_type": "slide"
    }
   },
   "source": [
    "## 4 Set\n",
    "\n",
    "A set is an _unordered_ collection of _unique_ elements. Sets have the following properties:\n",
    "\n",
    "- unordered: Elements in the set do not have a position or index.\n",
    "- unique: No elements in the set share the same value.\n",
    "- immutable elements: all elements are immutable.\n",
    "\n",
    "Built-in operators and functions work with a set like a list or tuple.\n",
    "\n",
    "You can use `for` loop to iterate all elements of a set, though the order might change for different runs.\n",
    "\n",
    "But you don't access individual set elements as you do with a list or a tuple.\n",
    "\n",
    "You often use `in` operator to check membership. Set is unique in its support of many set operations like union, intersection, difference, and symmetric difference."
   ]
  },
  {
   "cell_type": "markdown",
   "metadata": {
    "slideshow": {
     "slide_type": "subslide"
    }
   },
   "source": [
    "### 4.1 Create a Set\n",
    "\n",
    "There are two ways to create a set:\n",
    "\n",
    "- using a `{}` to include a sequence of object separated by `,`\n",
    "- using `set()` operation to create a set from another sequential data like a list or a tuple.\n",
    "  - you can only use `set()` to create an empty set because `{}` is used for empty dictionary."
   ]
  },
  {
   "cell_type": "code",
   "execution_count": null,
   "metadata": {},
   "outputs": [],
   "source": [
    "fruits = {\"apple\", \"orange\", \"banana\"}\n",
    "\n",
    "numbers = {1, 2, 3, 2, 3, 5}  # set removes duplicated elements\n",
    "print(numbers) # 1, 2, 3, 5\n",
    "\n",
    "odds = set(range(1, 6, 2))\n",
    "print(odds) # 1, 3, 5\n"
   ]
  },
  {
   "cell_type": "markdown",
   "metadata": {
    "slideshow": {
     "slide_type": "subslide"
    }
   },
   "source": [
    "### 4.2 Immutable Elements in Set\n",
    "\n",
    "Set is kind of special because it is an mutable object but all its elements must be immutable.\n",
    "\n",
    "For example, the following code raises a `TypeError` because a list is a mutable object. Technically, Python cannot run `hash` operation on an mutable object.\n",
    "\n",
    "The tuple version works because a tuple is immutable. "
   ]
  },
  {
   "cell_type": "code",
   "execution_count": 5,
   "metadata": {
    "slideshow": {
     "slide_type": "fragment"
    }
   },
   "outputs": [],
   "source": [
    "odds = [1, 3, 5]\n",
    "evens = [2, 4]\n",
    "\n",
    "# TypeError because mutable object\n",
    "my_set = {odds, evens}\n"
   ]
  },
  {
   "cell_type": "code",
   "execution_count": null,
   "metadata": {
    "slideshow": {
     "slide_type": "fragment"
    }
   },
   "outputs": [],
   "source": [
    "# now it works\n",
    "odds_2 = (1, 3, 5)\n",
    "evens_2 = (2, 4)\n",
    "my_set = {odds_2, evens_2}\n"
   ]
  },
  {
   "cell_type": "markdown",
   "metadata": {
    "slideshow": {
     "slide_type": "subslide"
    }
   },
   "source": [
    "### 4.3 Set Operations\n",
    "\n",
    "Using `in` or `not in` operator to check membership.\n",
    "\n",
    "You can add or remove elements.\n",
    "\n",
    "Set supports most set operations like like union, intersection, difference, and symmetric difference."
   ]
  },
  {
   "cell_type": "code",
   "execution_count": null,
   "metadata": {
    "slideshow": {
     "slide_type": "subslide"
    }
   },
   "outputs": [],
   "source": [
    "fruits = {\"apple\", \"orange\", \"banana\"}\n",
    "print(\"apple\" in fruits) # True\n",
    "print(\"kiwi\" in fruits) # False\n",
    "\n",
    "fruits.add('kiwi') \n",
    "fruits.add(\"apple\") # redundant, ignored \n",
    "fruits.remove(\"apple\")\n",
    "\n",
    "more_fruits = {\"kiwi\", \"pear\"}\n",
    "\n",
    "print(fruits) # {'banana', 'kiwi', 'orange'}\n",
    "print(more_fruits) # {'pear', 'kiwi'}\n",
    "\n",
    "# union\n",
    "print(fruits | more_fruits) # {'orange', 'banana', 'pear', 'kiwi'}\n",
    "# difference\n",
    "print(fruits - more_fruits) # {'orange', 'banana'}\n"
   ]
  },
  {
   "cell_type": "markdown",
   "metadata": {
    "slideshow": {
     "slide_type": "slide"
    }
   },
   "source": [
    "## 5 Dictionary\n",
    "\n",
    "A dictionary is an _unordered_ collection of elements where each element has two parts: a key and a value. Or you can say that an element is a key-value pair.\n",
    "\n",
    "The key can be any object as long as it is _immutable_. Common key types include `int` and `string`.\n",
    "\n",
    "People use dictionaries to store key-value pairs thus it is easy to find out a value. For example, you use `student_id` to retrieve a student object."
   ]
  },
  {
   "cell_type": "markdown",
   "metadata": {
    "slideshow": {
     "slide_type": "subslide"
    }
   },
   "source": [
    "### 5.1 Create a Dictionary\n",
    "\n",
    "You use `{}` to create a dictionary. The `{}` creates an empty dictionary. You can use a dictionary variable as a boolean expression to check if it is empty. To create elements, create a sequence of `key: value` pairs separated by `,`.\n",
    "\n",
    "Another approach to create a dictionary is using the built-in `dict()` function. The argument is a sequence of key-value pairs. If the keys are simple string, you can call it using keyword arguments. "
   ]
  },
  {
   "cell_type": "code",
   "execution_count": null,
   "metadata": {
    "slideshow": {
     "slide_type": "subslide"
    }
   },
   "outputs": [],
   "source": [
    "empty_dict = {}\n",
    "print(empty_dict)\n",
    "\n",
    "students = {90: 'Alice', 27: 'Bob', 50: 'Cindy'}\n",
    "print(students)\n",
    "\n",
    "more_students = {90: 'Alice', 27: 'Bob', 90: 'Cindy', 200: 'Mike'}\n",
    "print(more_students)\n",
    "\n",
    "\n",
    "# use the dict() built-in function\n",
    "students = dict([(90, 'alice'),  (27,  'bob')])\n",
    "print(students)\n",
    "\n",
    "my_dict = dict(A='alice', B='Bob')\n",
    "print(my_dict)\n"
   ]
  },
  {
   "cell_type": "markdown",
   "metadata": {
    "slideshow": {
     "slide_type": "subslide"
    }
   },
   "source": [
    "### 5.2 Read or Write a Dictionary Element\n",
    "\n",
    "You uses the `dictionary_name[key]` to access an individual element.\n",
    "\n",
    "You can read or update the value in the key-value pair. There is no way to change the key because it is immutable.\n",
    "\n",
    "Be careful, there are two cases that could be wrong in using dictionaries: \n",
    "\n",
    "- A non exist key throws a `KeyError` exception. To avoid it, use `get` method with a specified default value. For example: `students.get(42, 'Unknown')`\n",
    "- when the `dictionary_name[key]` is on the left hand side, you set a new value for an existing key or create a new key-value pair if the key doesn't exist. Any typo in the key name could be a big bug."
   ]
  },
  {
   "cell_type": "code",
   "execution_count": null,
   "metadata": {
    "slideshow": {
     "slide_type": "subslide"
    }
   },
   "outputs": [],
   "source": [
    "students = {90: 'Alice', 27: 'Bob', 50: 'Cindy'}\n",
    "\n",
    "# read a value for a key\n",
    "name_with_id_90 = students[90]\n",
    "print(name_with_id_90)\n",
    "\n",
    "# change a value for a key\n",
    "students[90] = 'Mike'\n",
    "print(students[90])\n",
    "\n",
    "# add a new key-value pair because 97 doesn't exist\n",
    "students[97] = 'Bill'\n",
    "print(students)\n",
    "\n",
    "# reading a value for a non-exist key throws a KeyError exception\n",
    "name_nobody = students[404]\n"
   ]
  },
  {
   "cell_type": "markdown",
   "metadata": {
    "slideshow": {
     "slide_type": "subslide"
    }
   },
   "source": [
    "### 5.3 Other Operations\n",
    "\n",
    "The built-in `len` function tells how many elements in a dictionary.\n",
    "\n",
    "The `in` and `not in` operators test whether a key exists in a dictionary.\n",
    "\n",
    "The `del` operator delete a key-value pair from a dictionary if the specified key exists, otherwise, it throws a `KeyError` exception. The syntax is `del dictionary_name[key]`. To avoid exception, use `in` to make sure the key is there before `del`."
   ]
  },
  {
   "cell_type": "code",
   "execution_count": null,
   "metadata": {
    "slideshow": {
     "slide_type": "subslide"
    }
   },
   "outputs": [],
   "source": [
    "month_days = {'Jan': 31, 'Apr': 30, 'Jul': 31}\n",
    "\n",
    "print(f'It has {len(month_days)} elements')\n",
    "\n",
    "if 'Jan' in month_days:\n",
    "    print('Jan is in the dictionary')\n",
    "\n",
    "if 'Feb' not in month_days:\n",
    "    print('Feb is not in the dictionary')\n",
    "\n",
    "\n",
    "if 'Jan' in month_days:\n",
    "    del month_days['Jan']\n",
    "    print(month_days)\n",
    "\n",
    "# throw a KeyError exception because the key doesn't exist\n",
    "del month_days['Jan']\n",
    "print(month_days)\n"
   ]
  },
  {
   "cell_type": "markdown",
   "metadata": {
    "slideshow": {
     "slide_type": "subslide"
    }
   },
   "source": [
    "### 5.4 Iterate a Dictionary\n",
    "\n",
    "- You can use `for key in dictionary_name:` to iterate over all keys of a dictionary. Then you use `dictionary_name[key]` to access each value.\n",
    "- The `items` method returns a sequence of key-value pairs. Therefore, you can use `for key, value in dictionary_name.items():` to iterate over a dictionary.\n",
    "- The `values()` method returns all values. Don't assume any order of the return values!\n",
    "- The `keys()` method returns all keys."
   ]
  },
  {
   "cell_type": "code",
   "execution_count": null,
   "metadata": {
    "slideshow": {
     "slide_type": "subslide"
    }
   },
   "outputs": [],
   "source": [
    "month_days = {\"Jan\": 31, \"Apr\": 30, \"Jul\": 31}\n",
    "\n",
    "for month in month_days:\n",
    "    print(f'{month} has {month_days[month]} days')\n",
    "\n",
    "\n",
    "for month, days in month_days.items():\n",
    "    print(f'{month} has {days} days')\n",
    "\n",
    "days_sequence = month_days.values()\n",
    "for days in days_sequence:\n",
    "    print(days, end=' ')\n",
    "print()\n",
    "\n",
    "for key in month_days.keys():\n",
    "    print(f'Month key is {key}', end='; ')\n",
    "print()\n"
   ]
  },
  {
   "cell_type": "markdown",
   "metadata": {
    "slideshow": {
     "slide_type": "subslide"
    }
   },
   "source": [
    "### 5.5 More Methods\n",
    "\n",
    "The dictionary has more methods. The following is a list of commonly-used methods. Try them.\n",
    "\n",
    "- `clear`: clear all elements\n",
    "- `pop`: return the value and remove the key-value pair. For example: `month_days.pop(\"Jan\")`.\n",
    "- `popitem`: remove the latest inserted element the dictionary, return the removed element. For example: `month_days.popitem()`.\n",
    "\n",
    "You can also use built-in `del` operator to remove a key-value pair without return value. For example: `del month_days[\"Jan\"]`\n",
    "\n",
    "Exercise: please write a phone book program that lets users to input and query phone book by first name or phone number. The search should be case-insensitive. "
   ]
  },
  {
   "cell_type": "markdown",
   "metadata": {
    "slideshow": {
     "slide_type": "slide"
    }
   },
   "source": [
    "## 6 Creating New Collections From Existing Ones\n",
    "\n",
    "Python provides two convenient constructs to create new collections:\n",
    "\n",
    "- List/set/dictionary comprehension: create a list/set/dictionary from an iterable object.\n",
    "- Generator expression: create an iterable object from a sequence object.\n",
    "\n",
    "An `iterable` object is a collection object or something that you can apply the `for` loop. For example, `range(5)` is an iterable object.\n",
    "\n",
    "The advantage of `iterable` is that it is __lazy__, generating one value at a time. `range(1_000_000_000)` doesn't create one billion numbers when it is initialized, it generate one number in each `for` loop. Thus it doesn't need memory for all numbers."
   ]
  },
  {
   "cell_type": "markdown",
   "metadata": {
    "slideshow": {
     "slide_type": "subslide"
    }
   },
   "source": [
    "### 6.1 Motivation\n",
    "\n",
    "When you want to create a list from a sequence with simple computation, you can use a list comprehension to simplify the code.\n",
    "\n",
    "For example, to create a list of square roots from the first 5 integers, you can use either of the following code snippets:"
   ]
  },
  {
   "cell_type": "code",
   "execution_count": null,
   "metadata": {},
   "outputs": [],
   "source": [
    "import math \n",
    "\n",
    "roots = []\n",
    "for number in range(5):\n",
    "    roots.append(math.sqrt(number))\n",
    "\n",
    "print(roots)\n"
   ]
  },
  {
   "cell_type": "code",
   "execution_count": null,
   "metadata": {},
   "outputs": [],
   "source": [
    "import math\n",
    "\n",
    "numbers = range(5)\n",
    "\n",
    "# you need to use list() to get the list result\n",
    "roots = list(map(math.sqrt, numbers))\n",
    "print(roots)\n"
   ]
  },
  {
   "cell_type": "markdown",
   "metadata": {
    "slideshow": {
     "slide_type": "subslide"
    }
   },
   "source": [
    "### 6.2 List Comprehension\n",
    "\n",
    "Python let you use list comprehension to simplify the code. The list comprehension has a syntax like `[expression for member in iterable]`. "
   ]
  },
  {
   "cell_type": "code",
   "execution_count": null,
   "metadata": {},
   "outputs": [],
   "source": [
    "import math\n",
    "\n",
    "roots = [math.sqrt(number) for number in range(5)]\n",
    "\n",
    "print(roots)\n"
   ]
  },
  {
   "cell_type": "markdown",
   "metadata": {
    "slideshow": {
     "slide_type": "subslide"
    }
   },
   "source": [
    "### 6.3 Filtering Elements\n",
    "\n",
    "You can use list comprehension with an additional `if condition` construct to filter out the elements."
   ]
  },
  {
   "cell_type": "code",
   "execution_count": null,
   "metadata": {},
   "outputs": [],
   "source": [
    "lower_letters = [char for char in \"Hello World\" if char.islower()]\n",
    "print(lower_letters) # ['e', 'l', 'l', 'o', 'o', 'r', 'l', 'd']\n"
   ]
  },
  {
   "cell_type": "markdown",
   "metadata": {
    "slideshow": {
     "slide_type": "subslide"
    }
   },
   "source": [
    "### 6.4 Set and Dictionary Comprehensions\n",
    "\n",
    "Similar to a list comprehension, you can create a set or a dictionary from an iterable object.\n",
    "\n",
    "Just replace the square bracket `[]` with the curly braces `{}`."
   ]
  },
  {
   "cell_type": "code",
   "execution_count": null,
   "metadata": {},
   "outputs": [],
   "source": [
    "lower_letters = {char for char in \"Hello World\" if char.islower()}\n",
    "print(lower_letters) # {'d', 'e', 'r', 'l', 'o'}\n",
    "\n",
    "\n",
    "squares = { number: number * number for number in range(5)}\n",
    "print(squares) # {0: 0, 1: 1, 2: 4, 3: 9, 4: 16}\n"
   ]
  },
  {
   "cell_type": "markdown",
   "metadata": {
    "slideshow": {
     "slide_type": "slide"
    }
   },
   "source": [
    "## 7 Generator Object\n",
    "\n",
    "A generator object is an iterable object that you can use in a `for` loop.\n",
    "\n",
    "Python has a keyword `yield` that creates a _generator object_ that returns one value in each iteration of the `for` loop.\n",
    "\n",
    "The following function is a _generator function_ that returns a generator object."
   ]
  },
  {
   "cell_type": "code",
   "execution_count": null,
   "metadata": {},
   "outputs": [],
   "source": [
    "def squares(size):\n",
    "    for number in range(size):\n",
    "        yield number * number\n",
    "\n",
    "\n",
    "five_squares = [square for square in squares(5)]\n",
    "print(five_squares) # [0, 1, 4, 9, 16]\n"
   ]
  },
  {
   "cell_type": "markdown",
   "metadata": {
    "slideshow": {
     "slide_type": "subslide"
    }
   },
   "source": [
    "### 7.1 Why Generator?\n",
    "\n",
    "The reason for having generator function and generator objects is the so-called _lazy_ computation.\n",
    "\n",
    "Suppose that you have one billion data records, it is impossible or inefficient to load all records into the computer memory. The lazy computation that load and process one record at a time has many benefits:\n",
    "\n",
    "- you can show some result/progress when the first item is processed.\n",
    "- you don't need a large memory to hold all records.\n",
    "- you might stop processing the rest of data for certain conditions."
   ]
  },
  {
   "cell_type": "markdown",
   "metadata": {
    "slideshow": {
     "slide_type": "subslide"
    }
   },
   "source": [
    "### 7.2 Generator Expression\n",
    "\n",
    "Instead of using a generator function, you can use a generator expression to create a generator object from an iterable object.\n",
    "\n",
    "The syntax is similar to list/set comprehension, just use `()` in place of `[]`.\n",
    "\n",
    "If the source iterable object is a generator object, the iterator expression is also a generator object that is computed one at a time - a **lazy** operation."
   ]
  },
  {
   "cell_type": "code",
   "execution_count": null,
   "metadata": {},
   "outputs": [],
   "source": [
    "squares = (number * number for number in range(5))\n",
    "for square in squares:\n",
    "    print(square, end=\", \") \n",
    "\n",
    "# output: 0, 1, 4, 9, 16, \n"
   ]
  }
 ],
 "metadata": {
  "kernelspec": {
   "display_name": "Python 3.10.6 64-bit",
   "language": "python",
   "name": "python3"
  },
  "language_info": {
   "codemirror_mode": {
    "name": "ipython",
    "version": 3
   },
   "file_extension": ".py",
   "mimetype": "text/x-python",
   "name": "python",
   "nbconvert_exporter": "python",
   "pygments_lexer": "ipython3",
   "version": "3.11.4"
  },
  "metadata": {
   "interpreter": {
    "hash": "aee8b7b246df8f9039afb4144a1f6fd8d2ca17a180786b69acc140d282b71a49"
   }
  },
  "orig_nbformat": 2,
  "vscode": {
   "interpreter": {
    "hash": "949777d72b0d2535278d3dc13498b2535136f6dfe0678499012e853ee9abcab1"
   }
  }
 },
 "nbformat": 4,
 "nbformat_minor": 2
}
