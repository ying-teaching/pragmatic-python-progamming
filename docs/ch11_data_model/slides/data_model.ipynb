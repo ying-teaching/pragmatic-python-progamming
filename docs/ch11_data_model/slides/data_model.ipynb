{
 "cells": [
  {
   "cell_type": "markdown",
   "metadata": {
    "slideshow": {
     "slide_type": "slide"
    }
   },
   "source": [
    "# Python\n",
    "\n",
    "The first sentence of [The Python Tutorial](https://docs.python.org/3/tutorial/index.html)\n",
    "\n",
    "> Python is an easy to learn, powerful programming language.\n",
    "\n",
    "Part of the reason for this claim is that [Python Data Model](https://docs.python.org/3/reference/datamodel.html) defines the interfaces of the building blocks (constructs) of the language itself.\n",
    "\n",
    "Why? What? How?"
   ]
  },
  {
   "cell_type": "markdown",
   "metadata": {
    "slideshow": {
     "slide_type": "slide"
    }
   },
   "source": [
    "##  Python Data Model\n",
    "\n",
    "- Overview\n",
    "- Special Methods\n",
    "  - Scalar Value: Number and Boolean\n",
    "  - Collection\n",
    "  - Syntax: Callable and Loop\n",
    "- meta-programming\n",
    "  - Attribute\n",
    "  - Class"
   ]
  },
  {
   "cell_type": "markdown",
   "metadata": {
    "slideshow": {
     "slide_type": "slide"
    }
   },
   "source": [
    "## Overview\n",
    "\n",
    "- Motivation\n",
    "- Language Constructs\n",
    "- What is Python Data Model?\n",
    "- Pythonic Style"
   ]
  },
  {
   "cell_type": "markdown",
   "metadata": {
    "slideshow": {
     "slide_type": "subslide"
    }
   },
   "source": [
    "### Motivation\n",
    "\n",
    "There are three basic requirements in the design of a programming language:\n",
    "\n",
    "- Consistent: it is easy to predict the behaviors of a construct.\n",
    "- Composable: constructs can be selected and assembled in various combinations to enable desired behaviors.\n",
    "- Open: developers can create new types that work in the same way as the built-in types and standard library types."
   ]
  },
  {
   "cell_type": "markdown",
   "metadata": {
    "slideshow": {
     "slide_type": "subslide"
    }
   },
   "source": [
    "### Language Constructs\n",
    "\n",
    "- Data\n",
    "    - Atomic types and composite types (sequence, mapping, and set)\n",
    "    - Built-in types and new types (Classes)\n",
    "- Operations\n",
    "    - built-in operators such as `+`, `-`, `>=`, list index `[]`, function call `()`, and so on.\n",
    "    - built-in functions such as `len()`, `repr()`, `bool()`, etc.\n",
    "    - user defined functions\n",
    "- Program Control Structure: specific syntax for statements, branches and loops. For example:\n",
    "    - `for` loop statement or `with` context manager statement.\n",
    "    - work with user defined types\n",
    "- Meta programming: write code that generate code"
   ]
  },
  {
   "cell_type": "markdown",
   "metadata": {
    "slideshow": {
     "slide_type": "subslide"
    }
   },
   "source": [
    "### What is Python Data Model?\n",
    "\n",
    "Python *data model* is the set of APIs that defines the interfaces of the language constructs that satisfies the three basic requirements:\n",
    "\n",
    "- consistent: it is standardized by Python language specification and PEPs.\n",
    "- Composable: the APIs work well with each other.\n",
    "- Open: new objects fit well with the Python language syntax.\n",
    "\n",
    "It is defined in Python Language Reference [Data Model](https://docs.python.org/3/reference/datamodel.html)."
   ]
  },
  {
   "cell_type": "markdown",
   "metadata": {
    "slideshow": {
     "slide_type": "subslide"
    }
   },
   "source": [
    "### Pythonic Style\n",
    "\n",
    "> \"There should be one-- and preferably only one --obvious way to do it.\"  - The Zen of Python\n",
    "\n",
    "Python promotes an idiomatic coding style, the so-called *Pythonic* style, that leverages Python data model and demonstrates idiomatic language features.\n",
    "\n",
    "For example, to find an object's length, you use the built-in `len()` function, not a function like `length()`/`size()`, or a method like `my_object.len()` or `my_object.size()`.\n",
    "\n",
    "Every Python developers should be familiar with common Python idioms. Following are two resources:\n",
    "\n",
    "- [Python Programming/Idioms](https://en.wikibooks.org/wiki/Python_Programming/Idioms)\n",
    "- [Idiomatic Python](https://intermediate-and-advanced-software-carpentry.readthedocs.io/en/latest/idiomatic-python.html)"
   ]
  },
  {
   "cell_type": "markdown",
   "metadata": {
    "slideshow": {
     "slide_type": "subslide"
    }
   },
   "source": [
    "### Common Python Idioms: List Comprehension and Generator Expression\n",
    "\n",
    "As described in [Python Docs](https://docs.python.org/3/howto/functional.html#generator-expressions-and-list-comprehensions), two common operations on an iterator’s output are\n",
    "\n",
    "- performing some operation on every element\n",
    "- selecting a subset of elements that meet some condition.\n",
    "\n",
    "List comprehensions and generator expressions (short form: `listcomp` and `genexp`) are a concise notation for such operations, borrowed from the functional programming language `Haskell`.\n",
    "\n",
    "- use `liscomp` for small data collection that can be created in one call.\n",
    "- use `genexps` for large data sets or you don't need all the values at once."
   ]
  },
  {
   "cell_type": "code",
   "execution_count": null,
   "metadata": {
    "slideshow": {
     "slide_type": "subslide"
    }
   },
   "outputs": [],
   "source": [
    "# list comprehension: create a list all at once\n",
    "# to  create  a list of squares of numbers from 0 to 9\n",
    "result1 = []\n",
    "for i in range(10):\n",
    "    result1.append(i * i)\n",
    "\n",
    "# using list comprehension - a common idiom in python\n",
    "result2 = [i * i for i in range(10)]"
   ]
  },
  {
   "cell_type": "code",
   "execution_count": null,
   "metadata": {
    "slideshow": {
     "slide_type": "subslide"
    }
   },
   "outputs": [],
   "source": [
    "# using a generator expression: computes the values as necessary (lazy evaluation)\n",
    "\n",
    "weights = [0.1, 0.2, 0]\n",
    "inputs = [8.5, 0.65, 1.2]\n",
    "bias = 2\n",
    "\n",
    "sum1 = 0\n",
    "for weight, input in zip(weights, inputs):\n",
    "    sum1 += weight * input\n",
    "\n",
    "sum1 += bias\n",
    "\n",
    "# using a generator expression, generate a pair each time when needed\n",
    "# good for large data sets or you don't need all the values at once\n",
    "wi_in_gen = (weight * input for weight, input in zip(weights, inputs))\n",
    "\n",
    "# now all values are needed, one by one\n",
    "sum2 = sum(wi_in_gen, bias)\n",
    "\n",
    "print(sum1, sum2)  # 2.98 2.98"
   ]
  },
  {
   "cell_type": "code",
   "execution_count": null,
   "metadata": {
    "slideshow": {
     "slide_type": "subslide"
    }
   },
   "outputs": [],
   "source": [
    "import random\n",
    "\n",
    "TEN_MILLION = 10**7\n",
    "# Generator expression to create one million random numbers between 1 and 100\n",
    "# just a generator expression, no numbers are generated yet\n",
    "random_numbers = (random.randint(1, 100) for _ in range(TEN_MILLION))\n",
    "\n",
    "# Display the first 10 numbers - only generate the first 10 numbers\n",
    "first_ten = [next(random_numbers) for _ in range(10)]\n",
    "print(first_ten)"
   ]
  },
  {
   "cell_type": "markdown",
   "metadata": {
    "slideshow": {
     "slide_type": "slide"
    }
   },
   "source": [
    "## Python Data Model: Special Methods\n",
    "\n",
    "The Python data model is a set of APIs. The APIs are defined as a set of standard *special methods*.\n",
    "\n",
    "All special methods follow a special naming style: starting and ending with double underscores: `__*__`. They are known as `dunder` (double underscore) methods.\n",
    "\n",
    "Developers *should not* create or use any `dunder` identifier not standardized by the language reference because they are subject to breakage without warning in future Python versions.\n",
    "\n",
    "In a Python interpreter, built-in functions, operators, and special syntax invoke these special class methods to perform data operations."
   ]
  },
  {
   "cell_type": "markdown",
   "metadata": {
    "slideshow": {
     "slide_type": "subslide"
    }
   },
   "source": [
    "### Build-in Functions\n",
    "\n",
    "`len()` invokes the `__len__()` method to get the length/size of an object.\n",
    "\n",
    "`repr()` invokes the `__repr__()` method to compute the string representation (serialized string) of an object. It is used by developer for debugging purpose.\n",
    "\n",
    "`str()`, `format()`, and `print()` invokes `__str__()` method to compute a user friendly representation of an object. The default implementation of `object` calls `object.__repr__()`."
   ]
  },
  {
   "cell_type": "markdown",
   "metadata": {
    "slideshow": {
     "slide_type": "subslide"
    }
   },
   "source": [
    "### Built-in Operators\n",
    "\n",
    "`+` invokes the `__add__()` method on its left operand. If the first operand doesn't define the `__add__()` method, it invokes `__radd__()` method of the right operand. If both are not defined, it returns `NotImplemented` exception.\n",
    "\n",
    "`==` invokes the `__eq__()` method. By default, object implements __eq__() by using `is` that checks if two references point to the same object. In most cases, this is not what you want and you should implement the `__eq__()` method. \n",
    "\n",
    "`self[key]` invokes `self.__getitem__(self, key)` for sequence type where `key` is an integer and mapping type where `key` is any immutable value.\n",
    "\n",
    "Method call `self(...)` invokes `self.__call__(self, ...)`. If a class defines `__call__(self, ...)` method, its instances are callable using syntax `instance(...)`."
   ]
  },
  {
   "cell_type": "markdown",
   "metadata": {
    "slideshow": {
     "slide_type": "subslide"
    }
   },
   "source": [
    "### Special Syntax\n",
    "\n",
    "`for` statement uses `__iter__` method to loop over items of a collection.\n",
    "\n",
    "`with` statement uses `__enter__` and `__exit__` methods to manage object context. Classes deal with file, database, and network should use the two methods to manage resources."
   ]
  },
  {
   "cell_type": "markdown",
   "metadata": {
    "slideshow": {
     "slide_type": "subslide"
    }
   },
   "source": [
    "### Built-in Types and New Types\n",
    "\n",
    "Python defines a set of built-in types. Each type has a set of valid operations. New types are defined using `class` to emulate the built-in type behaviors. Following sections will give examples emulating built-in types and customizing new type creation.\n",
    "\n",
    "- Number and Bool\n",
    "- Collection\n",
    "- Class and Metaclass"
   ]
  },
  {
   "cell_type": "markdown",
   "metadata": {
    "slideshow": {
     "slide_type": "slide"
    }
   },
   "source": [
    "## Emulating Numeric Operations\n",
    "\n",
    "Python is a high level programming language that has built-in numeric operators and functions such as `+`, `-` (unary negation or binary subtraction), `*`, `/`, `//` (floor division), `%`, `**`, `<`, `<=`, `==`, `!=`, `>`, `>=`, `abs`, `&` (bitwise And), `~` (bitwise inversion), `^` (bitwise XOR), `|` (bitwise Or), and so on.\n",
    "\n",
    "Each of these operators or functions has one or more corresponding special methods. For example, `+` invokes either `__add__` of its left operand or `__radd__` of its second operand if the `__add__` is not defined by the left operand.\n",
    "\n",
    "If a new type defines the corresponding methods, an instance of the type can be operands of the built-in operators and functions"
   ]
  },
  {
   "cell_type": "markdown",
   "metadata": {
    "slideshow": {
     "slide_type": "subslide"
    }
   },
   "source": [
    "### `+` and `*` Operators\n",
    "\n",
    "As an example, the following code defines a `Value` type that works well with `+` and `*`. It also defines `__repr__` to have a better string representation of the data."
   ]
  },
  {
   "cell_type": "code",
   "execution_count": null,
   "metadata": {
    "slideshow": {
     "slide_type": "subslide"
    }
   },
   "outputs": [],
   "source": [
    "class Value:\n",
    "\n",
    "    def __init__(self, data):\n",
    "        self.data = data\n",
    "\n",
    "    def __repr__(self):\n",
    "        return f\"Value(data={self.data})\"\n",
    "\n",
    "    def __add__(self, other):\n",
    "        out = self.data + other.data\n",
    "        return Value(out)\n",
    "\n",
    "    def __mul__(self, other):\n",
    "        out = self.data * other.data\n",
    "        return Value(out)\n",
    "\n",
    "\n",
    "a = Value(2.0)\n",
    "b = Value(3.0)\n",
    "c = Value(-2.0)\n",
    "\n",
    "print(a + b * c)"
   ]
  },
  {
   "cell_type": "markdown",
   "metadata": {
    "slideshow": {
     "slide_type": "subslide"
    }
   },
   "source": [
    "### Boolean Value and Operation with Scalar Values\n",
    "\n",
    "Any Python object can be used in a boolean context or be an operand of built-in `bool()` function. Boolean context include conditions in `if` or `while` statement, or as operands of `and`, `or`, and `not` logical operators. Every object is either *truthy* or *falsy* in a boolean context.\n",
    "\n",
    "By default, any instance of a new type is `truthy` unless either `__bool__()` or `__len__()` method is defined in the type. In a boolean context or a call of `bool()`, the `__bool()__`  method is called. If the `__bool__()` method is not defined, Python calls `__len__()` method. If the result is 0, it is falsy or `False`. Otherwise, it is truthy or `True`.\n",
    "\n",
    "The `Value` type defines a `__bool__()` method in the following code. \n",
    "\n",
    "Additionally it let `Value` with scalar numbers."
   ]
  },
  {
   "cell_type": "code",
   "execution_count": null,
   "metadata": {
    "slideshow": {
     "slide_type": "subslide"
    }
   },
   "outputs": [],
   "source": [
    "class Value:\n",
    "\n",
    "    def __init__(self, data):\n",
    "        self.data = data\n",
    "\n",
    "    def __repr__(self):\n",
    "        return f\"Value(data={self.data})\"\n",
    "\n",
    "    def __add__(self, other):\n",
    "        other = other if isinstance(other, Value) else Value(other)\n",
    "        out = self.data + other.data\n",
    "        return Value(out)\n",
    "\n",
    "    def __mul__(self, other):\n",
    "        other = other if isinstance(other, Value) else Value(other)\n",
    "        out = self.data * other.data\n",
    "        return Value(out)\n",
    "\n",
    "    def __bool__(self):\n",
    "        return bool(self.data)\n",
    "\n",
    "\n",
    "a = Value(0)\n",
    "b = Value(3)\n",
    "\n",
    "print(bool(a), bool(b), (a + 1) * b)  # False True Value(data=3.0)"
   ]
  },
  {
   "cell_type": "code",
   "execution_count": null,
   "metadata": {
    "slideshow": {
     "slide_type": "subslide"
    }
   },
   "outputs": [],
   "source": [
    "# how about 2 + a,  3 * b, a - b\n",
    "class Value:\n",
    "\n",
    "    def __init__(self, data):\n",
    "        self.data = data\n",
    "\n",
    "    def __repr__(self):\n",
    "        return f\"Value(data={self.data})\"\n",
    "\n",
    "    def __add__(self, other):\n",
    "        other = other if isinstance(other, Value) else Value(other)\n",
    "        out = Value(self.data + other.data)\n",
    "        return out\n",
    "\n",
    "    def __mul__(self, other):\n",
    "        other = other if isinstance(other, Value) else Value(other)\n",
    "        out = Value(self.data * other.data)\n",
    "        return out\n",
    "\n",
    "    def __rmul__(self, other):  # other * self\n",
    "        return self * other\n",
    "\n",
    "    def __neg__(self):  # -self\n",
    "        return self * -1\n",
    "\n",
    "    def __sub__(self, other):  # self - other\n",
    "        return self + (-other)\n",
    "\n",
    "    def __radd__(self, other):  # other + self\n",
    "        return self + other\n",
    "\n",
    "\n",
    "a = Value(0)\n",
    "b = Value(3)\n",
    "\n",
    "print(bool(a), bool(b), 2 * (1 + a) - b)  # False True Value(data=6.0)"
   ]
  },
  {
   "cell_type": "markdown",
   "metadata": {
    "slideshow": {
     "slide_type": "slide"
    }
   },
   "source": [
    "## Collection\n",
    "\n",
    "Python built-in collection types include `str`, `list`, `tuple`, `range`, `set`, `dict`, and so on. They all have three special methods:\n",
    "\n",
    "- `__len__()` to support built-in `len()` function or `bool()` function.\n",
    "- `__iter__()` to support `for`, unpacking, and other iteration operations.\n",
    "- `__contains__` to support `in` operator.\n",
    "\n",
    "Except `set`, all collection types support getting a value by a key (an index or any immutable object) using syntax `obj[key]`. \n",
    "\n",
    "- It is equivalent to `type(obj).__getitem__(obj, key)`.\n",
    "- The `__getitem__` can also be used to support iteration without defining `__iter__` method.\n",
    "\n",
    "By implementing the corresponding special methods, a new type can emulate a built-in collection type the works well in a Pythonic style."
   ]
  },
  {
   "cell_type": "code",
   "execution_count": null,
   "metadata": {
    "slideshow": {
     "slide_type": "subslide"
    }
   },
   "outputs": [],
   "source": [
    "from collections import namedtuple\n",
    "\n",
    "Item = namedtuple(\"Item\", \"name quantity\")\n",
    "\n",
    "\n",
    "class ShoppingList:\n",
    "    def __init__(self, items):\n",
    "        self.items = items\n",
    "        self.names = [name for (name, _) in items]\n",
    "\n",
    "    def __getitem__(self, index):\n",
    "        return self.items[index]\n",
    "\n",
    "    def __len__(self):\n",
    "        return len(self.items)\n",
    "\n",
    "    def __contains__(self, name):\n",
    "        return name in self.names\n",
    "\n",
    "\n",
    "milk = Item(\"Milk\", 1)\n",
    "banana = Item(\"Banana\", 5)\n",
    "bread = Item(\"Bread\", 2)\n",
    "my_list = ShoppingList([milk, banana, bread])\n",
    "\n",
    "for item in my_list:\n",
    "    print(item)  # print each item\n",
    "\n",
    "print(f\"There are {len(my_list)} items.\")  # There are 3 items.\n",
    "\n",
    "has_milk = \"Milk\" in my_list\n",
    "has_chip = \"Chip\" in my_list\n",
    "print(has_milk, has_chip)  # True False"
   ]
  },
  {
   "cell_type": "code",
   "execution_count": null,
   "metadata": {
    "slideshow": {
     "slide_type": "subslide"
    }
   },
   "outputs": [],
   "source": [
    "# to improve for loop\n",
    "from collections import namedtuple\n",
    "\n",
    "Item = namedtuple(\"Item\", \"name quantity\")\n",
    "\n",
    "\n",
    "class ShoppingList:\n",
    "    def __init__(self, items):\n",
    "        self.items = items\n",
    "        self.names = [name for (name, _) in items]\n",
    "\n",
    "    # __getitem__ method is for indexing\n",
    "    def __getitem__(self, index):\n",
    "        return self.items[index]\n",
    "\n",
    "    # more efficient than __getitem__ for iteration\n",
    "    def __iter__(self):\n",
    "        return iter(self.items)\n",
    "\n",
    "    def __len__(self):\n",
    "        return len(self.items)\n",
    "\n",
    "    def __contains__(self, name):\n",
    "        return name in self.names"
   ]
  },
  {
   "cell_type": "markdown",
   "metadata": {
    "slideshow": {
     "slide_type": "slide"
    }
   },
   "source": [
    "## Callable\n",
    "\n",
    "Both functions, classes, and methods are *callable* in Python: you append a pair of parentheses after the name of a function or a class. Python allows instances of a class to be callable like functions by define a `__call__` method in the class.\n",
    "\n",
    "It is often used to implement function-like behavior for a class instance. For example, the following class allows each instance to have a different count start and step."
   ]
  },
  {
   "cell_type": "code",
   "execution_count": null,
   "metadata": {
    "slideshow": {
     "slide_type": "subslide"
    }
   },
   "outputs": [],
   "source": [
    "class Counter:\n",
    "    def __init__(self, start=0, step=1):\n",
    "        self._count = start\n",
    "        self._step = step\n",
    "\n",
    "    def __call__(self, addition=0):\n",
    "        self._count += self._step + addition\n",
    "        return self._count\n",
    "\n",
    "\n",
    "counter = Counter()\n",
    "print(counter())  # Output: 1\n",
    "print(counter(3))  # Output: 5\n",
    "\n",
    "counter = Counter(10, 7)\n",
    "print(counter())  # Output: 17\n",
    "print(counter(3))  # Output: 27"
   ]
  },
  {
   "cell_type": "markdown",
   "metadata": {
    "slideshow": {
     "slide_type": "slide"
    }
   },
   "source": [
    "## Meta-programming: Code That Generates Code\n",
    "\n",
    "Python has a set of special methods that can be used to customize the class definition. These methods include:\n",
    "\n",
    "- Customize instance creation\n",
    "  - Instance creation\n",
    "  - Attribute management\n",
    "- Advanced: customize class creation        \n",
    "  - Class creation: `__init_subclass__`\n",
    "  - Class decorator\n",
    "  - `metaclass`\n",
    "\n",
    "In meta-programming, instances and classes are objects that are created and customized at runtime.\n",
    "\n",
    "Python tools/frameworks such as `PyTorch` and `Django` use meta-programming to make it easy to develop application. An application developer don't use them often but it is better to know the concepts."
   ]
  },
  {
   "cell_type": "markdown",
   "metadata": {
    "slideshow": {
     "slide_type": "subslide"
    }
   },
   "source": [
    "### Why Meta Programming\n",
    "\n",
    "- Simple: writing less code\n",
    "- Powerful: expressive code\n",
    "\n",
    "For example, in data analysis, one needs a simple way to create classes that mainly hold data. The data class should have good string representation and be able to tell their equality."
   ]
  },
  {
   "cell_type": "markdown",
   "metadata": {
    "slideshow": {
     "slide_type": "subslide"
    }
   },
   "source": [
    "### Without `@dataclass``, \n",
    "\n",
    "The following code use type hints for better readability."
   ]
  },
  {
   "cell_type": "code",
   "execution_count": null,
   "metadata": {
    "slideshow": {
     "slide_type": "fragment"
    }
   },
   "outputs": [],
   "source": [
    "class Person:\n",
    "    def __init__(self, name: str, age: int):\n",
    "        self.name = name\n",
    "        self.age = age\n",
    "\n",
    "    def __repr__(self):\n",
    "        return f\"Person(name={self.name}, age={self.age})\"\n",
    "\n",
    "    def __eq__(self, other):\n",
    "        if not isinstance(other, Person):\n",
    "            return False\n",
    "        return self.name == other.name and self.age == other.age"
   ]
  },
  {
   "cell_type": "markdown",
   "metadata": {
    "slideshow": {
     "slide_type": "subslide"
    }
   },
   "source": [
    "### With `@dataclass`"
   ]
  },
  {
   "cell_type": "code",
   "execution_count": null,
   "metadata": {
    "slideshow": {
     "slide_type": "fragment"
    }
   },
   "outputs": [],
   "source": [
    "# both __repr__ and __eq__ methods are defined\n",
    "from dataclasses import dataclass\n",
    "\n",
    "\n",
    "@dataclass\n",
    "class Person:\n",
    "    name: str\n",
    "    age: int\n",
    "\n",
    "\n",
    "alice = Person(\"Alice\", 30)\n",
    "bob = Person(\"Bob\", 30)\n",
    "alice2 = Person(\"Alice\", 30)\n",
    "\n",
    "print(alice)  # Person(name=Alice, age=30)\n",
    "print(alice == bob)  # false"
   ]
  },
  {
   "cell_type": "markdown",
   "metadata": {
    "slideshow": {
     "slide_type": "slide"
    }
   },
   "source": [
    "## Instance and Attributes\n",
    "\n",
    "- Instance creation: `__new__`. You use it to customize instance creation and initialization.\n",
    "- Attribute management: `__init__`, `__getattribute__`, `__getattr__`, `__setattr__`, `property` and descriptor. You use these methods to control the `.` attribute access behavior of a class and its instances."
   ]
  },
  {
   "cell_type": "markdown",
   "metadata": {
    "slideshow": {
     "slide_type": "subslide"
    }
   },
   "source": [
    "### The `__init__(self, ...)` Method\n",
    "\n",
    "Most classes only define the `__init__(self, ...)` method to set attributes of an instance of the class. There are some questions for this method:\n",
    "\n",
    "- When is it called? You might know the answer: it is called when you create an instance by calling a `cls(...)` where `cls` is a class name. You almost never call this method directly.\n",
    "- The `__init__(self, ...)` returns nothing, how could Python create the instance? It is not clear.\n",
    "- Where does the first argument `self` come from? It is not clear.\n",
    "\n",
    "There is more to explain about the instance creation.\n"
   ]
  },
  {
   "cell_type": "markdown",
   "metadata": {
    "slideshow": {
     "slide_type": "subslide"
    }
   },
   "source": [
    "### Instance Creation\n",
    "\n",
    "There are two steps to create an instance of a class:\n",
    "\n",
    "- `__new__()` static method creates a new instance. It is the *constructor* method. Its first argument is a class, often named as `cls`. It returns a new instance that is passed to the next initialization step.\n",
    "- `__init()__` instance *initializer* method that set the attributes of an instance. Its first argument is the newly created instance, often named as `self`. It has no return value.\n",
    "\n",
    "All classes are subclass of the `object` base class. If a class doesn't define any of the method, Python calls the default implementation defined in the `object` base class. "
   ]
  },
  {
   "cell_type": "markdown",
   "metadata": {
    "slideshow": {
     "slide_type": "subslide"
    }
   },
   "source": [
    "### `__new__()` Use Cases\n",
    "\n",
    "You rarely need to define `__new__()`. It is often used to develop frameworks or libraries.\n",
    "\n",
    "`__new__()` is mainly used to define subclasses of immutable types (like `int`, `str`, or `tuple`) to customize instance attributes because it is too late to change anything once the instance is created.\n",
    "\n",
    "It is also used in a metaclass in order to customize class creation.\n",
    "\n",
    "Following is an example that create a `Name` instance that has titled string. The first char is an uppercase one. Because `str` is immutable, you cannot change it in `__init__()` method.\n"
   ]
  },
  {
   "cell_type": "code",
   "execution_count": null,
   "metadata": {
    "slideshow": {
     "slide_type": "subslide"
    }
   },
   "outputs": [],
   "source": [
    "class Name:\n",
    "    def __new__(cls, name):\n",
    "        instance = super().__new__(cls)\n",
    "        instance.name = name.title()\n",
    "        return instance\n",
    "\n",
    "    def __repr__(self) -> str:\n",
    "        return self.name\n",
    "\n",
    "\n",
    "name1 = Name(\"alice\")\n",
    "name2 = Name(\"BOB\")\n",
    "\n",
    "print(name1, name2)  # Alice Bob"
   ]
  },
  {
   "cell_type": "markdown",
   "metadata": {
    "slideshow": {
     "slide_type": "subslide"
    }
   },
   "source": [
    "### Property\n",
    "\n",
    "A property let you use a set of methods as a normal data attribute. It is Pythonic way to implement `getter` and `setter` methods to customize the attribute behavior.\n",
    "\n",
    "The advantage of using methods behind a data attribute are:\n",
    "\n",
    "- Uniform access: you can use a simple data attribute or methods without change its usage.\n",
    "- Getter and setter control: you can validate, transform the attribute access behaviors.\n",
    "- Computed properties: a method allows to calculate and/or cache the result."
   ]
  },
  {
   "cell_type": "code",
   "execution_count": null,
   "metadata": {
    "slideshow": {
     "slide_type": "subslide"
    }
   },
   "outputs": [],
   "source": [
    "import math\n",
    "\n",
    "\n",
    "class Circle:\n",
    "    def __init__(self, radius):\n",
    "        self._radius = radius\n",
    "\n",
    "    @property  # this is the getter method\n",
    "    def radius(self):\n",
    "        return self._radius\n",
    "\n",
    "    @radius.setter  # this is the setter method\n",
    "    def radius(self, value):\n",
    "        if value < 0:\n",
    "            raise ValueError(\"Radius cannot be negative\")\n",
    "        self._radius = value\n",
    "\n",
    "    @property  # calculated read-only value\n",
    "    def area(self):\n",
    "        return math.pi * self._radius**2\n",
    "\n",
    "\n",
    "circle = Circle(1)\n",
    "radius = circle.radius\n",
    "area = circle.area\n",
    "print(f\"Radius {radius} has an area of {area}\")\n",
    "# output: Radius 1 has an area of 3.141592653589793\n",
    "\n",
    "circle.radius *= 10\n",
    "radius = circle.radius\n",
    "area = circle.area\n",
    "print(f\"Radius {radius} has an area of {area}\")\n",
    "# output: Radius 10 has an area of 314.1592653589793\n",
    "\n",
    "circle.radius = -1  # ValueError: Radius cannot be negative"
   ]
  },
  {
   "cell_type": "markdown",
   "metadata": {
    "slideshow": {
     "slide_type": "subslide"
    }
   },
   "source": [
    "### Descriptor\n",
    "\n",
    "Descriptors are used to customize the behavior of getting, setting, or deleting an attribute's value. Descriptors provide a general mechanism to control attribute access in Python classes. \n",
    "\n",
    "A Python property is actually a specific implementation of the descriptor that often used to decorate class methods. It can also be used as a typical descriptor that is defined as a class attribute.\n",
    "\n",
    "One descriptor can be used by multiple attributes."
   ]
  },
  {
   "cell_type": "markdown",
   "metadata": {
    "slideshow": {
     "slide_type": "subslide"
    }
   },
   "source": [
    "### Descriptor Implementation\n",
    "\n",
    "To create a descriptor, you typically define one or more of the following methods within a class:\n",
    "\n",
    "- `__set_name__(self, owner, attribute_name)`: this method store the attribute name in each descriptor instance.\n",
    "- `__get__(self, instance, owner)`: This method is called when you access the attribute's value. The parameters are descriptor instance, the instance of the object it's accessed on, and the class of that object. You should return the value you want to provide for the attribute.\n",
    "- `__set__(self, instance, value)`: This method is called when you set the attribute's value. The parameters are the descriptor instance, the instance of the object it's set on, and the new value. You can implement custom logic to handle the setting of the value.\n",
    "- `__delete__(self, instance)`: This method is called when you delete the attribute. It is rarely used."
   ]
  },
  {
   "cell_type": "code",
   "execution_count": null,
   "metadata": {
    "slideshow": {
     "slide_type": "subslide"
    }
   },
   "outputs": [],
   "source": [
    "class PositiveNumber:\n",
    "\n",
    "    def __set_name__(self, owner, attribute_name):\n",
    "        # different attribute has different storage name\n",
    "        self.storage_name = attribute_name\n",
    "\n",
    "    def __get__(self, instance, owner):\n",
    "        # this is a low level function that\n",
    "        # must directly manipulate object mapping.\n",
    "        return instance.__dict__[self.storage_name]\n",
    "\n",
    "    def __set__(self, instance, value):\n",
    "        if value < 0:\n",
    "            raise ValueError(\"Value cannot be negative\")\n",
    "        instance.__dict__[self.storage_name] = value\n",
    "\n",
    "\n",
    "class Size:\n",
    "\n",
    "    # define a class attribute with a descriptor instance\n",
    "    # the attribute is actually stored/accessed in an instance of Size\n",
    "    width = PositiveNumber()\n",
    "    length = PositiveNumber()\n",
    "\n",
    "    def __init__(self, width, length):\n",
    "        self.width = width\n",
    "        self.length = length\n",
    "\n",
    "    @property\n",
    "    def area(self):\n",
    "        return self.width * self.length\n",
    "\n",
    "\n",
    "desk_size = Size(2, 5)\n",
    "print(desk_size.area)\n",
    "\n",
    "desk_size.length = 10\n",
    "print(desk_size.area)\n",
    "\n",
    "desk_size.length = -1  # ValueError: Value cannot be negative"
   ]
  },
  {
   "cell_type": "markdown",
   "metadata": {
    "slideshow": {
     "slide_type": "subslide"
    }
   },
   "source": [
    "### Dynamic Attributes\n",
    "\n",
    "Dynamic attributes are useful when you need to store additional data with an object, but the attribute names are not known until runtime.\n",
    "\n",
    "All defined attributes are usually stored in the object's `__dict__` that is a dictionary. \n",
    "\n",
    "The special method `__getattr__(self, name)` is called when the `name` attribute is not found in the current object. Therefore, it can be used to define dynamic (computed) attribute value or raise `AttributeError` if the requested name is invalid.\n",
    "\n",
    "The `__setattr__(self, name, value)` method is called whenever an attribute is assigned a value on an instance. You can define this method in your class to control and customize the behavior of attribute assignment.\n",
    "\n",
    "Both *property* and *descriptor* use these attribute management methods to create the read/write attributes. If possible, you should use property to define dynamic attributes because it is the simplest. Descriptor is the choice if multiple classes/attributes have the same logic. Django `models` is a descriptor."
   ]
  },
  {
   "cell_type": "code",
   "execution_count": null,
   "metadata": {
    "slideshow": {
     "slide_type": "subslide"
    }
   },
   "outputs": [],
   "source": [
    "class DynamicConfig:\n",
    "    def __init__(self, config_dict):\n",
    "        self.config_dict = config_dict\n",
    "\n",
    "    def __getattr__(self, name):\n",
    "        if name in self.config_dict:\n",
    "            return self.config_dict[name]\n",
    "        else:\n",
    "            raise AttributeError(f\"Config attribute '{name}' not found\")\n",
    "\n",
    "\n",
    "# Create a dynamic config object\n",
    "config = DynamicConfig({\"database\": \"mysql\", \"host\": \"localhost\", \"port\": 3306})\n",
    "\n",
    "# Access dynamic attributes\n",
    "print(config.database)  # Output: mysql\n",
    "print(config.host)  # Output: localhost\n",
    "print(config.port)  # Output: 3306\n",
    "\n",
    "# Try accessing a non-existent attribute\n",
    "try:\n",
    "    print(config.username)\n",
    "except AttributeError as e:\n",
    "    print(e)  # Output: Config attribute 'username' not found"
   ]
  },
  {
   "cell_type": "markdown",
   "metadata": {
    "slideshow": {
     "slide_type": "subslide"
    }
   },
   "source": [
    "## Too Much Redundancy\n",
    "\n",
    "Python is famous for its simplicity. But the following object-oriented programming code is horrible because\n",
    "\n",
    "- each attribute is repeated THREE times\n",
    "- each attributed is repeated the fourth time in `__repr__` \n",
    "- each attributed is repeated the fifth time in `__eq__` "
   ]
  },
  {
   "cell_type": "code",
   "execution_count": null,
   "metadata": {
    "slideshow": {
     "slide_type": "fragment"
    }
   },
   "outputs": [],
   "source": [
    "class Person:\n",
    "    def __init__(self, name, age):\n",
    "        self.name = name\n",
    "        self.age = age\n",
    "\n",
    "    def __repr__(self):\n",
    "        return f\"Person(name={self.name}, age={self.age})\"\n",
    "\n",
    "    # Create an __eq__ method that compares the attributes\n",
    "    def __eq__(self, other):\n",
    "        return (self.name == other.name) and (self.age == other.age)"
   ]
  },
  {
   "cell_type": "markdown",
   "metadata": {
    "slideshow": {
     "slide_type": "subslide"
    }
   },
   "source": [
    "### Class Attribute May\n",
    "\n",
    "Class is an also `object` in Python - it has class attributes that each attribute name is typed ONCE.\n",
    "\n",
    "However\n",
    "\n",
    "- The class attributes are not initialized in `__init__(self, ...)` method.\n",
    "- Class attributes are shared by all its instances."
   ]
  },
  {
   "cell_type": "code",
   "execution_count": null,
   "metadata": {
    "slideshow": {
     "slide_type": "fragment"
    }
   },
   "outputs": [],
   "source": [
    "class Person:\n",
    "    name = None  # better syntax using type hint: name: str\n",
    "    age = None  # better syntax using type hint: age: int\n",
    "\n",
    "    def __repr__(self) -> str:\n",
    "        return f\"Person(name={self.name}, age={self.age})\"\n",
    "\n",
    "\n",
    "# all instances share the same class attributes\n",
    "alice = Person()\n",
    "bob = Person()\n",
    "Person.name = \"Alice\"\n",
    "Person.age = 30\n",
    "bob.name = \"Bob\"  # it creates a new instance attribute\n",
    "\n",
    "print(alice, bob)  # Person(name=Alice, age=30) Person(name=Bob, age=30)"
   ]
  },
  {
   "cell_type": "markdown",
   "metadata": {
    "slideshow": {
     "slide_type": "slide"
    }
   },
   "source": [
    "## The Solution: Customize Class Creation\n",
    "\n",
    "Python provides three approaches to customize class creation in frameworks or libraries.\n",
    "\n",
    "- allow a base class to customize its subclass behaviors.\n",
    "- class decorator: it takes a class as an argument and returns a - decorated class with desired behavior.\n",
    "- metaclass: define the behavior and structure of other classes."
   ]
  },
  {
   "cell_type": "markdown",
   "metadata": {
    "slideshow": {
     "slide_type": "subslide"
    }
   },
   "source": [
    "### Solution one: Base Class and `_init_subclass__`\n",
    "\n",
    "This special method is defined in a base class to customize the creation of its subclasses. There are two basic tasks to create instance attributes from the subclass' class attributes:\n",
    "\n",
    "- in `__init_subclass__`, copy each subclass' class attribute as an instance attribute.\n",
    "- it can define other methods inherited by its sub classes"
   ]
  },
  {
   "cell_type": "code",
   "execution_count": 42,
   "metadata": {
    "slideshow": {
     "slide_type": "subslide"
    }
   },
   "outputs": [],
   "source": [
    "class MyDataClassBase:\n",
    "    def __init_subclass__(cls):\n",
    "        super().__init_subclass__()\n",
    "        for name, value in cls.__dict__.items():\n",
    "            if not name.startswith(\"__\"):\n",
    "                setattr(cls, name, value)\n",
    "\n",
    "    def __init__(self, *args):\n",
    "        self.name, self.age = args\n",
    "\n",
    "    def __repr__(self):\n",
    "        return f\"Person(name={self.name}, age={self.age})\"\n",
    "\n",
    "    # Create an __eq__ method that compares the attributes\n",
    "    def __eq__(self, other):\n",
    "        return (self.name == other.name) and (self.age == other.age)\n",
    "\n",
    "\n",
    "class Person(MyDataClassBase):\n",
    "    name: str\n",
    "    age: int"
   ]
  },
  {
   "cell_type": "code",
   "execution_count": null,
   "metadata": {
    "slideshow": {
     "slide_type": "fragment"
    }
   },
   "outputs": [],
   "source": [
    "alice = Person(\"Alice\", 30)\n",
    "bob = Person(\"Bob\", 20)\n",
    "alice2 = Person(\"Alice\", 30)\n",
    "\n",
    "print(alice)  # Person(name=Alice, age=30)\n",
    "print(alice == bob)  # false"
   ]
  },
  {
   "cell_type": "markdown",
   "metadata": {
    "slideshow": {
     "slide_type": "subslide"
    }
   },
   "source": [
    "### Solution 2: Class Decorator\n",
    "\n",
    "A class decorator takes a class as an argument and returns a new class to replace the decorated class. Because it can be applied to any class, it is more flexible and more complex than the `_init_subclass__()` approach. `@dataclass` is a class decorator defined in standard library. It customizes class attributes such as instance attributes, `__init__()`, `__repr__()`, `__eq__()`, and so on.\n",
    "\n",
    "For the case of the `Vector` class, the class decorator logic is similar to the `VectorBase`. "
   ]
  },
  {
   "cell_type": "code",
   "execution_count": 34,
   "metadata": {
    "slideshow": {
     "slide_type": "subslide"
    }
   },
   "outputs": [],
   "source": [
    "def MyDataClass(cls):\n",
    "    for name, value in cls.__dict__.items():\n",
    "        if not name.startswith(\"__\"):\n",
    "            setattr(cls, name, value)\n",
    "\n",
    "    def _init(self, *args):\n",
    "        self.name, self.age = args\n",
    "\n",
    "    def _repr(self):\n",
    "        return f\"Person(name={self.name}, age={self.age})\"\n",
    "\n",
    "    # Create an __eq__ method that compares the attributes\n",
    "    def _eq(self, other):\n",
    "        return (self.name == other.name) and (self.age == other.age)\n",
    "\n",
    "    # Add the __eq__ method to the class\n",
    "    setattr(cls, \"__init__\", _init)\n",
    "    setattr(cls, \"__repr__\", _repr)\n",
    "    setattr(cls, \"__eq__\", _eq)\n",
    "\n",
    "    return cls\n",
    "\n",
    "\n",
    "@MyDataClass\n",
    "class Person:\n",
    "    name: str\n",
    "    age: int"
   ]
  },
  {
   "cell_type": "code",
   "execution_count": null,
   "metadata": {
    "slideshow": {
     "slide_type": "fragment"
    }
   },
   "outputs": [],
   "source": [
    "alice = Person(\"Alice\", 30)\n",
    "bob = Person(\"Bob\", 20)\n",
    "alice2 = Person(\"Alice\", 30)\n",
    "\n",
    "print(alice)  # Person(name=Alice, age=30)\n",
    "print(alice == bob)  # false"
   ]
  },
  {
   "cell_type": "markdown",
   "metadata": {
    "slideshow": {
     "slide_type": "subslide"
    }
   },
   "source": [
    "### Solution 3: Metaclass\n",
    "\n",
    "Metaclass is the most advanced and most capable approach to customize class creation. However, it is the most complex one that should be avoided if other approaches work for you. If you are not sure whether you need it, you don't.\n",
    "\n",
    "A metaclass is a class whose instances are classes -- a class' class, thus the name metaclass. It is essentially a class factory.\n",
    "\n",
    "You can metaclass for a class using the `metaclass` argument like `class MyClass(metaclass=MyMetaClass): ...`"
   ]
  },
  {
   "cell_type": "markdown",
   "metadata": {
    "slideshow": {
     "slide_type": "subslide"
    }
   },
   "source": [
    "### `__new__()` and `__init__()`\n",
    "\n",
    "When Python sees a class definition like `class MyClass(metaclass=MyMetaClass): ...`, it first calls `MyMetaClass.__new__()` to create a new class. Then it calls `MyMetaClass.__init__()` to set the new class attributes. \n",
    "\n",
    "The `MyMetaClass.__init__()` method has the following arguments:\n",
    "\n",
    "- `cls`: the new class created by the `__new__()` method.\n",
    "- `name`: the name of the new class.\n",
    "- `bases`: a tuple consists of base classes of the new class.\n",
    "- `attributes`: a mapping represents the attributes of the new class.\n",
    "\n",
    "For the simple purpose of reducing boilerplate code of the `Person` class, the logic is similar to other examples. Again, it is for demo purpose, you probably never need to use it in your application development or data analysis career."
   ]
  },
  {
   "cell_type": "code",
   "execution_count": 32,
   "metadata": {
    "slideshow": {
     "slide_type": "subslide"
    }
   },
   "outputs": [],
   "source": [
    "class MyDataClassMeta(type):\n",
    "    def __init__(cls, name, bases, attributes):\n",
    "        super().__init__(name, bases, attributes)\n",
    "        for name, value in attributes.items():\n",
    "            if not name.startswith(\"__\"):\n",
    "                setattr(cls, name, value)\n",
    "\n",
    "        # Create an __init__ method that initializes the attributes\n",
    "        def init(self, *args):\n",
    "            self.name, self.age = args\n",
    "\n",
    "        # Create a __repr__ method that returns a string representation of the object\n",
    "        def repr(self):\n",
    "            return f\"Person(name={self.name}, age={self.age})\"\n",
    "\n",
    "        # Create an __eq__ method that compares the attributes\n",
    "        def eq(self, other):\n",
    "            return (self.name == other.name) and (self.age == other.age)\n",
    "\n",
    "        # Add the __eq__ method to the class\n",
    "        setattr(cls, \"__init__\", init)\n",
    "        setattr(cls, \"__repr__\", repr)\n",
    "        setattr(cls, \"__eq__\", eq)\n",
    "\n",
    "\n",
    "# Create a data class using the meta class\n",
    "class Person(metaclass=MyDataClassMeta):\n",
    "    name: str\n",
    "    age: int"
   ]
  },
  {
   "cell_type": "code",
   "execution_count": null,
   "metadata": {
    "slideshow": {
     "slide_type": "fragment"
    }
   },
   "outputs": [],
   "source": [
    "alice = Person(\"Alice\", 30)\n",
    "bob = Person(\"Bob\", 20)\n",
    "alice2 = Person(\"Alice\", 30)\n",
    "\n",
    "print(alice)  # Person(name=Alice, age=30)\n",
    "print(alice == bob)  # false"
   ]
  },
  {
   "cell_type": "markdown",
   "metadata": {
    "slideshow": {
     "slide_type": "slide"
    }
   },
   "source": [
    "## Summary\n",
    "\n",
    "Python languages constructs are consistent, composable and open. You can define new data types that work seamlessly with\n",
    "\n",
    "- built-in operators such as `+`, `-`, `>=`, list index `[]`, function call `()`, and so on.\n",
    "- built-in functions such as `len()`, `repr()`, `bool()`, etc.\n",
    "- specific syntax such as `for` loop statement and `with` context manager statement.\n",
    "\n",
    "You can customize new types using meta-programming that make your code simple and powerful.\n",
    "\n",
    "- For attributes: `@property`, descriptor, dynamic attributes\n",
    "- For class: Base class, class decorator, metaclass."
   ]
  }
 ],
 "metadata": {
  "kernelspec": {
   "display_name": ".venv",
   "language": "python",
   "name": "python3"
  },
  "language_info": {
   "codemirror_mode": {
    "name": "ipython",
    "version": 3
   },
   "file_extension": ".py",
   "mimetype": "text/x-python",
   "name": "python",
   "nbconvert_exporter": "python",
   "pygments_lexer": "ipython3",
   "version": "3.12.0"
  },
  "orig_nbformat": 4
 },
 "nbformat": 4,
 "nbformat_minor": 2
}
