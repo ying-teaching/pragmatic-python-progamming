{
 "cells": [
  {
   "cell_type": "markdown",
   "metadata": {
    "slideshow": {
     "slide_type": "slide"
    }
   },
   "source": [
    "# Python\n",
    "\n",
    "The first sentence of [The Python Tutorial](https://docs.python.org/3/tutorial/index.html)\n",
    "\n",
    "> Python is an easy to learn, powerful programming language.\n",
    "\n",
    "Part of the reason for this cliam is that [Python Data Model](https://docs.python.org/3/reference/datamodel.html) defines the interfaces of the building blocks (constructs) of the language itself.\n",
    "\n",
    "Why? What? How?"
   ]
  },
  {
   "cell_type": "markdown",
   "metadata": {
    "slideshow": {
     "slide_type": "slide"
    }
   },
   "source": [
    "##  Python Data Model\n",
    "\n",
    "- Overview\n",
    "- Special Methods\n",
    "- Number and Boolean Value\n",
    "- Collection\n",
    "- Callable\n",
    "- Metaprogramming\n",
    "  - Instance and Attribute\n",
    "  - Class"
   ]
  },
  {
   "cell_type": "markdown",
   "metadata": {
    "slideshow": {
     "slide_type": "slide"
    }
   },
   "source": [
    "## Overview\n",
    "\n",
    "- Motivation\n",
    "- Language Constructs\n",
    "- What is Python Data Model?\n",
    "- Pythonic Style"
   ]
  },
  {
   "cell_type": "markdown",
   "metadata": {
    "slideshow": {
     "slide_type": "subslide"
    }
   },
   "source": [
    "### Motivation\n",
    "\n",
    "There are three basic requirements in the design of a programming language:\n",
    "\n",
    "- Consistent: it is easy to predict the behaviors of a construct.\n",
    "- Composable: constructs can be selected and assembled in various combinations to enable desired behaviors.\n",
    "- Open: developers can create new types that work in the same way as the built-in types and standard library types."
   ]
  },
  {
   "cell_type": "markdown",
   "metadata": {
    "slideshow": {
     "slide_type": "subslide"
    }
   },
   "source": [
    "### Language Constructs\n",
    "\n",
    "- Data\n",
    "    - Built-in types and new types (Classes)\n",
    "    - Atomic types and composite types (sequence, mapping, and set)\n",
    "- Operations\n",
    "    - built-in operators such as `+`, `-`, `>=`, list index `[]`, function call `()`, and so on.\n",
    "    - built-in functions such as `len()`, `repr()`, `bool()`, etc.\n",
    "- Program Control Structure: specific syntax for statements, branches and loops. For example:\n",
    "    - `for` loop statement\n",
    "    - `with` context manager statement."
   ]
  },
  {
   "cell_type": "markdown",
   "metadata": {
    "slideshow": {
     "slide_type": "subslide"
    }
   },
   "source": [
    "### What is Python Data Model?\n",
    "\n",
    "Python *data model* is the set of APIs that defines the interfaces of the language constructs that satisfies the three basic requirements:\n",
    "\n",
    "- consistent: it is standardized by Python language specification and PEPs.\n",
    "- Composable: the APIs work well with each other.\n",
    "- Open: new objects fit well with the Python language syntax.\n",
    "\n",
    "It is defined in Python Language Reference [Data Model](https://docs.python.org/3/reference/datamodel.html)."
   ]
  },
  {
   "cell_type": "markdown",
   "metadata": {
    "slideshow": {
     "slide_type": "subslide"
    }
   },
   "source": [
    "### Pythonic Style\n",
    "\n",
    "> \"There should be one-- and preferably only one --obvious way to do it.\"  - The Zen of Python\n",
    "\n",
    "Python promotes an idiomatic coding style, the so-called *Pythonic* style, that leverages Python data model and demonstrates idiomatic language features.\n",
    "\n",
    "For example, to find an object's length, you use the built-in `len()` function, not a function like `length()`/`size()`, or a method like `my_object.len()` or `my_object.size()`.\n",
    "\n",
    "Every Python developers should be familiar with common Python idioms. Following are two resources:\n",
    "\n",
    "- [Python Programming/Idioms](https://en.wikibooks.org/wiki/Python_Programming/Idioms)\n",
    "- [Idiomatic Python](https://intermediate-and-advanced-software-carpentry.readthedocs.io/en/latest/idiomatic-python.html)"
   ]
  },
  {
   "cell_type": "code",
   "execution_count": null,
   "metadata": {
    "slideshow": {
     "slide_type": "subslide"
    }
   },
   "outputs": [],
   "source": [
    "# to  create  a list of squares of numbers from 0 to 9\n",
    "result2 = []\n",
    "for i in range(10):\n",
    "    result2.append(i * i)\n",
    "\n",
    "# using list comprehension - a common idiom in python\n",
    "result1 = [i * i for i in range(10)]"
   ]
  },
  {
   "cell_type": "markdown",
   "metadata": {
    "slideshow": {
     "slide_type": "slide"
    }
   },
   "source": [
    "## Special Methods\n",
    "\n",
    "The Python data model is a set of APIs. The APIs are defined as a set of standard *special methods*.\n",
    "\n",
    "All special methods follow a special naming style: starting and ending with double underscores: `__*__`. They are known as *dunder* (double underscore) methods.\n",
    "\n",
    "Developers *should not* create or use any dunder identifier not standardized by the language reference because they are subject to breakage without warning in future Python versions.\n",
    "\n",
    "In a Python interpreter, built-in functions, operators, and special syntax invoke these special class methods to perform data operations."
   ]
  },
  {
   "cell_type": "markdown",
   "metadata": {
    "slideshow": {
     "slide_type": "subslide"
    }
   },
   "source": [
    "### Build-in Functions\n",
    "\n",
    "`len()` invokes the `__len__()` method to get the length/size of an object.\n",
    "\n",
    "`repr()` invokes the `__repr()` method to compute the string representation (serialized string) of an object. It is used by developer for debugging purpose.\n",
    "\n",
    "`str()`, `format()`, and `print()` invokes `__str__()` method to compute a user friendly representation of an object. The default implementation of `object` calls `object.__repr__()`."
   ]
  },
  {
   "cell_type": "markdown",
   "metadata": {
    "slideshow": {
     "slide_type": "subslide"
    }
   },
   "source": [
    "### Built-in Operators\n",
    "\n",
    "`+` invokes the `__add__()` method on its left operand. If the first operand doesn't define the `__add__()` method, it invokes `__radd__()` method of the right operand. If both are not defined, it returns `NotImplemented` exception.\n",
    "\n",
    "`==` invokes the `__eq__()` method. By default, object implements __eq__() by using `is` that checks if two references point to the same object. In most cases, this is not what you want and you should implement the `__eq__()` method. \n",
    "\n",
    "`self[key]` invokes `self.__getitem__(self, key)` for sequence type where `key` is an integer and mapping type where `key` is any immutable value.\n",
    "\n",
    "Method call `self(...)` invokes `self.__call__(self, ...)`. If a class defines `__call__(self, ...)` method, its instances are callable using syntax `instance(...)`."
   ]
  },
  {
   "cell_type": "markdown",
   "metadata": {
    "slideshow": {
     "slide_type": "subslide"
    }
   },
   "source": [
    "### Special Syntax\n",
    "\n",
    "`for` statement uses `__iter__` method to loop over items of a collection.\n",
    "\n",
    "`with` statement uses `__enter__` and `__exit__` methods to manage object context. Classes deal with file, database, and network should use the two methods to manage resources."
   ]
  },
  {
   "cell_type": "markdown",
   "metadata": {
    "slideshow": {
     "slide_type": "subslide"
    }
   },
   "source": [
    "### Built-in Types and New Types\n",
    "\n",
    "Python defines a set of built-in types. Each type has a set of valid operations. New types are defined using `class` to emulate the built-in type behaviors. Following sections will give examples emulating built-in types and customizing new type creation.\n",
    "\n",
    "- Number and Bool\n",
    "- Collection\n",
    "- Class and Metaclass"
   ]
  },
  {
   "cell_type": "markdown",
   "metadata": {
    "slideshow": {
     "slide_type": "slide"
    }
   },
   "source": [
    "## Emulating Numeric Operations\n",
    "\n",
    "Python is a high level programming language that has built-in numeric operators and functions such as `+`, `-` (unary negation or binary subtraction), `*`, `/`, `//` (floor division), `%`, `**`, `<`, `<=`, `==`, `!=`, `>`, `>=`, `abs`, `&` (bitwise And), `~` (bitwise inversion), `^` (bitwise XOR), `|` (bitwise Or), and so on.\n",
    "\n",
    "Each of these operators or functions has one or more corresponding special methods. For example, `+` invokes either `__add__` of its left operand or `__radd__` of its second operand if the `__add__` is not defined by the left operand.\n",
    "\n",
    "If a new type defines the corresponding methods, an instance of the type can be operands of the built-in operators and functions"
   ]
  },
  {
   "cell_type": "markdown",
   "metadata": {
    "slideshow": {
     "slide_type": "subslide"
    }
   },
   "source": [
    "### `+` and `*` Operators\n",
    "\n",
    "As an example, the following code defines a new `Vector` type that works well with `+` and\n",
    "`*`. It also defines `__repr__` to have a better string representation of the data."
   ]
  },
  {
   "cell_type": "code",
   "execution_count": null,
   "metadata": {
    "slideshow": {
     "slide_type": "subslide"
    }
   },
   "outputs": [],
   "source": [
    "class Vector:\n",
    "\n",
    "    def __init__(self, x=0, y=0):\n",
    "        self.x = x\n",
    "        self.y = y\n",
    "\n",
    "    def __add__(self, other):\n",
    "        x = self.x + other.x\n",
    "        y = self.y + other.y\n",
    "        return Vector(x, y)\n",
    "\n",
    "    # scalar multiplication\n",
    "    def __mul__(self, number):\n",
    "        x = self.x * number\n",
    "        y = self.y * number\n",
    "        return Vector(x, y)\n",
    "\n",
    "    # a string representation\n",
    "    # the x!r conversion flag means `repr(x)`\n",
    "    def __repr__(self):\n",
    "        return f\"Vector({self.x!r}, {self.y!r})\"\n",
    "\n",
    "\n",
    "point_1 = Vector(2, 4)\n",
    "point_2 = Vector(3, 5)\n",
    "point_3 = point_1 + point_2\n",
    "point_4 = point_3 * 10\n",
    "\n",
    "print(point_3, point_4)  # Vector(5, 9) Vector(50, 90)"
   ]
  },
  {
   "cell_type": "markdown",
   "metadata": {
    "slideshow": {
     "slide_type": "subslide"
    }
   },
   "source": [
    "### Boolean Value\n",
    "\n",
    "Any Python object can be used in a boolean context or be an operand of built-in `bool()` function. Boolean context include conditions in `if` or `while` statement, or as operands of `and`, `or`, and `not` logical operators. Every object is either *truthy* or *falsy* in a boolean context.\n",
    "\n",
    "By default, any instance of a new type is `truthy` unless either `__bool__()` or `__len__()` method is defined in the type. In a boolean context or a call of `bool()`, the `__bool()__`  method is called. If the `__bool__()` method is not defined, Python calls `__len__()` method. If the result is 0, it is falsy or `False`. Otherwise, it is truthy or `True`.\n",
    "\n",
    "The `Vector` type has an additional `__bool__()` method in the following code:"
   ]
  },
  {
   "cell_type": "code",
   "execution_count": null,
   "metadata": {
    "slideshow": {
     "slide_type": "subslide"
    }
   },
   "outputs": [],
   "source": [
    "class Vector:\n",
    "\n",
    "    def __init__(self, x=0, y=0):\n",
    "        self._x = x\n",
    "        self._y = y\n",
    "\n",
    "    def __add__(self, other):\n",
    "        x = self._x + other._x\n",
    "        y = self._y + other._y\n",
    "        return Vector(x, y)\n",
    "\n",
    "    # scalar multiplication\n",
    "    def __mul__(self, number):\n",
    "        x = self._x * number\n",
    "        y = self._y * number\n",
    "        return Vector(x, y)\n",
    "\n",
    "    def __repr__(self):\n",
    "        return f\"Vector({self._x!r}, {self._y!r})\"\n",
    "\n",
    "    def __bool__(self):\n",
    "        return bool(self._x) or bool(self._y)\n",
    "\n",
    "\n",
    "point_1 = Vector()\n",
    "point_2 = Vector(3, 5)\n",
    "\n",
    "print(bool(point_1), bool(point_2))  # False True"
   ]
  },
  {
   "cell_type": "markdown",
   "metadata": {
    "slideshow": {
     "slide_type": "slide"
    }
   },
   "source": [
    "## Collection\n",
    "\n",
    "Python built-in collection types include `str`, `list`, `tuple`, `range`, `set`, `dict`, and so on. They all have three special methods:\n",
    "\n",
    "- `__len__()` to support built-in `len()` function or `bool()` function.\n",
    "- `__iter__()` to support `for`, unpacking, and other iteration operations.\n",
    "- `__contains__` to support `in` operator.\n",
    "\n",
    "Except `set`, all collection types support getting a value by a key (an index or any immutable object) using syntax `obj[key]`. \n",
    "\n",
    "- It is equivalent to `type(obj).__getitem__(obj, key)`.\n",
    "- The `__getitem__` can also be used to support iteration without defining `__iter__` method.\n",
    "\n",
    "By implementing the corresponding special methods, a new type can emulate a built-in collection type the works well in a Pythonic style."
   ]
  },
  {
   "cell_type": "code",
   "execution_count": null,
   "metadata": {
    "slideshow": {
     "slide_type": "subslide"
    }
   },
   "outputs": [],
   "source": [
    "from collections import namedtuple\n",
    "\n",
    "Item = namedtuple(\"Item\", \"name quantity\")\n",
    "\n",
    "\n",
    "class ShoppingList:\n",
    "    def __init__(self, items):\n",
    "        self.items = items\n",
    "        self.names = [name for (name, _) in items]\n",
    "\n",
    "    def __getitem__(self, index):\n",
    "        return self.items[index]\n",
    "\n",
    "    def __len__(self):\n",
    "        return len(self.items)\n",
    "\n",
    "    def __contains__(self, name):\n",
    "        return name in self.names\n",
    "\n",
    "\n",
    "milk = Item(\"Milk\", 1)\n",
    "banana = Item(\"Banana\", 5)\n",
    "bread = Item(\"Bread\", 2)\n",
    "my_list = ShoppingList([milk, banana, bread])\n",
    "\n",
    "for item in my_list:\n",
    "    print(item)  # print each item\n",
    "\n",
    "print(f\"There are {len(my_list)} items.\")  # There are 3 items.\n",
    "\n",
    "has_milk = \"Milk\" in my_list\n",
    "has_chip = \"Chip\" in my_list\n",
    "print(has_milk, has_chip)  # True False"
   ]
  },
  {
   "cell_type": "code",
   "execution_count": null,
   "metadata": {
    "slideshow": {
     "slide_type": "subslide"
    }
   },
   "outputs": [],
   "source": [
    "# to improve for loop\n",
    "from collections import namedtuple\n",
    "\n",
    "Item = namedtuple(\"Item\", \"name quantity\")\n",
    "\n",
    "\n",
    "class ShoppingList:\n",
    "    def __init__(self, items):\n",
    "        self.items = items\n",
    "        self.names = [name for (name, _) in items]\n",
    "\n",
    "    # __getitem__ method is for indexing\n",
    "    def __getitem__(self, index):\n",
    "        return self.items[index]\n",
    "\n",
    "    # more efficient than __getitem__ for iteration\n",
    "    def __iter__(self):\n",
    "        return iter(self.items)\n",
    "\n",
    "    def __len__(self):\n",
    "        return len(self.items)\n",
    "\n",
    "    def __contains__(self, name):\n",
    "        return name in self.names"
   ]
  },
  {
   "cell_type": "markdown",
   "metadata": {
    "slideshow": {
     "slide_type": "slide"
    }
   },
   "source": [
    "## Callable\n",
    "\n",
    "Both functions, classes, and methods are *callable* in Python: you append a pair of parentheses after the name of a function or a class. Python allows instances of a class to be callable like functions by define a `__call__` method in the class.\n",
    "\n",
    "It is often used to implement function-like behavior for a class instance. For example, the following class allows each instance to have a different count start and step."
   ]
  },
  {
   "cell_type": "code",
   "execution_count": null,
   "metadata": {
    "slideshow": {
     "slide_type": "subslide"
    }
   },
   "outputs": [],
   "source": [
    "class Counter:\n",
    "    def __init__(self, start=0, step=1):\n",
    "        self._count = start\n",
    "        self._step = step\n",
    "\n",
    "    def __call__(self):\n",
    "        self._count += self._step\n",
    "        return self._count\n",
    "\n",
    "\n",
    "counter = Counter()\n",
    "print(counter())  # Output: 1\n",
    "print(counter())  # Output: 2\n",
    "\n",
    "counter = Counter(10, 7)\n",
    "print(counter())  # Output: 17\n",
    "print(counter())  # Output: 24"
   ]
  },
  {
   "cell_type": "markdown",
   "metadata": {
    "slideshow": {
     "slide_type": "slide"
    }
   },
   "source": [
    "## Metaprogramming\n",
    "\n",
    "Python has a set of special methods that can be used to customize the class definition. These methods include:\n",
    "\n",
    "- Instance creation and destruction\n",
    "- Attribute management\n",
    "- Class creation: `__init_subclass__`, class decorator, metaclass, and so on.\n",
    "\n",
    "These are advanced topics that customize the class behavior - so-called *metaprogramming*. In metaprogramming, classes are objects that are created and customized at runtime.\n",
    "\n",
    "Python tools/frameworks such as `@dataclass` and Django uses metaprogramming to make it easy to develop application. An application developer rarely use them directly but it is better to know the concepts."
   ]
  },
  {
   "cell_type": "markdown",
   "metadata": {
    "slideshow": {
     "slide_type": "slide"
    }
   },
   "source": [
    "## Why Meta Programming\n",
    "\n",
    "- Simple\n",
    "- Powerful\n",
    "\n",
    "For example:  the `@dataclass` decorator provides a simple way to create classes that mainly hold data. \n",
    "\n"
   ]
  },
  {
   "cell_type": "code",
   "execution_count": null,
   "metadata": {
    "slideshow": {
     "slide_type": "subslide"
    }
   },
   "outputs": [],
   "source": [
    "# Without @dataclass\n",
    "class Person:\n",
    "    def __init__(self, name: str, age: int):\n",
    "        self.name = name\n",
    "        self.age = age\n",
    "\n",
    "    def __repr__(self):\n",
    "        return f\"Person(name={self.name}, age={self.age})\"\n",
    "\n",
    "    def __eq__(self, other):\n",
    "        if not isinstance(other, Person):\n",
    "            return False\n",
    "        return self.name == other.name and self.age == other.age"
   ]
  },
  {
   "cell_type": "code",
   "execution_count": null,
   "metadata": {
    "slideshow": {
     "slide_type": "subslide"
    }
   },
   "outputs": [],
   "source": [
    "# both __repr__ and __eq__ methods are defined\n",
    "from dataclasses import dataclass\n",
    "\n",
    "\n",
    "@dataclass\n",
    "class Person:\n",
    "    name: str\n",
    "    age: int"
   ]
  },
  {
   "cell_type": "markdown",
   "metadata": {
    "slideshow": {
     "slide_type": "slide"
    }
   },
   "source": [
    "## Instance and Attributes\n",
    "\n",
    "- Instance creation and destruction: `__new__`, and `__del__`. You use these methods to customize instance creation, initialization and deletion.\n",
    "- Attribute management: `__init__`, `__getattribute__`, `__getattr__`, `__setattr__`, `property` and descriptor. You use these methods to control the `.` attribute access behavior of a class and its instances."
   ]
  },
  {
   "cell_type": "markdown",
   "metadata": {
    "slideshow": {
     "slide_type": "subslide"
    }
   },
   "source": [
    "### The `__init__(self, ...)` Method\n",
    "\n",
    "Most classes define the `__init__(self, ...)` method to set attributes of an instance of the class. There are some questions for this method:\n",
    "\n",
    "- When is it called? You might know the answer: it is called when you create an instance by calling a `cls(...)` where `cls` is a class name. You almost never call this method directly.\n",
    "- The `__init__(self, ...)` returns nothing, how could Python create the instance? It is not clear.\n",
    "- Where does the first argument `self` come from? It is not clear.\n",
    "\n",
    "There is more to explain about the instance creation.\n"
   ]
  },
  {
   "cell_type": "markdown",
   "metadata": {
    "slideshow": {
     "slide_type": "subslide"
    }
   },
   "source": [
    "### Instance Creation\n",
    "\n",
    "There are two steps to create an instance of a class:\n",
    "\n",
    "- `__new__()` static method creates a new instance. It is the *constructor* method. Its first argument is a class, often named as `cls`. It returns a new instance that is passed to the next initialization step.\n",
    "- `__init()__` instance *initializer* method that set the attributes of an instance. Its first argument is the newly created instance, often named as `self`. It has no return value.\n",
    "\n",
    "All classes are subclass of the `object` base class. If a class doesn't define any of the method, Python calls the default implementation defined in the `object` base class. "
   ]
  },
  {
   "cell_type": "markdown",
   "metadata": {
    "slideshow": {
     "slide_type": "subslide"
    }
   },
   "source": [
    "### `__new__()` Use Cases\n",
    "\n",
    "You rarely need to define `__new__()`. It is often used to develop frameworks or libraries.\n",
    "\n",
    "`__new__()` is mainly used to define subclasses of immutable types (like `int`, `str`, or `tuple`) to customize instance attributes because it is too late to change anything once the instance is created.\n",
    "\n",
    "It is also used in a metaclass in order to customize class creation.\n",
    "\n",
    "Following is an example that create a `Name` instance that has titled string. The first char is an uppercase one. Because `str` is immutable, you cannot change it in `__init__()` method.\n"
   ]
  },
  {
   "cell_type": "code",
   "execution_count": null,
   "metadata": {
    "slideshow": {
     "slide_type": "subslide"
    }
   },
   "outputs": [],
   "source": [
    "class Name:\n",
    "    def __new__(cls, name):\n",
    "        instance = super().__new__(cls)\n",
    "        instance.name = name.title()\n",
    "        return instance\n",
    "\n",
    "    def __repr__(self) -> str:\n",
    "        return self.name\n",
    "\n",
    "\n",
    "name1 = Name(\"alice\")\n",
    "name2 = Name(\"BOB\")\n",
    "\n",
    "print(name1, name2)  # Alice Bob"
   ]
  },
  {
   "cell_type": "markdown",
   "metadata": {
    "slideshow": {
     "slide_type": "subslide"
    }
   },
   "source": [
    "### Property\n",
    "\n",
    "A property let you use a set of methods as a normal data attribute. It is Pythonic way to implement `getter` and `setter` methods to customize the attribute behavior.\n",
    "\n",
    "The advantage of using methods behind a data attribute are:\n",
    "\n",
    "- Uniform access: you can use a simple data attribute or methods without change its usage.\n",
    "- Getter and setter control: you can validate, transform the attribute access behaviors.\n",
    "- Computed properties: a method allows to calculate and/or cache the result."
   ]
  },
  {
   "cell_type": "code",
   "execution_count": null,
   "metadata": {
    "slideshow": {
     "slide_type": "subslide"
    }
   },
   "outputs": [],
   "source": [
    "import math\n",
    "\n",
    "\n",
    "class Circle:\n",
    "    def __init__(self, radius):\n",
    "        self._radius = radius\n",
    "\n",
    "    @property  # this is the getter method\n",
    "    def radius(self):\n",
    "        return self._radius\n",
    "\n",
    "    @radius.setter  # this is the setter method\n",
    "    def radius(self, value):\n",
    "        if value < 0:\n",
    "            raise ValueError(\"Radius cannot be negative\")\n",
    "        self._radius = value\n",
    "\n",
    "    @property  # calculated read-only value\n",
    "    def area(self):\n",
    "        return math.pi * self._radius**2\n",
    "\n",
    "\n",
    "circle = Circle(1)\n",
    "radius = circle.radius\n",
    "area = circle.area\n",
    "print(f\"Radius {radius} has an area of {area}\")\n",
    "# output: Radius 1 has an area of 3.141592653589793\n",
    "\n",
    "circle.radius *= 10\n",
    "radius = circle.radius\n",
    "area = circle.area\n",
    "print(f\"Radius {radius} has an area of {area}\")\n",
    "# output: Radius 10 has an area of 314.1592653589793"
   ]
  },
  {
   "cell_type": "markdown",
   "metadata": {
    "slideshow": {
     "slide_type": "subslide"
    }
   },
   "source": [
    "### Descriptor\n",
    "\n",
    "Descriptors are used to customize the behavior of getting, setting, or deleting an attribute's value. Descriptors provide a general mechanism to control attribute access in Python classes. \n",
    "\n",
    "A Python property is actually a specific implementation of the descriptor that often used to decorate class methods. It can also be used as a typical descriptor that is defined as a class attribute.\n",
    "\n",
    "One descriptor can be used by multiple attributes."
   ]
  },
  {
   "cell_type": "markdown",
   "metadata": {
    "slideshow": {
     "slide_type": "subslide"
    }
   },
   "source": [
    "### Descriptor Implementation\n",
    "\n",
    "To create a descriptor, you typically define one or more of the following methods within a class:\n",
    "\n",
    "- `__set_name__(self, owner, attribute_name)`: this method store the attribute name in each descriptor instance.\n",
    "- `__get__(self, instance, owner)`: This method is called when you access the attribute's value. The parameters are descriptor instance, the instance of the object it's accessed on, and the class of that object. You should return the value you want to provide for the attribute.\n",
    "- `__set__(self, instance, value)`: This method is called when you set the attribute's value. The parameters are the descriptor instance, the instance of the object it's set on, and the new value. You can implement custom logic to handle the setting of the value.\n",
    "- `__delete__(self, instance)`: This method is called when you delete the attribute. It is rarely used."
   ]
  },
  {
   "cell_type": "code",
   "execution_count": null,
   "metadata": {
    "slideshow": {
     "slide_type": "subslide"
    }
   },
   "outputs": [],
   "source": [
    "class PositiveNumber:\n",
    "\n",
    "    def __set_name__(self, owner, attribute_name):\n",
    "        # different attribute has different storage name\n",
    "        self.storage_name = attribute_name\n",
    "\n",
    "    def __get__(self, instance, owner):\n",
    "        # this is a low level function that\n",
    "        # must directly manipulate object mapping.\n",
    "        return instance.__dict__[self.storage_name]\n",
    "\n",
    "    def __set__(self, instance, value):\n",
    "        if value < 0:\n",
    "            raise ValueError(\"Value cannot be negative\")\n",
    "        instance.__dict__[self.storage_name] = value\n",
    "\n",
    "\n",
    "class Size:\n",
    "\n",
    "    # define a class attribute with a descriptor instance\n",
    "    # the attribute is actually stored/accessed in an instance of Size\n",
    "    width = PositiveNumber()\n",
    "    length = PositiveNumber()\n",
    "\n",
    "    def __init__(self, width, length):\n",
    "        self.width = width\n",
    "        self.length = length\n",
    "\n",
    "    @property\n",
    "    def area(self):\n",
    "        return self.width * self.length\n",
    "\n",
    "\n",
    "desk_size = Size(2, 5)\n",
    "print(desk_size.area)\n",
    "\n",
    "desk_size.length = 10\n",
    "print(desk_size.area)\n",
    "\n",
    "desk_size.length = -1  # ValueError: Value cannot be negative"
   ]
  },
  {
   "cell_type": "markdown",
   "metadata": {
    "slideshow": {
     "slide_type": "subslide"
    }
   },
   "source": [
    "### Dynamic Attributes\n",
    "\n",
    "The `__getattribute__(self, name)` and `__getattr__(self, name)` are called when the `name` attribute is not found in the current object. Therefore, they are used to define dynamic (computed) attribute value or raise `AttributeError` if the requested name is invalid.\n",
    "\n",
    "The `__setattr__(self, name, value)` method is called whenever an attribute is assigned a value on an instance. You can define this method in your class to control and customize the behavior of attribute assignment.\n",
    "\n",
    "Both *property* and *descriptor* use these attribute management methods to create the read/write attributes. If possible, you should use property to define dynamic attributes because it is the simplest. Descriptor is the choice if multiple classes/attributes have the same logic. Django `models` is a descriptor.\n",
    "\n",
    "The attribute management special methods are rarely needed in applications."
   ]
  },
  {
   "cell_type": "markdown",
   "metadata": {
    "slideshow": {
     "slide_type": "slide"
    }
   },
   "source": [
    "## Class Creation\n",
    "\n",
    "Python provides several approaches to customize class creation in frameworks or libraries.\n",
    "\n",
    "- `__init_subclass__`: allow a base class to customize its subclass behaviors.\n",
    "- class decorator: it takes a class as an argument and returns a - decorated class with desired behavior.\n",
    "- metaclass: define the behavior and structure of other classes."
   ]
  },
  {
   "cell_type": "code",
   "execution_count": null,
   "metadata": {},
   "outputs": [],
   "source": []
  },
  {
   "cell_type": "markdown",
   "metadata": {
    "slideshow": {
     "slide_type": "subslide"
    }
   },
   "source": [
    "### A Redundancy Problem\n",
    "\n",
    "Python is famous for its simplicity. But the following object-oriented programming code is not simple because you need to type each attribute name three times."
   ]
  },
  {
   "cell_type": "code",
   "execution_count": null,
   "metadata": {},
   "outputs": [],
   "source": [
    "class Vector:\n",
    "    def __init__(self, x=0, y=0) -> None:\n",
    "        self.x = x\n",
    "        self.y = y"
   ]
  },
  {
   "cell_type": "markdown",
   "metadata": {},
   "source": [
    "Python supports class attributes that each attribute name is typed once like the following."
   ]
  },
  {
   "cell_type": "code",
   "execution_count": null,
   "metadata": {},
   "outputs": [],
   "source": [
    "class Vector:\n",
    "    x = 0\n",
    "    y = 0"
   ]
  },
  {
   "cell_type": "markdown",
   "metadata": {},
   "source": [
    "However, class attributes are shared by all instances. Is it possible to use the simple class attribute syntax to create instance attribute? Python metaprogramming provides multiple approaches."
   ]
  },
  {
   "cell_type": "markdown",
   "metadata": {
    "slideshow": {
     "slide_type": "subslide"
    }
   },
   "source": [
    "### `_init_subclass__`\n",
    "\n",
    "This special method is defined in a base class to customize the creation of its subclasses. There are two basic tasks to create instance attributes from the subclass' class attributes:\n",
    "\n",
    "- in `__init_subclass__`, copy each subclass' class attribute as an instance attribute.\n",
    "- in `__init__`, reset the instance attributes if a caller provides vector attribute values."
   ]
  },
  {
   "cell_type": "code",
   "execution_count": 6,
   "metadata": {
    "slideshow": {
     "slide_type": "subslide"
    }
   },
   "outputs": [
    {
     "name": "stdout",
     "output_type": "stream",
     "text": [
      "Vector(7, 0) Vector(2, 17) Vector(10, 20)\n"
     ]
    }
   ],
   "source": [
    "class VectorBase:\n",
    "    def __init_subclass__(cls):\n",
    "        super().__init_subclass__()\n",
    "        for name, value in cls.__dict__.items():\n",
    "            if not name.startswith(\"__\"):\n",
    "                setattr(cls, name, value)\n",
    "\n",
    "    def __init__(self, *args):\n",
    "        if args:\n",
    "            self.x, self.y = args\n",
    "\n",
    "    def __repr__(self) -> str:\n",
    "        return f\"Vector({self.x}, {self.y})\"\n",
    "\n",
    "\n",
    "class Vector(VectorBase):\n",
    "    x = 0\n",
    "    y = 0\n",
    "\n",
    "\n",
    "v0 = Vector()\n",
    "v1 = Vector(2, 3)\n",
    "v2 = Vector(10, 20)\n",
    "v0.x = 7\n",
    "v1.y = 17\n",
    "\n",
    "print(v0, v1, v2)  # Vector(7, 0) Vector(2, 17) Vector(10, 20)"
   ]
  },
  {
   "cell_type": "markdown",
   "metadata": {
    "slideshow": {
     "slide_type": "subslide"
    }
   },
   "source": [
    "### Class Decorator\n",
    "\n",
    "A class decorator takes a class as an argument and returns a new class to replace the decorated class. Because it can be applied to any class, it is more flexible and more complex than the `_init_subclass__()` approach. `@dataclass` is a class decorator defined in standard library. It customizes class attributes such as instance attributes, `__init__()`, `__repr__()`, `__eq__()`, and so on.\n",
    "\n",
    "For the case of the `Vector` class, the class decorator logic is similar to the `VectorBase`. "
   ]
  },
  {
   "cell_type": "code",
   "execution_count": null,
   "metadata": {
    "slideshow": {
     "slide_type": "subslide"
    }
   },
   "outputs": [],
   "source": [
    "def vector_class(cls):\n",
    "    for name, value in cls.__dict__.items():\n",
    "        if not name.startswith(\"__\"):\n",
    "            setattr(cls, name, value)\n",
    "\n",
    "    def _init(self, *args):\n",
    "        if args:\n",
    "            self.x, self.y = args\n",
    "\n",
    "    setattr(cls, \"__init__\", _init)\n",
    "\n",
    "    return cls\n",
    "\n",
    "\n",
    "@vector_class\n",
    "class Vector(VectorBase):\n",
    "    x = 0\n",
    "    y = 0\n",
    "\n",
    "\n",
    "v0 = Vector()\n",
    "v1 = Vector(2, 3)\n",
    "v2 = Vector(10, 20)\n",
    "v0.x = 7\n",
    "v1.y = 17\n",
    "\n",
    "print(v0, v1, v2)  # Vector(7, 0) Vector(2, 17) Vector(10, 20)"
   ]
  },
  {
   "cell_type": "markdown",
   "metadata": {
    "slideshow": {
     "slide_type": "subslide"
    }
   },
   "source": [
    "### Metaclass\n",
    "\n",
    " Metaclass is the most advanced and most capable approach to customize class creation. However, it is the most complex one that should be avoided if other approaches work for you. It you are not sure whether you need it, you don't.\n",
    "\n",
    " A metaclass is a class whose instances are classes -- a class' class, thus the name metaclass. It is essentially a class factory.\n",
    "\n",
    " By default, a class is an instance of `type` - the default built-in metaclass. You can define new metaclass and set it as a metaclass for a class using the `metaclass` argument like `class MyClass(BaseClass, metaclass=MyMetaClass): ...`"
   ]
  },
  {
   "cell_type": "markdown",
   "metadata": {
    "slideshow": {
     "slide_type": "subslide"
    }
   },
   "source": [
    "### `__new__()` and `__init__()`\n",
    "\n",
    "When Python sees a class definition like `class MyClass(BaseClass, metaclass=MyMetaClass): ...`, it calls `MyMetaClass.__new__()` to create a new class.\n",
    "\n",
    "An interesting fact is that every metaclass is a subclass of `type`. After customization, a metaclass calls `super().__new__(...)` to let `type` create the new class. \n",
    "\n",
    "Then it calls `MyMetaClass.__init__()` to set the new class attributes. This method has the following arguments:\n",
    "\n",
    "- `cls`: the new class created by the `__new__()` method.\n",
    "- `name`: the name of the new class.\n",
    "- `bases`: a tuple consists of base classes of the new class.\n",
    "- `attributes`: a mapping represents the attributes of the new class.\n",
    "\n",
    "For the simple purpose of reducing boilerplate code of the `Vector` class, the logic is similar to other examples. Again, it is for demo purpose, you probably never need to use it in your application development or data analysis career."
   ]
  },
  {
   "cell_type": "code",
   "execution_count": null,
   "metadata": {
    "slideshow": {
     "slide_type": "subslide"
    }
   },
   "outputs": [],
   "source": [
    "class VectorMeta(type):\n",
    "    def __init__(cls, name, bases, attributes):\n",
    "        super().__init__(name, bases, attributes)\n",
    "        for name, value in attributes.items():\n",
    "            if not name.startswith(\"__\"):\n",
    "                setattr(cls, name, value)\n",
    "\n",
    "        def _init(self, *args):\n",
    "            if args:\n",
    "                self.x, self.y = args\n",
    "\n",
    "        def _repr(self) -> str:\n",
    "            return f\"Vector({self.x}, {self.y})\"\n",
    "\n",
    "        setattr(cls, \"__init__\", _init)\n",
    "        setattr(cls, \"__repr__\", _repr)\n",
    "\n",
    "\n",
    "class Vector(metaclass=VectorMeta):\n",
    "    x = 0\n",
    "    y = 0\n",
    "\n",
    "\n",
    "v0 = Vector()\n",
    "v1 = Vector(2, 3)\n",
    "v2 = Vector(10, 20)\n",
    "v0.x = 7\n",
    "v1.y = 17\n",
    "\n",
    "print(v0, v1, v2)  # Vector(7, 0) Vector(2, 17) Vector(10, 20)"
   ]
  },
  {
   "cell_type": "markdown",
   "metadata": {
    "slideshow": {
     "slide_type": "slide"
    }
   },
   "source": [
    "## Summary\n",
    "\n",
    "Python languages constructs are consistent, composable and open. You can define new data types that work seamlessly with\n",
    "\n",
    "- built-in operators such as `+`, `-`, `>=`, list index `[]`, function call `()`, and so on.\n",
    "- built-in functions such as `len()`, `repr()`, `bool()`, etc.\n",
    "- specific syntax such as `for` loop statement and `with` context manager statement.\n",
    "\n",
    "Additionally, you can even customize the class creation at runtime using metaprogramming that make your code simple and powerful."
   ]
  }
 ],
 "metadata": {
  "kernelspec": {
   "display_name": ".venv",
   "language": "python",
   "name": "python3"
  },
  "language_info": {
   "codemirror_mode": {
    "name": "ipython",
    "version": 3
   },
   "file_extension": ".py",
   "mimetype": "text/x-python",
   "name": "python",
   "nbconvert_exporter": "python",
   "pygments_lexer": "ipython3",
   "version": "3.12.0"
  },
  "orig_nbformat": 4
 },
 "nbformat": 4,
 "nbformat_minor": 2
}
