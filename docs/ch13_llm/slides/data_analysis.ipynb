{
 "cells": [
  {
   "cell_type": "markdown",
   "metadata": {},
   "source": [
    "# Data Analysis\n",
    "\n",
    "This tutorial is based on the following resources:\n",
    "\n",
    "- [Python for Data Analysis, 3E](https://wesmckinney.com/book/)\n",
    "- [LLM: From Zero to Hero](https://waylandzhang.github.io/en)\n",
    "- "
   ]
  },
  {
   "cell_type": "markdown",
   "metadata": {},
   "source": [
    "## Introduction\n",
    "\n",
    "- Data\n",
    "- Why Python\n",
    "- Libs\n",
    "- Installation"
   ]
  },
  {
   "cell_type": "markdown",
   "metadata": {},
   "source": [
    "### What Kinds of Data\n",
    "\n",
    "The focus here is the analysis of structured data that include:\n",
    "\n",
    "- Two dimmensional (tabular or spreadsheet-like) data that has rows and columns. Each column may be a different type.\n",
    "- Multidimensional Arrays: also called matrices.\n",
    "- Multiple tables of data interrated by foreign keys. It is the data structure for relatioinal database.\n",
    "- Time series data."
   ]
  },
  {
   "cell_type": "markdown",
   "metadata": {},
   "source": [
    "### Why Python\n",
    "\n",
    "- Most data analysis consist of a small portiion and time-consuming computing and a large amount of \"glue code\" that doesn't run often. Python integrates well with C, C++ and Fortran code.\n",
    "  - Computational intensive code should be implemented in C or C++.\n",
    "- Python can be used for both prototyping and production.\n",
    "- Python has rich libraries for data manipulation, numeric computing, machine learning, visualization, and nutural language processing (NLP)."
   ]
  },
  {
   "cell_type": "markdown",
   "metadata": {},
   "source": [
    "### Essential Python Libraries\n",
    "\n",
    "- Numpy (Numerical Python): matrix and numerical computing.\n",
    "- pandas: high-level data structures, tabular and time series data processing functions. It borrows the dataframe idea from R.\n",
    "- metplotlib: data visualization.\n",
    "- SciPy: scientific computing includes calculus, linear algebra, signal processing, statistics, and more.\n",
    "- scikit-learn: machine learning tookit includes classification, regression, clustering, and more.\n",
    "- statsmodels: classical statistics and econometrics.\n",
    "- TensorFlow (Google) and PyTorch (Facebook): two popular deep learning libraries."
   ]
  },
  {
   "cell_type": "markdown",
   "metadata": {},
   "source": [
    "### Installation\n",
    "\n",
    "```sh\n",
    "pip install jupyter # for Jupyter Notebook\n",
    "pip install numpy matplotlib pandas seaborn statsmodels\n",
    "pip install scipy scikit-learn  patsy pyarrow numba\n",
    "pip install lxml beautifulsoup4 html5lib openpyxl requests sqlalchemy \n",
    "```"
   ]
  },
  {
   "cell_type": "markdown",
   "metadata": {},
   "source": [
    "## NumPy\n",
    "\n",
    "NumPy stands for Numerical Python. It is a foundation for many Python numeric computation packages.\n",
    "\n",
    "- `ndarray` an array data type\n",
    "- Array data operations\n",
    "- Tools for reading/writing disk or memory files\n",
    "- Linear algebra, random numbers, and Fourier tranform\n",
    "- A C API for connecting NumPy with C, C++, or Fortran"
   ]
  },
  {
   "cell_type": "markdown",
   "metadata": {},
   "source": [
    "### Basic Functions\n",
    "\n",
    "- Array operations\n",
    "- Array algorithms like sorting, unique, and set operations\n",
    "- Data alignment and relatioinal data manipulation for heterogeneous datasets\n",
    "- Conditional logic\n",
    "- Group-wise data manipulations (aggretation, transformation, and function applications)"
   ]
  },
  {
   "cell_type": "markdown",
   "metadata": {},
   "source": [
    "### `ndarray`\n",
    "\n",
    "- `ndarray` is a fast, flexible data type for large datasets.\n",
    "- Operations are on whole dataset."
   ]
  },
  {
   "cell_type": "code",
   "execution_count": null,
   "metadata": {},
   "outputs": [],
   "source": [
    "import numpy as np\n",
    "\n",
    "data = np.array([[1.5, -0.1, 3], [0, -3, 6.5]])\n",
    "\n",
    "print(data * 10)\n",
    "print(data + data)\n",
    "print(data.shape)\n",
    "print(data.dtype)"
   ]
  },
  {
   "cell_type": "markdown",
   "metadata": {},
   "source": [
    "### Creating Arrays\n",
    "\n",
    "- `array`: Convert input data (list, tuple, array, or other sequence type) to an ndarray either by inferring a data type or explicitly specifying a data type; copies the input data by default.\n",
    "- `ones`, `zeros`: Produce an array of all 1s with the given shape and data type;\n",
    "- `ones_like`, `zeros_like`: takes another array and produces a ones/zeros array of the same shape and data type.\n",
    "- `empty`, `empty_like`, `full`, `full_like`: no data or filled data.\n",
    "- `eye`, `identity`: `N x N` identity matrix with `1`s on the diagonal and `0`s elsewhere"
   ]
  },
  {
   "cell_type": "markdown",
   "metadata": {},
   "source": [
    "### Data Types and Arithmetic Operations\n",
    "\n",
    "- Types: `int8/16/32/64`, `uint8/16/32/64`, `float16/32/64`, `complex64/128/256`, `bool`, `object`, `string_`, `unicode_`.\n",
    "- Conversion:  `astype`.\n",
    "- Vector arithmetic operations: `+`, `-`, `*`, `/`, `**`, `>` etc.\n",
    "- Element-wise and Binary Operations\n",
    "- Indexing and Slicing: like list.\n",
    "- Boolean indexing\n",
    "- Reshape\n"
   ]
  },
  {
   "cell_type": "code",
   "execution_count": null,
   "metadata": {},
   "outputs": [],
   "source": [
    "names = np.array([\"Bob\", \"Joe\", \"Will\", \"Bob\", \"Will\", \"Joe\", \"Joe\"])\n",
    "data = np.array([[4, 7], [0, 2], [-5, 6], [0, 0], [1, 2],[-12, -4], [3, 4]])\n",
    "data[names == \"Bob\"] # selecting rows\n",
    "data[names == \"Bob\", 1:] # selecting rows and columns\n",
    "data[~(names == \"Bob\")] # negate selection\n",
    "\n",
    "# mutiple conditions\n",
    "mask = (names == \"Bob\") | (names == \"Will\")\n",
    "data[mask]\n",
    "\n",
    "# selecting and setting\n",
    "data[data < 0] = 0"
   ]
  },
  {
   "cell_type": "code",
   "execution_count": null,
   "metadata": {},
   "outputs": [],
   "source": [
    "arr = np.arange(32).reshape((8, 4)) # reshape\n",
    "print(arr)\n",
    "print(arr.T) # transposing\n",
    "print(arr.T @ arr) # dot multiplication\n",
    "\n",
    "arr.swapaxes(0, 1) # transposing is a specical case of swapping axeses"
   ]
  },
  {
   "cell_type": "markdown",
   "metadata": {},
   "source": [
    "### Pseudorandom Number Generation\n",
    "\n",
    "The `numpy.random` module has many random number generation functions.\n",
    "\n",
    "- `standard_normal`\n",
    "- `permutation`\n",
    "- `shuffle`\n",
    "- `uniform`\n",
    "- `integers`\n",
    "- `binomial`"
   ]
  },
  {
   "cell_type": "markdown",
   "metadata": {},
   "source": [
    "### Array-Oriented Programming\n",
    "\n",
    "- The `numpy.meshgrid` function takes two one-dimensional arrays and produces two two-dimensional matrices corresponding to all pairs of `(x, y)` in the two arrays.\n",
    "- Array statistical methods: `sum`, `mean`, `std`, `var`, etc\n",
    "- Linear algebra: `diag`, `dot`, `trace`, `eig`, `solve`, etc"
   ]
  },
  {
   "cell_type": "markdown",
   "metadata": {},
   "source": [
    "## `pandas`\n",
    "\n",
    "- `pandas` is based on `NumPy` and contains data structures and data manipulation tools.\n",
    "- It is designed to work with tabluar or heterogeneous data.\n"
   ]
  },
  {
   "cell_type": "markdown",
   "metadata": {},
   "source": [
    "### Data Structures\n",
    "\n",
    "- `Series`: one dimensional array with labels.\n",
    "- `DataFrame`: tabular data with row and column labels"
   ]
  },
  {
   "cell_type": "markdown",
   "metadata": {},
   "source": [
    "## Visualization\n",
    "\n",
    "`matplotlib` is a  library for creating static, animated, and interactive visualizations in Python. It integrates with the `numpy` array data types.\n",
    "\n",
    "Seaborn is a library for making statistical graphics in Python. It builds on top of `matplotlib` and integrates with `pandas` data structures.\n",
    "\n",
    "- [`matplotlib` Quick Start](https://matplotlib.org/stable/users/explain/quick_start.html#quick-start)\n",
    "- [`seaborn` Tutorial](https://seaborn.pydata.org/tutorial.html)\n"
   ]
  }
 ],
 "metadata": {
  "kernelspec": {
   "display_name": ".venv",
   "language": "python",
   "name": "python3"
  },
  "language_info": {
   "codemirror_mode": {
    "name": "ipython",
    "version": 3
   },
   "file_extension": ".py",
   "mimetype": "text/x-python",
   "name": "python",
   "nbconvert_exporter": "python",
   "pygments_lexer": "ipython3",
   "version": "3.12.0"
  }
 },
 "nbformat": 4,
 "nbformat_minor": 2
}
