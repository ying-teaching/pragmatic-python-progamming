{
 "cells": [
  {
   "cell_type": "markdown",
   "metadata": {
    "slideshow": {
     "slide_type": "slide"
    }
   },
   "source": [
    "# Django Crash Course\n",
    "\n",
    "- HTTPS Overview\n",
    "- Getting Started\n",
    "- Database\n",
    "- Model\n",
    "- Template\n",
    "- View\n",
    "- Form\n",
    "- CRUD Operations"
   ]
  },
  {
   "cell_type": "markdown",
   "metadata": {
    "slideshow": {
     "slide_type": "slide"
    }
   },
   "source": [
    "## HTTPS Overview\n",
    "\n",
    "- [Introduction Video](https://youtu.be/d_QPZPo2PLc)\n",
    "- HTTPS handles authentication and encryption\n",
    "- A Web page has three types of contents:\n",
    "  - HTML: the structure data\n",
    "  - CSS: the style\n",
    "  - Javascript: the behavior\n",
    "- [Learn HTML & CSS in 15 minutes](https://thenextweb.com/news/learn-html-css-in-15-minutes)"
   ]
  },
  {
   "cell_type": "markdown",
   "metadata": {},
   "source": []
  },
  {
   "cell_type": "markdown",
   "metadata": {
    "slideshow": {
     "slide_type": "slide"
    }
   },
   "source": [
    "## Getting Started\n",
    "\n",
    "First, use `python3 -m pip install django` to install the Django package.\n",
    "\n",
    "Django comes with many tools such as `django-admin` to make development simple and quick.\n",
    "\n",
    "To create a project, run the following command: `django-admin startproject todo_site`."
   ]
  },
  {
   "cell_type": "markdown",
   "metadata": {
    "slideshow": {
     "slide_type": "subslide"
    }
   },
   "source": [
    "### Initial Project\n",
    "\n",
    "The command creates a `todo_site` project folder with following folders and files:\n",
    "\n",
    "- `manage.py`: it is a thin wrapper around `django-admin`. It uses the settings of the current project. You use `django-admin` to create projects and apps, then use `manage.py` to perform the rest administration tasks.\n",
    "- `todo_site`: it is the package folder for the project. It has the following files\n",
    "  - `__init__.py`: it is an empty file to flag the current folder as a Python package.\n",
    "  - `asgi.py`: it is an entry point file for ASGI (Asynchronous Server Gateway Interface) web server. ASGI support asynchronous operations that might have better performance for certain applications at the cost of complex code and logic. Most Web applications don't use it.\n",
    "  - `setting.py`: it contains settings (configurations) for this project. For example, you should change the `TIME_ZONE = \"America/Los_Angeles\"` if your site is located iLos Angeles, CA, USA. You can find valid time zone names in [Time Zone List](https://en.wikipedia.org/wiki/List_of_tz_database_time_zones).\n",
    "  - `urls.py`: it configures the URL paths of the project.\n",
    "  - `wsgi.py`: it is an entry point file for WSGI (Web Server Gateway Interface) web server. Most Python Web applications use it."
   ]
  },
  {
   "cell_type": "markdown",
   "metadata": {
    "slideshow": {
     "slide_type": "subslide"
    }
   },
   "source": [
    "### Dev Server\n",
    "\n",
    "Django has a built-in WSGI web server for the development. You can run it with the initial project. You should run all commands inside `todo_site` project folder (not the nested `todo_site` package folder). This is the folder that `manage.py` lives in. If you are in the wrong folder, Python couldn't find the `manage.py` file.\n",
    "\n",
    "Run `python3 manage.py runserver`, you can check the initial web site at `http://127.0.0.1:8000/` or `http://locahost:8000/`.\n",
    "\n",
    "The built-in development server monitors file changes and rebuilt the project when there is a change in the project source code files.\n",
    "\n",
    "To quit the server,  type `CONTROL-C` in the terminal."
   ]
  },
  {
   "cell_type": "markdown",
   "metadata": {
    "slideshow": {
     "slide_type": "subslide"
    }
   },
   "source": [
    "### Creating an App\n",
    "\n",
    "A Django project has multiple [applications](https://docs.djangoproject.com/en/4.2/ref/applications/).\n",
    "\n",
    "Each application is Python package that contains functions of subdomain the website.\n",
    "\n",
    "An application consists of models, views, templates, static files, URLs, etc.\n",
    "\n",
    "For example, Django creates a default `admin` app during the project creation. Web administrators use the admin app to manage the web site.\n",
    "\n",
    "To create an app named `tasks`, run the command: `python3 manage.py startapp tasks`. Again, make sure you run it from the project folder that `manage.py` lives in."
   ]
  },
  {
   "cell_type": "markdown",
   "metadata": {
    "slideshow": {
     "slide_type": "subslide"
    }
   },
   "source": [
    "### The App Folder\n",
    "\n",
    "The creating app command creates a `polls` folder that has the following files:\n",
    "\n",
    "- `__init__.py` the package flag file.\n",
    "- `admin.py` the placeholder for administration page file.\n",
    "- `apps.py` the configuration file for the app.\n",
    "- `migrations` folder is used to store database migration files.\n",
    "- `models.py` the data models used by the app.\n",
    "- `tests.py` the testing file\n",
    "- `views.py` views are used to process HTTP requests and return HTTP responses."
   ]
  },
  {
   "cell_type": "markdown",
   "metadata": {
    "slideshow": {
     "slide_type": "subslide"
    }
   },
   "source": [
    "### Application Configuration\n",
    "\n",
    "There is an `apps.py` configuration file in an application package.\n",
    "\n",
    "It defines a subclass of `AppConfig`\n",
    "\n",
    "It configures settings such as `name`, `verbose_name` in the configuration class."
   ]
  },
  {
   "cell_type": "markdown",
   "metadata": {
    "slideshow": {
     "slide_type": "subslide"
    }
   },
   "source": [
    "### MVT\n",
    "\n",
    "Django uses a Model-View-Template (MVT) architecture.\n",
    "\n",
    "- Model: a model is a class the defines\n",
    "  - the structure of a domain data.\n",
    "  - the data operations.\n",
    "- View: a view is a function or a class that handles HTTP request, performs business logic, and returns a response.\n",
    "- Template: a template defines the structure or layout of the user interface. A view fills templates with data to create the final response.\n",
    "\n",
    "Following is the [Django workflow](https://www.dothedev.com/blog/amp/what-is-django-used-for/):\n",
    "\n",
    "![flow](../images/django_flow.jpg)"
   ]
  },
  {
   "cell_type": "markdown",
   "metadata": {
    "slideshow": {
     "slide_type": "subslide"
    }
   },
   "source": [
    "### The Django Workflow\n",
    "\n",
    "The Django framework\n",
    "\n",
    "- uses an HTTP server to accept HTTP request\n",
    "- resolves an HTTP request URL to a view\n",
    "- passes the HTTP request as the input to a view\n",
    "\n",
    "The View\n",
    "\n",
    "- process data based on the HTTP request.\n",
    "- uses templates to render the response data.\n",
    "- returns responses in different format such as HTML, JSON, or others."
   ]
  },
  {
   "cell_type": "markdown",
   "metadata": {
    "slideshow": {
     "slide_type": "slide"
    }
   },
   "source": [
    "## Database\n",
    "\n",
    "Django uses relational database to store application data that is defined by __models__.\n",
    "\n",
    "A model defines the table schema.\n",
    "\n",
    "Django provides built-in CRUD operations for data.\n",
    "\n",
    "Django supports a number of relational database engines.\n",
    "\n",
    "You can change database setup in the project `settings.py` file. "
   ]
  },
  {
   "cell_type": "markdown",
   "metadata": {
    "slideshow": {
     "slide_type": "subslide"
    }
   },
   "source": [
    "### Database Setup\n",
    "\n",
    "By default, Django uses the SQLite relational database to manage data. [SQLite](https://www.sqlite.org/) is a small, fast, and reliable relational database engine. It is an excellent choice for learning Django. It is also a good choice for small to medium web sites in production.\n",
    "\n",
    "The `my_site/settings.py` has two database configuration entries in the `default` item in `DATABASES`:\n",
    "\n",
    "- `ENGINE`: default is `'django.db.backends.sqlite3'`. Other popular choices are `'django.db.backends.postgresql'` or `'django.db.backends.mysql'`.\n",
    "- `NAME`: it is a database-specific setting. For SQLite, it is the database file path. For other databases, it is that database name that requires additional settings such as `USER`, `PASSWORD`, `HOST`, `PORT` and so on to build the connection string."
   ]
  },
  {
   "cell_type": "markdown",
   "metadata": {
    "slideshow": {
     "slide_type": "subslide"
    }
   },
   "source": [
    "### Migrations\n",
    "\n",
    "An app may have models whose data are stored in database.\n",
    "\n",
    "Django uses `migration` to manage database schema changes. A migration consists of SQL statements to create tables and data for an app. Whenever you change data models, Django can create a new migration for the changes.\n",
    "\n",
    "Django provides following commands to manage migrations:\n",
    "\n",
    "- `python3 manage.py makemigrations`: creates new migrations based on the changes detected to your models.\n",
    "- `python3 manage.py migrate`: apply pending migrations to the database.\n",
    "- `python3 manage.py showmigrations`: shows all migrations in a project. Migrations are stored in the `migrations` subfolder inside the app folder.\n",
    "- `python3 manage.py sqlmigrate app_label migration_name`: displays the SQL commands for the named migration."
   ]
  },
  {
   "cell_type": "markdown",
   "metadata": {
    "slideshow": {
     "slide_type": "slide"
    }
   },
   "source": [
    "## Model\n",
    "\n",
    "To define a table schema and related database operations, you define a new subclass of `models.Model`.\n",
    "\n",
    "Django derives database migrations from model definition, thus there is only a single source definition of application data.\n",
    "\n",
    "If you change a data model, Django can create updated migrations for the changes. You can even roll back changes in some cases."
   ]
  },
  {
   "cell_type": "markdown",
   "metadata": {
    "slideshow": {
     "slide_type": "subslide"
    }
   },
   "source": [
    "### Creating Models\n",
    "\n",
    "In the `tasks` app, there is only one models: `Task`. Adding following class definition in `tasks/models.py` file."
   ]
  },
  {
   "cell_type": "code",
   "execution_count": null,
   "metadata": {},
   "outputs": [],
   "source": [
    "from django.db import models\n",
    "\n",
    "\n",
    "class Task(models.Model):\n",
    "    name = models.CharField(max_length=20, null=False)\n",
    "    description = models.TextField(max_length=200, default=\"\")\n",
    "    is_done = models.BooleanField(default=False)\n"
   ]
  },
  {
   "cell_type": "markdown",
   "metadata": {
    "slideshow": {
     "slide_type": "subslide"
    }
   },
   "source": [
    "### Install the App\n",
    "\n",
    "Django creates table schema and database access API based on app model definitions.\n",
    "\n",
    "You need to add the `tasks` app to the list in the `INSTALLED_APPS` item in the project's `settings.py` file. Just add `\"tasks` as the first element in the `INSTALLED_APPS` list.\n",
    "\n",
    "Then in the project folder, create a migration from the app models using command `python3 manage.py makemigrations tasks`. It creates a migration file in `polls/migrations/0001_initial.py` that has the migration code.\n",
    "\n",
    "You can use the command `python3 manage.py sqlmigrate tasks 0001` to check the SQL statements that to be applied to the database.\n",
    "\n",
    "Finally, run `python3 manage.py migrate` to apply the migration that creates the database tables."
   ]
  },
  {
   "cell_type": "markdown",
   "metadata": {
    "slideshow": {
     "slide_type": "slide"
    }
   },
   "source": [
    "## Template\n",
    "\n",
    "A typical web site has many pages that have a similar layout and display style.\n",
    "\n",
    "A web page may have many static components.\n",
    "\n",
    "Django uses template to render web pages.\n",
    "\n",
    "A template defines static content and provides __blocks__ that can be inherited and replaced by other templates."
   ]
  },
  {
   "cell_type": "markdown",
   "metadata": {
    "slideshow": {
     "slide_type": "subslide"
    }
   },
   "source": [
    "### A Base Template\n",
    "\n",
    "In the project folder, create a `templates` directory and a `base.html` in it.\n",
    "\n",
    "Set `\"DIRS\": [BASE_DIR / \"templates\"],` in `TEMPLATES` item in project `settings.py` file. Django will search the directory for template files. The `BASE_DIR` is the project folder. \n",
    "\n",
    "The `base.html` uses [Bootstrap](https://getbootstrap.com/) to provide CSS styles for web page. It also provides many [icons](https://icons.getbootstrap.com/).\n",
    "\n",
    "It defines a `content` block that can be replaced by other templates.\n",
    "\n",
    "Tips: in VS Code, use `!` and a tab to create an initial page content."
   ]
  },
  {
   "cell_type": "code",
   "execution_count": null,
   "metadata": {
    "slideshow": {
     "slide_type": "subslide"
    },
    "vscode": {
     "languageId": "html"
    }
   },
   "outputs": [],
   "source": [
    "<!DOCTYPE html>\n",
    "<html lang=\"en\">\n",
    "\n",
    "<head>\n",
    "  <meta charset=\"UTF-8\">\n",
    "  <meta name=\"viewport\" content=\"width=device-width, initial-scale=1.0\">\n",
    "\n",
    "  <!-- This link includes bootstrap css CDN to all pages. -->\n",
    "  <link href=\"https://cdn.jsdelivr.net/npm/bootstrap@5.3.2/dist/css/bootstrap.min.css\"\n",
    "    rel=\"stylesheet\"\n",
    "    integrity=\"sha384-T3c6CoIi6uLrA9TneNEoa7RxnatzjcDSCmG1MXxSR1GAsXEV/Dwwykc2MPK8M2HN\"\n",
    "    crossorigin=\"anonymous\">\n",
    "\n",
    "  <!-- This link includes bootstrap icons CDN to all pages. -->\n",
    "  <link rel=\"stylesheet\"\n",
    "    href=\"https://cdn.jsdelivr.net/npm/bootstrap-icons@1.3.0/font/bootstrap-icons.css\">\n",
    "  <title>Todo List</title>\n",
    "</head>\n",
    "\n",
    "<body>\n",
    "  <div class=\"container\">\n",
    "    {% block content %}{% endblock content %}\n",
    "  </div>\n",
    "</body>\n",
    "\n",
    "</html>\n"
   ]
  },
  {
   "cell_type": "markdown",
   "metadata": {
    "slideshow": {
     "slide_type": "subslide"
    }
   },
   "source": [
    "### The Home Template\n",
    "\n",
    "Each app can have many template files. The `\"APP_DIRS\": True,` in the `TEMPLATES` item of project setting file means you can define app templates in app's `templates` directory.\n",
    "\n",
    "Create `tasks/templates/tasks/task_list.html` with the following content. Django has conventions about directory structure and filename. Using a `<model_name>_list.html` saves a configuration in a view class that uses the template. Here the `<model_name>` is `task` because the model class is `Task`."
   ]
  },
  {
   "cell_type": "code",
   "execution_count": null,
   "metadata": {
    "slideshow": {
     "slide_type": "subslide"
    },
    "vscode": {
     "languageId": "html"
    }
   },
   "outputs": [],
   "source": [
    "{% extends \"base.html\" %}\n",
    "\n",
    "{% block content %}\n",
    "\n",
    "<h1>Todo Tasks</h1>\n",
    "\n",
    "{% endblock content %}\n"
   ]
  },
  {
   "cell_type": "markdown",
   "metadata": {
    "slideshow": {
     "slide_type": "slide"
    }
   },
   "source": [
    "## View\n",
    "\n",
    "Typically, a Django view takes an HTTP requests as its input, loads and processes application data, generates a HTTP response using a template, then returns a `HttpResponse` object or raises an exception.\n",
    "\n",
    "There are three steps to create a view: \n",
    "\n",
    "- create a template that is used to render the response.\n",
    "- define the view function/class that process data and render response.\n",
    "- configure an URL pattern for the view."
   ]
  },
  {
   "cell_type": "markdown",
   "metadata": {
    "slideshow": {
     "slide_type": "subslide"
    }
   },
   "source": [
    "### The Home View\n",
    "\n",
    "Django is famous for its simplicity and rich built-in features because it provides many functions and classes for common tasks.\n",
    "\n",
    "It is common to show a list of objects. Django has a so-called __generic view class__ `ListView` as a super class for such views.\n",
    "\n",
    "The home view shows a list of tasks, the view definition in `tasks/views.py` is very simple. By specifying `model = Task`, the view gets tasks from database and render the `task_list.html` with list of tasks. If you don't use the `task_list.html` as the template name, you should set `template_name` class attribute to the customized template name."
   ]
  },
  {
   "cell_type": "code",
   "execution_count": null,
   "metadata": {},
   "outputs": [],
   "source": [
    "from django.views.generic import ListView\n",
    "\n",
    "from .models import Task\n",
    "\n",
    "\n",
    "class TaskListView(ListView):\n",
    "    model = Task\n"
   ]
  },
  {
   "cell_type": "markdown",
   "metadata": {
    "slideshow": {
     "slide_type": "subslide"
    }
   },
   "source": [
    "### Set URLs\n",
    "\n",
    "You need to set two types of URLs\n",
    "\n",
    "- the `tasks` app URLs: create a path as shown `tasks/urls.py` file - as shown below.\n",
    "- link the `tasks` URLs to the project root URLs. Add `path(\"\", include(\"tasks.urls\")),` as the first item to the `urlpatterns` in `todo_site/urls.py`.\n",
    "\n",
    "Now you should be able to see the `Todo Tasks` H1 header in the homepage."
   ]
  },
  {
   "cell_type": "code",
   "execution_count": null,
   "metadata": {},
   "outputs": [],
   "source": [
    "# tasks/urls.py\n",
    "\n",
    "from django.urls import path\n",
    "\n",
    "from .views import TaskListView\n",
    "\n",
    "urlpatterns = [\n",
    "    path(\"\", TaskListView.as_view(), name=\"task_list\"),\n",
    "]\n"
   ]
  },
  {
   "cell_type": "markdown",
   "metadata": {
    "slideshow": {
     "slide_type": "slide"
    }
   },
   "source": [
    "## Form\n",
    "\n",
    "A web page uses forms to display widgets such as input box, dropdown list, radio button etc to get user inputs.\n",
    "\n",
    "Forms are used to create a new object and to update an existing object.\n",
    "\n",
    "Again, Python provides help class to make it easy to create forms.\n",
    "\n",
    "To define a form class, use the `ModelForm` super class, then specify the data model and data fields used in form template file."
   ]
  },
  {
   "cell_type": "code",
   "execution_count": null,
   "metadata": {},
   "outputs": [],
   "source": [
    "# tasks/test_form.py\n",
    "\n",
    "from django.forms import ModelForm\n",
    "from .models import Task\n",
    "\n",
    "\n",
    "class TaskForm(ModelForm):\n",
    "    class Meta:\n",
    "        model = Task\n",
    "        fields = \"__all__\"\n"
   ]
  },
  {
   "cell_type": "markdown",
   "metadata": {
    "slideshow": {
     "slide_type": "subslide"
    }
   },
   "source": [
    "### Form Template\n",
    "\n",
    "A form template uses a form class to create/update an instance of the specified model class.\n",
    "\n",
    "To make it simple, use `<model_name>_form.html` as the form template name.\n",
    "\n",
    "Create `tasks/templates/tasks/task_form.html`."
   ]
  },
  {
   "cell_type": "code",
   "execution_count": null,
   "metadata": {
    "vscode": {
     "languageId": "html"
    }
   },
   "outputs": [],
   "source": [
    "{% extends \"base.html\" %}\n",
    "\n",
    "{% block content %}\n",
    "\n",
    "<h1>Create a Task v2</h1>\n",
    "<form method=\"post\">\n",
    "  {% csrf_token %}\n",
    "  {{ form.as_p }}\n",
    "  <input type=\"submit\" />\n",
    "</form>\n",
    "\n",
    "{% endblock content %}\n"
   ]
  },
  {
   "cell_type": "markdown",
   "metadata": {
    "slideshow": {
     "slide_type": "slide"
    }
   },
   "source": [
    "## CRUD Operations\n",
    "\n",
    "CRUD stands for Create, Read, Update and Delete, four common object operations.\n",
    "\n",
    "It is not a surprise that Django provides four generic classes as base classes for CRUD views:\n",
    "\n",
    "- `CreateView`: create an object \n",
    "- `DetailView`: show object attributes\n",
    "- `UpdateView`: update object attributes\n",
    "- `DeleteView`: delete an object"
   ]
  },
  {
   "cell_type": "markdown",
   "metadata": {
    "slideshow": {
     "slide_type": "subslide"
    }
   },
   "source": [
    "### Create Operation\n",
    "\n",
    "- View\n",
    "    - Define a `TaskCreateView` subclass of `CreateView` in `views.py`.\n",
    "    - Set its `model`, `form_class`, and `success_url`. By default, the view uses `<model_name>_form.html` as its template.\n",
    "    - Use `reverse_lazy()` to get home URL at runtime.\n",
    "- Url\n",
    "    - Add `path(\"create/\", TaskCreateView.as_view(), name=\"task_create\"),` to `urlpatterns` in `tasks/urls.py`"
   ]
  },
  {
   "cell_type": "code",
   "execution_count": null,
   "metadata": {
    "slideshow": {
     "slide_type": "subslide"
    }
   },
   "outputs": [],
   "source": [
    "from django.views.generic import CreateView\n",
    "\n",
    "from django.urls import reverse_lazy\n",
    "from .models import Task\n",
    "from .task_form import TaskForm\n",
    "\n",
    "class TaskCreateView(CreateView):\n",
    "    model = Task\n",
    "    form_class = TaskForm\n",
    "    success_url = reverse_lazy(\"task_list\")\n"
   ]
  },
  {
   "cell_type": "markdown",
   "metadata": {
    "slideshow": {
     "slide_type": "subslide"
    }
   },
   "source": [
    "### Revise Home Template\n",
    "\n",
    "Add two components in `tasks/templates/tasks/task_list.html`:\n",
    "\n",
    "- A link to `task_create` url\n",
    "- A table that shows a list of tasks. The list of tasks is the context object that could be accessed as `task_list` or `object_list`."
   ]
  },
  {
   "cell_type": "code",
   "execution_count": null,
   "metadata": {
    "slideshow": {
     "slide_type": "subslide"
    },
    "vscode": {
     "languageId": "html"
    }
   },
   "outputs": [],
   "source": [
    "{% extends \"base.html\" %}\n",
    "\n",
    "{% block content %}\n",
    "\n",
    "<h1>Todo Tasks</h1>\n",
    "<a href=\"{% url 'task_create' %}\">Add Task</a>\n",
    "\n",
    "<table class=\"table table-striped\">\n",
    "  <thead>\n",
    "    <tr>\n",
    "      <th>Task</th>\n",
    "      <th>Done?</th>\n",
    "      <th>Action</th>\n",
    "    </tr>\n",
    "  </thead>\n",
    "  <tbody>\n",
    "    {% for task in task_list %}\n",
    "    <tr>\n",
    "      <td>\n",
    "        {{ task.name }}\n",
    "      </td>\n",
    "      <td>\n",
    "        {% if task.is_done %}Yes{% else %}No{% endif %}\n",
    "      </td>\n",
    "\n",
    "    </tr>\n",
    "    {% endfor %}\n",
    "  </tbody>\n",
    "</table>\n",
    "\n",
    "{% endblock content %}\n"
   ]
  },
  {
   "cell_type": "markdown",
   "metadata": {
    "slideshow": {
     "slide_type": "subslide"
    }
   },
   "source": [
    "### Read Operation \n",
    "\n",
    "- View\n",
    "    - Define a `TaskDetailView` subclass of `DetailView` in `views.py`.\n",
    "- Template\n",
    "    - Create `tasks/templates/tasks/task_detail.html` template\n",
    "- Url\n",
    "    - Add `path(\"tasks/<int:pk>/\", TaskDetailView.as_view(), name=\"task_detail\"),` to `urlpatterns` in `tasks/urls.py`\n",
    "- Link from home view\n",
    "   - Add a link in `tasks/templates/tasks/task_list.html` for each task to open the task detail page."
   ]
  },
  {
   "cell_type": "code",
   "execution_count": null,
   "metadata": {
    "slideshow": {
     "slide_type": "subslide"
    }
   },
   "outputs": [],
   "source": [
    "from django.views.generic import DetailView\n",
    "\n",
    "\n",
    "class TaskDetailView(DetailView):\n",
    "    model = Task\n"
   ]
  },
  {
   "cell_type": "code",
   "execution_count": null,
   "metadata": {
    "slideshow": {
     "slide_type": "subslide"
    },
    "vscode": {
     "languageId": "html"
    }
   },
   "outputs": [],
   "source": [
    "{% extends \"base.html\" %}\n",
    "\n",
    "{% block content %}\n",
    "\n",
    "<h1>{{ task.name }}</h1>\n",
    "<p>{{ task.description }}</p>\n",
    "<p>Completed: {% if task.is_done %}Yes{% else %}No{% endif %}</p>\n",
    "\n",
    "<a class=\"btn btn-info\" href=\"{% url 'task_list' %}\" role=\"button\">Home</a>\n",
    "\n",
    "{% endblock content %}\n"
   ]
  },
  {
   "cell_type": "code",
   "execution_count": null,
   "metadata": {
    "slideshow": {
     "slide_type": "subslide"
    },
    "vscode": {
     "languageId": "html"
    }
   },
   "outputs": [],
   "source": [
    "<!-- add a link for each task before the <td> cell of task name in tasks/task_list.html -->\n",
    "<a class=\"icon-link\" href=\"{% url 'task_detail' task.pk %}\">\n",
    "  <i class=\"bi bi-receipt\"></i> </a>\n",
    "&nbsp;\n"
   ]
  },
  {
   "cell_type": "markdown",
   "metadata": {
    "slideshow": {
     "slide_type": "subslide"
    }
   },
   "source": [
    "### Update Operation\n",
    "\n",
    "- View\n",
    "    - Define a `TaskUpdateView` subclass of `UpdateView` in `views.py`.\n",
    "    - Set its `model`, `form_class`, and `success_url`. By default, it uses form template `task_form.html`.\n",
    "    - Use `reverse_lazy()` to get home URL at runtime.\n",
    "- Url\n",
    "    - Add `path(\"tasks/<int:pk>/update/\", TaskUpdateView.as_view(), name=\"task_update\"),` to `urlpatterns` in `tasks/urls.py`.\n",
    "- A link from task detail view"
   ]
  },
  {
   "cell_type": "code",
   "execution_count": null,
   "metadata": {
    "slideshow": {
     "slide_type": "subslide"
    }
   },
   "outputs": [],
   "source": [
    "from django.views.generic import UpdateView\n",
    "\n",
    "class TaskUpdateView(UpdateView):\n",
    "    model = Task\n",
    "    form_class = TaskForm\n",
    "    success_url = reverse_lazy(\"task_list\")\n"
   ]
  },
  {
   "cell_type": "code",
   "execution_count": null,
   "metadata": {
    "slideshow": {
     "slide_type": "subslide"
    },
    "vscode": {
     "languageId": "html"
    }
   },
   "outputs": [],
   "source": [
    "<!-- add a link for each task in tasks/task_detail.html -->\n",
    "{% extends \"base.html\" %}\n",
    "\n",
    "{% block content %}\n",
    "\n",
    "<h1>{{ task.name }}</h1>\n",
    "<p>{{ task.description }}</p>\n",
    "<p>Completed: {% if task.is_done %}Yes{% else %}No{% endif %}</p>\n",
    "<br >\n",
    "<a href=\"{% url 'task_update' task.pk %}\">Edit task</a>\n",
    "\n",
    "{% endblock content %}\n"
   ]
  },
  {
   "cell_type": "markdown",
   "metadata": {
    "slideshow": {
     "slide_type": "subslide"
    }
   },
   "source": [
    "### Delete Operation\n",
    "\n",
    "- View\n",
    "    - Define a `TaskDeleteView` subclass of `DeleteView` in `views.py`.\n",
    "- Template\n",
    "    - Create `tasks/templates/tasks/task_confirm_delete.html` template\n",
    "- Url\n",
    "    - Add `path(\"tasks/<int:pk>/delete/\", TaskDeleteView.as_view(), name=\"task_delete\"),` to `urlpatterns` in `tasks/urls.py`\n",
    "- Link from home view and detail view for each task"
   ]
  },
  {
   "cell_type": "code",
   "execution_count": null,
   "metadata": {
    "slideshow": {
     "slide_type": "subslide"
    }
   },
   "outputs": [],
   "source": [
    "from django.views.generic import DeleteView\n",
    "\n",
    "from django.urls import reverse_lazy\n",
    "\n",
    "\n",
    "class TaskDeleteView(DeleteView):\n",
    "    model = Task\n",
    "    success_url = reverse_lazy(\"task_list\")\n"
   ]
  },
  {
   "cell_type": "code",
   "execution_count": null,
   "metadata": {
    "slideshow": {
     "slide_type": "subslide"
    },
    "vscode": {
     "languageId": "html"
    }
   },
   "outputs": [],
   "source": [
    "{% extends \"base.html\" %}\n",
    "\n",
    "{% block content %}\n",
    "<h1>Confirm Delete V3</h1>\n",
    "<p>Are you sure you want to delete task \"{{ task.name }}\"?</p>\n",
    "<form method=\"post\">\n",
    "  {% csrf_token %}\n",
    "  <button type=\"submit\">Delete</button>\n",
    "  <a href=\"{% url 'task_list' %}\">Cancel</a>\n",
    "</form>\n",
    "\n",
    "{% endblock content %}\n"
   ]
  },
  {
   "cell_type": "code",
   "execution_count": null,
   "metadata": {
    "slideshow": {
     "slide_type": "subslide"
    },
    "vscode": {
     "languageId": "html"
    }
   },
   "outputs": [],
   "source": [
    "<!-- in task_list.html, before each task name -->\n",
    "\n",
    "<a class=\"icon-link\" href=\"{% url 'task_delete' task.pk %}\">\n",
    "  <i class=\"bi bi-trash\"></i>\n",
    "</a>\n",
    "&nbsp;\n",
    "\n",
    "\n",
    "<!-- in task_detail.html, before edit link -->\n",
    "<a href=\"{% url 'task_delete' task.pk %}\">Delete task</a>\n"
   ]
  }
 ],
 "metadata": {
  "language_info": {
   "name": "python"
  },
  "orig_nbformat": 4
 },
 "nbformat": 4,
 "nbformat_minor": 2
}
