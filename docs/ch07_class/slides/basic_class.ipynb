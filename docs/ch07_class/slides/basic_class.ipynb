{
 "cells": [
  {
   "cell_type": "markdown",
   "metadata": {
    "slideshow": {
     "slide_type": "slide"
    }
   },
   "source": [
    "# Basic Class\n",
    "\n",
    "- Introduction\n",
    "- Define a Class\n",
    "- Instances\n",
    "- Inheritance\n",
    "- Cautious About OOP"
   ]
  },
  {
   "cell_type": "markdown",
   "metadata": {
    "slideshow": {
     "slide_type": "slide"
    }
   },
   "source": [
    "## 1 Introduction\n",
    "\n",
    "Every Python data is an object. Except literal values of built-in types, all objects are created from classes. In object-oriented programming (OOP), these objects are called _instances_. A class, working as a template, defines the attributes and methods that its instances can have. A class is the type of its instances."
   ]
  },
  {
   "cell_type": "markdown",
   "metadata": {
    "slideshow": {
     "slide_type": "subslide"
    }
   },
   "source": [
    "### 1.1 Why Class and OOP?\n",
    "\n",
    "There are many reasons for class and the object-oriented programming paradigm. Some common reasons for Python OOP are:\n",
    "\n",
    "- People use the concepts of class (type) and instance in real life.\n",
    "- OOP brings the benefits of inheritance, encapsulation, and polymorphism.\n",
    "- In Python, class provides a unified method to allows developers to create new data types that organize data and functions in a flexible way."
   ]
  },
  {
   "cell_type": "markdown",
   "metadata": {
    "slideshow": {
     "slide_type": "subslide"
    }
   },
   "source": [
    "### 1.2 Inheritance\n",
    "\n",
    "Classes have the parent-child relationship. A __subclass__ (or __child class__) can inherits from one or more __superclasses__ (or __parent class__). A superclass can be inherited by many subclasses.\n",
    "\n",
    "This is called implementation inheritance because a subclass inherits all attributes and methods defined in its superclass code. A subclass can choose to override the inherited attributes and methods.\n",
    "\n",
    "Theoretically, inheritance reduces redundant code in its subclasses.\n",
    "\n",
    "Practically, inheritance, especially deep class hierarchy, creates strong coupling among classes. When there is a change, it is hard to change the involved classes."
   ]
  },
  {
   "cell_type": "markdown",
   "metadata": {
    "slideshow": {
     "slide_type": "subslide"
    }
   },
   "source": [
    "### 1.3 Encapsulation\n",
    "\n",
    "The data (the attributes) and functions (the methods) are encapsulated inside a class. You only use methods and attributes, together called interfaces, to access instances. \n",
    "\n",
    "The implementation of attributes and methods could be changed without affecting its use if the class interface doesn't change. Python allows you to implement attributes using methods -- the so-called __uniform access principle__.\n",
    "\n",
    "Encapsulation is a desired objective. In practice, it is hard to define a flexible interface that works in different contents. "
   ]
  },
  {
   "cell_type": "markdown",
   "metadata": {
    "slideshow": {
     "slide_type": "subslide"
    }
   },
   "source": [
    "### 1.4 Polymorphism\n",
    "\n",
    "An operation can work on different types.\n",
    "\n",
    "Polymorphism provides simplicity for both coding and conceptual understanding.\n",
    "\n",
    "For example:\n",
    "\n",
    "- the built-in `+` works with two numbers or two strings. Both `3 + 5` and `\"Good\" + \" day\"` make sense.\n",
    "- the built-in `len` function can work with a string, a list, or ideally any collection data types. It is easy that you can use `len('abc')` and `len([10, 20, 30])`."
   ]
  },
  {
   "cell_type": "markdown",
   "metadata": {
    "slideshow": {
     "slide_type": "subslide"
    }
   },
   "source": [
    "### 1.5 Beyond OOP\n",
    "\n",
    "In addition to OOP, classes are used to define new data types, primarily for three purposes:\n",
    "\n",
    "- composite data that consists of a collection of attributes. It is often called __data classes__. The purpose is to make it easy to use the composite data and its parts.\n",
    "- stateful objects. Some object operations are stateful, i.e., each method call may return different results because the internal states may change in a method call. A user interface is a typical stateful object. People avoid stateful objects in multi-thread computation because it may introduce subtle concurrent bugs.\n",
    "- combination of data and relevant operations. For example, a complex number and common complex number operations are defined in a `complex` class. Usually the class data is immutable to distinguish it from a stateful object."
   ]
  },
  {
   "cell_type": "markdown",
   "metadata": {
    "slideshow": {
     "slide_type": "slide"
    }
   },
   "source": [
    "## 2 Define a Class\n",
    "\n",
    "You use the `class` statement to define a class. Following is an example:"
   ]
  },
  {
   "cell_type": "code",
   "execution_count": 4,
   "metadata": {},
   "outputs": [],
   "source": [
    "class Rectangle:\n",
    "    def __init__(self, length, width):\n",
    "        self.length = length\n",
    "        self.width = width\n",
    "\n",
    "    def area(self):\n",
    "        return self.length * self.width\n"
   ]
  },
  {
   "cell_type": "markdown",
   "metadata": {
    "slideshow": {
     "slide_type": "subslide"
    }
   },
   "source": [
    "### 2.1 Explanation\n",
    "\n",
    "The following is line-by-line explanation of the code.\n",
    "\n",
    "- `class Rectangle:`: defines a class named `Rectangle`.\n",
    "-  `def __init__(self, length, width):`: the `__init__` is a special initialization method, also called a `initialization` method, it is used to initialize an instance of the class. The first parameter of all class methods should be `self`. It means the object being initialized. After the `self`, you can have zero, one or more parameters used to create an object for the class. Here we have two parameters.\n",
    "- `self.length = length`: this line create an attribute called `length` because the syntax of `self.length`.\n",
    "- `self.width = width`: this line create an attribute called `width` because the syntax of `self.width`.\n",
    "- `def area(self):`: this line defines a method called `area`. The first parameter must be `self` and it doesn't take other parameter. \n",
    "- `return self.length * self.width`: the method body of `area` method. Inside the class methods, use `self.attribute_name` to refer the object's attribute."
   ]
  },
  {
   "cell_type": "markdown",
   "metadata": {
    "slideshow": {
     "slide_type": "slide"
    }
   },
   "source": [
    "## 3 Instances\n",
    "\n",
    "You use the class name and the parameters specified in `__init__` method to create and initialize an object. To call an object method or access an attribute, use the dot notations explained as the following:\n",
    "\n",
    "- `rect = Rectangle(3, 5)`: create an instance of `Rectangle` with specified length and width. `rect` points to the newly created object.\n",
    "- `area = rect.area()`: The dot notation `rect.area()` is used to call a method of an object.\n",
    "- `print(f'Length: {rect.length}, width: {rect.width}, area: {area}')`: print the result. Use not notation `rect.length` and `rect.width` to access object's properties."
   ]
  },
  {
   "cell_type": "code",
   "execution_count": null,
   "metadata": {},
   "outputs": [],
   "source": [
    "rectangle = Rectangle(3, 5)\n",
    "area = rectangle.area()\n",
    "print(f'Length: {rectangle.length}, width: {rectangle.width}, area: {area}')\n"
   ]
  },
  {
   "cell_type": "markdown",
   "metadata": {
    "slideshow": {
     "slide_type": "subslide"
    }
   },
   "source": [
    "\n",
    "### 3.1 Change Attribute\n",
    "\n",
    "You can use the attribute to change the object by putting the attribute in the left hand side of an assignment. For example:\n"
   ]
  },
  {
   "cell_type": "code",
   "execution_count": null,
   "metadata": {},
   "outputs": [],
   "source": [
    "rectangle.width = 7\n",
    "area = rectangle.area()\n",
    "print(f'Length: {rectangle.length}, width: {rectangle.width}, area: {area}')\n"
   ]
  },
  {
   "cell_type": "markdown",
   "metadata": {
    "slideshow": {
     "slide_type": "subslide"
    }
   },
   "source": [
    "### 3.3 Instance Method\n",
    "\n",
    "In the above code, `rectangle.area()` calls the `area()` instance method. Python will automatically pass the `rectangle` instance as the first argument to the method.\n",
    "\n",
    "Actually, it is a syntax sugar of `area2 = Rectangle.area(rectangle)`. This call matches the function header `def area(self):` but it is more verbose than the instance call syntax."
   ]
  },
  {
   "cell_type": "markdown",
   "metadata": {
    "slideshow": {
     "slide_type": "subslide"
    }
   },
   "source": [
    "### 3.3 OOP Benefits\n",
    "\n",
    "- Encapsulation: the data (the attributes) and functions (the methods) are encapsulated inside a class. You only use methods (`rectangle.area()`) and attributes ()`rectangle.length` and `rectangle.width`), together called interfaces, to access data. The detail implementation could be changed without affecting its interfaces.\n",
    "- Polymorphism: a function can work on different types. In the following example, the `print_area()` function can use any object that has an `area()` method. code using the class and its objects.\n",
    "- Inheritance: a subclass reuses its superclass attributes/methods"
   ]
  },
  {
   "cell_type": "code",
   "execution_count": null,
   "metadata": {
    "slideshow": {
     "slide_type": "subslide"
    }
   },
   "outputs": [],
   "source": [
    "import math\n",
    "\n",
    "class Circle:\n",
    "    def __init__(self, radius):\n",
    "        self.radius = radius\n",
    "    \n",
    "    def area(self):\n",
    "        return math.pi * self.radius ** 2 \n",
    "\n",
    "def print_area(shape):\n",
    "    print(shape.area())\n",
    "\n",
    "circle = Circle(10)\n",
    "rectangle = Rectangle(2, 5)\n",
    "\n",
    "print_area(circle)\n",
    "print_area(rectangle)\n"
   ]
  },
  {
   "cell_type": "markdown",
   "metadata": {
    "slideshow": {
     "slide_type": "slide"
    }
   },
   "source": [
    "## 4 Inheritance\n",
    "\n",
    "When multiple classes share some common attributes or methods, you can define a base class or a parent class and put common attributes/methods in it. When another class inherits the base class, the subclass/child class will have all the properties/methods defined in its parent class. For example, assume that both `Rectangle` and `Circle` have a `color` attribute , you can define a base class `Shape`. "
   ]
  },
  {
   "cell_type": "code",
   "execution_count": null,
   "metadata": {
    "slideshow": {
     "slide_type": "subslide"
    }
   },
   "outputs": [],
   "source": [
    "import math\n",
    "\n",
    "class Shape:\n",
    "    def __init__(self, color):\n",
    "        self.color = color\n",
    "\n",
    "    # suppose we also have many methods/attributes\n",
    "    # ....\n",
    "    def do_something(self):\n",
    "        print(f'a {self.color} task, hundred lines of code')\n",
    "\n",
    "class Circle(Shape):\n",
    "    def __init__(self, color, radius):\n",
    "        # you must initialize parent first \n",
    "        # same as Shape.__init__(self, color)\n",
    "        super().__init__(color)   \n",
    "        self.radius = radius\n",
    "\n",
    "    def area(self):\n",
    "        return self.radius * self.radius * math.pi\n",
    "\n",
    "class Rectangle(Shape):\n",
    "    # a special method used to create an instance of this class\n",
    "    # this method initialize instance attributes\n",
    "    def __init__(self, color, length, width):\n",
    "        # you must initialize parent first \n",
    "        # same as Shape.__init__(self, color)\n",
    "        super().__init__(color)   \n",
    "        self.length = length\n",
    "        self.width = width\n",
    "\n",
    "    def area(self):\n",
    "        return self.length * self.width\n",
    "\n",
    "# an instance/object of the Rectangle class\n",
    "rect = Rectangle('red', 5, 3)\n",
    "circle = Circle('blue', 10)\n",
    "\n",
    "rect.do_something()\n",
    "circle.do_something()\n"
   ]
  },
  {
   "cell_type": "markdown",
   "metadata": {
    "slideshow": {
     "slide_type": "slide"
    }
   },
   "source": [
    "## 5 Cautious About OOP\n",
    "\n",
    "OO was popular because it works well in business applications and GUI applications.\n",
    "\n",
    "These days, as computers have multiple cores and more code are developed for backend data processing, OO shows some disadvantages:\n",
    "\n",
    "- combine data and function in a class is error prone because instances can be changed and shared by multiple threads. Like global data, it is dangerous. Immutable data are preferred this days. \n",
    "- inheritance, especially multiple inheritance, is confusing and not used widely in data processing.\n",
    "\n",
    "It is nice to know the basic terms because OO had been popular for more than two decades and there are many legacy code. New applications, especially data-intensive applications, use more and more immutable data and functions (not object methods).\n",
    "\n",
    "Using functions to process immutable data, so-called __functional programming__, is a popular choice for processing large amount of data."
   ]
  },
  {
   "cell_type": "markdown",
   "metadata": {
    "slideshow": {
     "slide_type": "subslide"
    }
   },
   "source": [
    "### 5.1 More Learning Resources\n",
    "\n",
    "- For beginners: [Object-Oriented Programming is Good*](https://www.youtube.com/watch?v=0iyB0_qPvWk)\n",
    "- For experienced: [Object Oriented Programming is not what I thought](https://www.youtube.com/watch?v=TbP2B1ijWr8)\n",
    "- For more experienced/curious: [4 Programming Paradigms In 40 Minutes](https://www.youtube.com/watch?v=cgVVZMfLjEI)"
   ]
  }
 ],
 "metadata": {
  "kernelspec": {
   "display_name": "Python 3.10.6 64-bit",
   "language": "python",
   "name": "python3"
  },
  "language_info": {
   "codemirror_mode": {
    "name": "ipython",
    "version": 3
   },
   "file_extension": ".py",
   "mimetype": "text/x-python",
   "name": "python",
   "nbconvert_exporter": "python",
   "pygments_lexer": "ipython3",
   "version": "3.11.4"
  },
  "metadata": {
   "interpreter": {
    "hash": "aee8b7b246df8f9039afb4144a1f6fd8d2ca17a180786b69acc140d282b71a49"
   }
  },
  "orig_nbformat": 2,
  "vscode": {
   "interpreter": {
    "hash": "949777d72b0d2535278d3dc13498b2535136f6dfe0678499012e853ee9abcab1"
   }
  }
 },
 "nbformat": 4,
 "nbformat_minor": 2
}
