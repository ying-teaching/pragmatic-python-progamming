{
 "cells": [
  {
   "cell_type": "markdown",
   "metadata": {
    "slideshow": {
     "slide_type": "slide"
    }
   },
   "source": [
    "# Advanced Class\n",
    "\n",
    "- Class and Static Method\n",
    "- Class Attribute\n",
    "- Data Class\n",
    "- Dynamic Attribute\n",
    "- Typing"
   ]
  },
  {
   "cell_type": "markdown",
   "metadata": {
    "slideshow": {
     "slide_type": "slide"
    }
   },
   "source": [
    "## Class and Static Method\n",
    "\n",
    "By convention, the first parameter of a method is `self`. It points to the newly created instance. In runtime, Python interpreter provides the argument. These methods are called __instance methods__.\n",
    "\n",
    "Python has two other types of methods:\n",
    "\n",
    "- Class method: the first parameter is `cls` that points to the current class type. In runtime, Python interpreter provides the `cls` argument. Class methods are used to modify class attributes that will be introduced later.\n",
    "- Static method: Python interpreter doesn't provide any argument. These methods work like functions because they cannot change any class or instance attributes. They are defined in the class namespace. "
   ]
  },
  {
   "cell_type": "markdown",
   "metadata": {
    "slideshow": {
     "slide_type": "subslide"
    }
   },
   "source": [
    "### Class Method\n",
    "\n",
    "Python uses the `@classmethod` decorator to specify a class method. A __decorator__ is a Python programming constructor that provide addition information or functions for a class, a function, a class attribute or a method.\n",
    "\n",
    "You can call a class method without an instance using the `ClassName.method()` syntax. You can also call it with a class instance. Python interpreter provides the `cls` argument for both types of call."
   ]
  },
  {
   "cell_type": "code",
   "execution_count": null,
   "metadata": {
    "slideshow": {
     "slide_type": "subslide"
    }
   },
   "outputs": [],
   "source": [
    "class MyClass:\n",
    "\n",
    "    @classmethod\n",
    "    def call_method(cls):\n",
    "        print(f\"class method of {cls}\")\n",
    "\n",
    "MyClass.call_method() # class method of <class '__main__.MyClass'>\n",
    "\n",
    "my = MyClass() \n",
    "my.call_method() # class method of <class '__main__.MyClass'>\n"
   ]
  },
  {
   "cell_type": "markdown",
   "metadata": {
    "slideshow": {
     "slide_type": "subslide"
    }
   },
   "source": [
    "### Static Method\n",
    "\n",
    "Python uses the `@staticmethod` decorator to specify a static method. \n",
    "\n",
    "You can call a class method without an instance using the `ClassName.method()` syntax. You can also call it with a class instance. Python interpreter provides no argument for both types of call."
   ]
  },
  {
   "cell_type": "code",
   "execution_count": null,
   "metadata": {
    "slideshow": {
     "slide_type": "subslide"
    }
   },
   "outputs": [],
   "source": [
    "class MyClass:\n",
    "\n",
    "    @staticmethod\n",
    "    def call_method(number):\n",
    "        print(f\"call static method with argument {number}\")\n",
    "\n",
    "MyClass.call_method(42) # call static method with argument 42\n",
    "\n",
    "my = MyClass()\n",
    "my.call_method(42) # call static method with argument 42\n"
   ]
  },
  {
   "cell_type": "markdown",
   "metadata": {
    "slideshow": {
     "slide_type": "slide"
    }
   },
   "source": [
    "## Class Attribute\n",
    "\n",
    "A class is a blueprint for its instances.\n",
    "\n",
    "A class is an object in Python that can have its own attributes.\n",
    "\n",
    "A class attribute is defined directly in a class body.\n",
    "\n",
    "A class attribute can be access using both class name and the instances of the class.\n",
    "\n",
    "If you write an attribute using an instance, it creates an instance attribute."
   ]
  },
  {
   "cell_type": "code",
   "execution_count": null,
   "metadata": {
    "slideshow": {
     "slide_type": "subslide"
    }
   },
   "outputs": [],
   "source": [
    "class MyClass:\n",
    "    class_count = 1\n",
    "\n",
    "    def __init__(self, count):\n",
    "        self.instance_count = count\n",
    "\n",
    "print(MyClass.class_count) # 1\n",
    "\n",
    "MyClass.class_count += 1\n",
    "print(MyClass.class_count) # 2\n",
    "\n",
    "my = MyClass(42)\n",
    "print(my.class_count) # 2\n",
    "print(my.instance_count) # 42\n",
    "\n",
    "# this creates a new instance attributed named class_count\n",
    "my.class_count = 7 \n",
    "print(my.class_count) # 7\n",
    "\n",
    "# class attribute is still there\n",
    "print(MyClass.class_count) # 2\n"
   ]
  },
  {
   "cell_type": "markdown",
   "metadata": {
    "slideshow": {
     "slide_type": "subslide"
    }
   },
   "source": [
    "### Why Use Class Attribute\n",
    "\n",
    "Python developers use class attributes in two common cases:\n",
    "\n",
    "- with descriptor (to be introduced later), to define instance attributes with some processing logic.\n",
    "- To store class level data that is not associated with an instance. \n",
    "\n",
    "For example, keep a count of number of instances created. To avoid repeating the class name, you can use the __special attribute__ `self.__class__` to access its class object. In Python, identifiers start and end with double underscore are __special__ identifiers.  "
   ]
  },
  {
   "cell_type": "code",
   "execution_count": null,
   "metadata": {},
   "outputs": [],
   "source": [
    "class MyClass:\n",
    "    count = 0\n",
    "\n",
    "    def __init__(self, number):\n",
    "        self.__class__.count += 1\n",
    "        self.number = number\n",
    "\n",
    "first = MyClass(5)\n",
    "second = MyClass(7)\n",
    "print(MyClass.count) # 2\n"
   ]
  },
  {
   "cell_type": "markdown",
   "metadata": {
    "slideshow": {
     "slide_type": "slide"
    }
   },
   "source": [
    "## Data Class\n",
    "\n",
    "A data class consists of a collection of attributes. The purpose is to make it easy to use the composite data and its parts.\n",
    "\n",
    "Python provides three help classes for building data classes.\n",
    "\n",
    "- `collections.namedtuple`: a function to build composite data with named attributes.\n",
    "- `typing.NamedTuple`: a class used to build composite data with typed and named attributes.\n",
    "- `dataclasses.dataclass`: a decorator used to build data classes."
   ]
  },
  {
   "cell_type": "markdown",
   "metadata": {
    "slideshow": {
     "slide_type": "subslide"
    }
   },
   "source": [
    "### Why Data Class\n",
    "\n",
    "There are a lot of work to do to define a composite data class because a simple definition is not good enough.\n",
    "\n",
    "- The representation string is useless\n",
    "- The `==` uses the default identity equality that is incorrect here."
   ]
  },
  {
   "cell_type": "code",
   "execution_count": null,
   "metadata": {},
   "outputs": [],
   "source": [
    "class Point:\n",
    "    def __init__(self, x, y):\n",
    "        self.x = x\n",
    "        self.y = y\n",
    "\n",
    "point1 = Point(3, 5)\n",
    "point2 = Point(3, 5)\n",
    "print(point1) # <__main__.Point object at 0x1168c8390>\n",
    "print(point1 == point2) # False\n"
   ]
  },
  {
   "cell_type": "markdown",
   "metadata": {
    "slideshow": {
     "slide_type": "subslide"
    }
   },
   "source": [
    "### `collections.namedtuple`\n",
    "\n",
    "The `namedtuple` is a simple solution to fix the simple class issues. You can use `from module import name` syntax to import an identifier from the module."
   ]
  },
  {
   "cell_type": "code",
   "execution_count": null,
   "metadata": {},
   "outputs": [],
   "source": [
    "from collections import namedtuple\n",
    "\n",
    "Point = namedtuple(\"Point\", \"x y\")\n",
    "\n",
    "point1 = Point(3, 5)\n",
    "point2 = Point(3, 5)\n",
    "print(point1) # Point(x=3, y=5)\n",
    "print(point1 == point2) # True\n"
   ]
  },
  {
   "cell_type": "markdown",
   "metadata": {
    "slideshow": {
     "slide_type": "subslide"
    }
   },
   "source": [
    "### `typing.NamedTuple`\n",
    "\n",
    "The `NamedTuple` provides type hint to a data class. It works similar as `namedtuple`. In an IDE, it provides the type hints of data components. However, it doesn't enforce the data type in the runtime."
   ]
  },
  {
   "cell_type": "code",
   "execution_count": null,
   "metadata": {},
   "outputs": [],
   "source": [
    "from typing import NamedTuple\n",
    "\n",
    "class Point(NamedTuple):\n",
    "    x: float = 0\n",
    "    y: float = 0\n",
    "\n",
    "point1 = Point(3, 5)\n",
    "point2 = Point(3, 5)\n",
    "print(point1) # Point(x=3, y=5)\n",
    "print(point1 == point2) # True\n"
   ]
  },
  {
   "cell_type": "markdown",
   "metadata": {
    "slideshow": {
     "slide_type": "subslide"
    }
   },
   "source": [
    "### `dataclasses.dataclass`\n",
    "\n",
    "The `dataclass` is a decorator for building mutable or immutable data class."
   ]
  },
  {
   "cell_type": "code",
   "execution_count": null,
   "metadata": {},
   "outputs": [],
   "source": [
    "from dataclasses import dataclass\n",
    "\n",
    "@dataclass(frozen=True)\n",
    "class Point:\n",
    "    x: float\n",
    "    y: float\n",
    "\n",
    "point1 = Point(3, 5)\n",
    "point2 = Point(3, 5)\n",
    "print(point1) # Point(x=3, y=5)\n",
    "print(point1 == point2) # True\n"
   ]
  },
  {
   "cell_type": "markdown",
   "metadata": {
    "slideshow": {
     "slide_type": "subslide"
    }
   },
   "source": [
    "### Which One to Use\n",
    "\n",
    "- Simple immutable composite data: `namedtuple`\n",
    "- Simple with type hints: `NamedTuple`\n",
    "- Rich function or mutable composite data: `dataclass`"
   ]
  },
  {
   "cell_type": "markdown",
   "metadata": {
    "slideshow": {
     "slide_type": "slide"
    }
   },
   "source": [
    "## Dynamic Attribute\n",
    "\n",
    "In Python, both data attributes and methods of a class are collectively called as __attributes__.\n",
    "\n",
    "Methods are different from data attributes because they are __callable__ using a so-call function call syntax `obj.method()`.\n",
    "\n",
    "Dynamic attributes are calculated but are accessed as regular data attributes.\n",
    "\n",
    "Python provides `@property` decorator to define the read and write operations for dynamic attributes."
   ]
  },
  {
   "cell_type": "code",
   "execution_count": null,
   "metadata": {
    "slideshow": {
     "slide_type": "subslide"
    }
   },
   "outputs": [],
   "source": [
    "class Person:\n",
    "\n",
    "    def __init__(self, firstname, lastname):\n",
    "        self.firstname = firstname\n",
    "        self.lastname = lastname\n",
    "    \n",
    "    @property\n",
    "    def fullname(self):\n",
    "        return self.firstname + \" \" + self.lastname\n",
    "    \n",
    "    @fullname.setter\n",
    "    def fullname(self, full):\n",
    "        self.firstname, self.lastname = full.split()\n",
    "\n",
    "tom = Person(\"Tom\", \"Hank\")\n",
    "print(tom.fullname) # Tom Hank\n",
    "\n",
    "tom.fullname = \"Tommy Hanks\"\n",
    "print(tom.firstname, tom.lastname) # Tommy Hanks   \n"
   ]
  },
  {
   "cell_type": "markdown",
   "metadata": {
    "slideshow": {
     "slide_type": "subslide"
    }
   },
   "source": [
    "### Other Dynamic Attributes\n",
    "\n",
    "When you want to define some logics behind an attribute that can be used in multiple places, you can define the so-called __descriptor__ classes that control the read, write, and delete of class attributes.\n",
    "\n",
    "Additionally, special class methods such as `__getattr__` and `__setattr__` can also customize the attribute access behaviors.\n",
    "\n",
    "These advanced features are introduced in the Python data model section."
   ]
  },
  {
   "cell_type": "markdown",
   "metadata": {
    "slideshow": {
     "slide_type": "slide"
    }
   },
   "source": [
    "## Typing\n",
    "\n",
    "The type of a value defines the set of valid operations for the value.\n",
    "\n",
    "Typing is the mechanism of a programming language for type definition and type checking.\n",
    "\n",
    "A class defines the type of its instances. Its methods define its data operations.\n",
    "\n",
    "Therefore, class and class inheritance define the valid operations of an instance."
   ]
  },
  {
   "cell_type": "markdown",
   "metadata": {
    "slideshow": {
     "slide_type": "subslide"
    }
   },
   "source": [
    "### Dynamic Typing vs Static Typing\n",
    "\n",
    "Because there is no separate compiling stage for a Python program, Python is categorized as a __dynamic typing__ program language. A dynamic typing language checks data type and operations at runtime.\n",
    "\n",
    "Programming languages such as C, C++, Java and C# can check types and operations when they compile source code, they are called __static typing__ program language. These language can find many type errors during the compiling phase. \n",
    "\n",
    "Since Python 3.5, Python introduces __type hints__ that allow external type checker tools to check type and operations before the code execution. It helps to improve the code quality by finding out invalid daa operations such as dividing a string by a number."
   ]
  },
  {
   "cell_type": "markdown",
   "metadata": {
    "slideshow": {
     "slide_type": "subslide"
    }
   },
   "source": [
    "### Duck Typing and Goose Typing\n",
    "\n",
    "As a dynamic typing program language, Python supports two run-time typing mechanism:\n",
    "\n",
    "- duck typing: just run the operation, throw an exception if the value doesn't support it.\n",
    "- goose typing: use `isinstance` to check the instance type, then run the corresponding operations."
   ]
  },
  {
   "cell_type": "markdown",
   "metadata": {
    "slideshow": {
     "slide_type": "subslide"
    }
   },
   "source": [
    "### Duck Typing Example\n",
    "\n",
    "Python supports duck typing from the beginning. It got the name from the so-called __duck test__: \" if it quacks like a duck, then it is a duck\".\n",
    "\n",
    "For example, all Python objects have a special method `__str__`, either inherit from `object` or defined in their classes. The method creates a string representation of the object, Therefore, you can call `print(obj)` for any object. `print` just call the `obj.__str__()` and write the string.\n",
    "\n",
    "The duck typing allows you to apply an operation on different types as long as they define a common method.\n",
    "\n",
    "Following is an example:"
   ]
  },
  {
   "cell_type": "code",
   "execution_count": null,
   "metadata": {
    "slideshow": {
     "slide_type": "subslide"
    }
   },
   "outputs": [],
   "source": [
    "class Duck:\n",
    "    def quack(self):\n",
    "        print(\"quack, quack\")\n",
    "\n",
    "class Player:\n",
    "    def quack(self):\n",
    "        print(\"quack like a duck\")\n",
    "\n",
    "\n",
    "actors = [Duck(), Player()]\n",
    "for actor in actors:\n",
    "    actor.quack()\n"
   ]
  },
  {
   "cell_type": "markdown",
   "metadata": {
    "slideshow": {
     "slide_type": "subslide"
    }
   },
   "source": [
    "### Goose Typing Example\n",
    "\n",
    "In goose typing, you check the type of an instance and call the corresponding operations."
   ]
  },
  {
   "cell_type": "code",
   "execution_count": null,
   "metadata": {},
   "outputs": [],
   "source": [
    "class Duck:\n",
    "    def quack(self):\n",
    "        print(\"quack, quack\")\n",
    "\n",
    "class Dog:\n",
    "    def bark(self):\n",
    "        print(\"bark, bark\")\n",
    "\n",
    "actors = [Duck(), Dog()]\n",
    "\n",
    "for actor in actors:\n",
    "    if isinstance(actor, Duck):\n",
    "        actor.quack()\n",
    "    elif isinstance(actor, Dog):\n",
    "        actor.bark()\n",
    "    else:\n",
    "        print(\"oops\")\n"
   ]
  },
  {
   "cell_type": "markdown",
   "metadata": {
    "slideshow": {
     "slide_type": "subslide"
    }
   },
   "source": [
    "### Abstract Base Classes\n",
    "\n",
    "To support goose typing, Python defines many __abstract base classes__ in its `collection.abc` module. Here the word `abstract` means that you don't create an instance for the classes. They are used for goose typing purpose.\n",
    "\n",
    "The supported operations are in [`collection.abc` document](https://docs.python.org/3/library/collections.abc.html).\n",
    "\n",
    "For example, if a class defines the special `__len__` method, then you can call `len` function on all its instances."
   ]
  },
  {
   "cell_type": "code",
   "execution_count": null,
   "metadata": {
    "slideshow": {
     "slide_type": "subslide"
    }
   },
   "outputs": [],
   "source": [
    "import collections.abc\n",
    "\n",
    "# return None if the object doesn't support len() operation\n",
    "def get_len_safe(my_obj):\n",
    "    size = None\n",
    "    if isinstance(my_obj, collections.abc.Sized):\n",
    "        size = len(my_obj)\n",
    "    \n",
    "    return size\n"
   ]
  }
 ],
 "metadata": {
  "kernelspec": {
   "display_name": "Python 3",
   "language": "python",
   "name": "python3"
  },
  "language_info": {
   "codemirror_mode": {
    "name": "ipython",
    "version": 3
   },
   "file_extension": ".py",
   "mimetype": "text/x-python",
   "name": "python",
   "nbconvert_exporter": "python",
   "pygments_lexer": "ipython3",
   "version": "3.11.4"
  },
  "orig_nbformat": 4
 },
 "nbformat": 4,
 "nbformat_minor": 2
}
