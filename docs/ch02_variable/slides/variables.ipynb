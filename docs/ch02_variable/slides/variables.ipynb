{
 "cells": [
  {
   "cell_type": "markdown",
   "metadata": {
    "slideshow": {
     "slide_type": "slide"
    }
   },
   "source": [
    "# Variables\n",
    "\n",
    "> Reference and Mutability\n",
    "\n",
    "- Object\n",
    "- Type\n",
    "- Value\n",
    "- Variable\n",
    "- Tuple\n",
    "- Mutability"
   ]
  },
  {
   "cell_type": "markdown",
   "metadata": {
    "slideshow": {
     "slide_type": "slide"
    }
   },
   "source": [
    "## Object Definition\n",
    "\n",
    "In [Python Reference Document](https://docs.python.org/3/reference/datamodel.html#objects-values-and-types):\n",
    "\n",
    "> All data in a Python program is represented by **objects** or by **relations between objects**.\n",
    "\n",
    "> Every object has an **identity**, a **type** and a **value**. "
   ]
  },
  {
   "cell_type": "markdown",
   "metadata": {
    "slideshow": {
     "slide_type": "subslide"
    }
   },
   "source": [
    "### Object in English\n",
    "\n",
    "Every Python data is represented as an object or a relation of objects. A number, a string, a list, a file,,, they are objects.\n",
    "\n",
    "Objects may have relations such as a student (an object) has two attributes: a name (an object) and birthday (an object).\n"
   ]
  },
  {
   "cell_type": "markdown",
   "metadata": {
    "slideshow": {
     "slide_type": "subslide"
    }
   },
   "source": [
    "### Value Mutability\n",
    "\n",
    "An object has an identity, a type and a value. \n",
    "\n",
    "Its identity and type never change. \n",
    "\n",
    "An object’s value is\n",
    "  - _mutable_: if the value can change.\n",
    "  - _immutable_: if the value is unchangeable."
   ]
  },
  {
   "cell_type": "markdown",
   "metadata": {
    "slideshow": {
     "slide_type": "subslide"
    }
   },
   "source": [
    "### Identity Operations\n",
    "\n",
    "The `id()` function returns an object’s identity. For example:"
   ]
  },
  {
   "cell_type": "code",
   "execution_count": null,
   "metadata": {},
   "outputs": [],
   "source": [
    "# the return values change for different runs\n",
    "id(3) # returns a memory address 4358499512\n",
    "id(\"hello\") # returns a memory address 4340502768"
   ]
  },
  {
   "cell_type": "markdown",
   "metadata": {},
   "source": [
    "The `is` or `is not` operator compares the identity of two objects: `True` if they have the same identity, `False` if not."
   ]
  },
  {
   "cell_type": "code",
   "execution_count": null,
   "metadata": {},
   "outputs": [],
   "source": [
    "# each value is a different object with a unique id\n",
    "id(3) is not id(\"hello\") # True\n",
    "id(3) is not id(3) # True\n",
    "id(\"hello\") is not id(\"hello\") # True"
   ]
  },
  {
   "cell_type": "markdown",
   "metadata": {
    "slideshow": {
     "slide_type": "slide"
    }
   },
   "source": [
    "## Type\n",
    "\n",
    "An object’s type determines the operations/functions that you can apply on an object. For example:\n",
    "\n",
    "- an integer type supports `/`, the division, but a string type doesn’t. \n",
    "- A string type supports `len()`, the length operation on an object,  but an integer type doesn’t.\n",
    "\n",
    "Use `type()` built-in function to get the type of an object."
   ]
  },
  {
   "cell_type": "code",
   "execution_count": null,
   "metadata": {
    "slideshow": {
     "slide_type": "subslide"
    }
   },
   "outputs": [],
   "source": [
    "type(3) # returns <class 'int'>\n",
    "type(3.5) #returns <class 'float'>\n",
    "type(\"a\") #returns <class 'str'> \n",
    "type(\"hello\") #returns <class 'str'>\n",
    "type([1, 3, 5]) #returns <class 'list'> \n",
    "type(True) # returns bool"
   ]
  },
  {
   "cell_type": "markdown",
   "metadata": {
    "slideshow": {
     "slide_type": "subslide"
    }
   },
   "source": [
    "### Same Type\n",
    "\n",
    "In Python, everything is an object, including an object’s type.\n",
    "\n",
    "Use `is` or `is not` to find if two types are the same.\n",
    "\n",
    "All following comparisons return `True`:\n"
   ]
  },
  {
   "cell_type": "code",
   "execution_count": null,
   "metadata": {
    "slideshow": {
     "slide_type": "fragment"
    }
   },
   "outputs": [],
   "source": [
    "type(3) is type(7) # True: the same int type\n",
    "type(3.5) is not type(7) # True: int is not float\n",
    "type(\"h\") is type(\"hello\") # True: the same string type\n",
    "type(3) is not type(\"a\") # True: int is not string"
   ]
  },
  {
   "cell_type": "markdown",
   "metadata": {
    "slideshow": {
     "slide_type": "subslide"
    }
   },
   "source": [
    "### Type Defines Operations\n",
    "\n",
    "Again, an object’s type defines the set of valid operations one can put on the object’s value.\n",
    "\n",
    "For example, for a `string`, you can perform the following operations that may not be valid for other types such as `int` or `bool`:\n",
    "\n",
    "- get its length or uppercase/lowercase\n",
    "- find if a string is a substring of another string\n",
    "- concatenate multiple strings"
   ]
  },
  {
   "cell_type": "markdown",
   "metadata": {
    "slideshow": {
     "slide_type": "slide"
    }
   },
   "source": [
    "## Value\n",
    "\n",
    "All operations/functions work on values. Many people use term “value” or “data” to mean the object behind it.\n",
    "\n",
    "Nonetheless, it is important to know that *mutability* is about an object’s value. An object’s type and id never change."
   ]
  },
  {
   "cell_type": "markdown",
   "metadata": {
    "slideshow": {
     "slide_type": "subslide"
    }
   },
   "source": [
    "### Mutability Examples\n",
    "\n",
    "All integers and strings are immutable, i.e., their values never change once created.\n",
    "\n",
    "Lists are mutable data type. You can add/remove/change list elements. For example, `[1, 2, 3].pop()` removes and returns the last element, i.e., `3`, the object value changes to `[1, 2]`.\n",
    "\n",
    "- You need a reference/variable(introduced later) to the object to see the changes. "
   ]
  },
  {
   "cell_type": "markdown",
   "metadata": {
    "slideshow": {
     "slide_type": "subslide"
    }
   },
   "source": [
    "### Mutability is Important\n",
    "\n",
    "An object’s mutability is determined by its type. Mutability affects many operation behaviors.\n",
    "\n",
    "All integers and strings are immutable; therefore all change operations create *new* objects. The operation `\"hello\".upper()` operation creates a new string `'HELLO’` without changing the original `\"hello\"`.\n",
    "\n",
    "List is mutable. Some operations make *in-place* change of the value of a list object. The operation `[1, 2, 3].pop()` remove the last element on the same object, i.e., its value changes. \n",
    "  \n",
    "  - You need a reference (a variable) to the object and see the mutability effect."
   ]
  },
  {
   "cell_type": "markdown",
   "metadata": {
    "slideshow": {
     "slide_type": "subslide"
    }
   },
   "source": [
    "### Data, Object, and Value\n",
    "\n",
    "In most contexts, the three are used interchangeably in programming. Conceptually, the data type concept is important to determine valid operations while the value concept is important for mutability. \n",
    "\n",
    "Formally,\n",
    "\n",
    "- Data: everything processed by a Python program.\n",
    "- Object: abstraction of data that has an identity, a type and a value. Identity and type are meta-data of the object.\n",
    "- Value: the ”real data” used in computation. The object type determines its mutability."
   ]
  },
  {
   "cell_type": "markdown",
   "metadata": {
    "slideshow": {
     "slide_type": "slide"
    }
   },
   "source": [
    "## Variable\n",
    "\n",
    "A Python variable is a *symbolic name* that is a *reference* to an object.\n",
    "\n",
    "Technically:\n",
    "\n",
    "- A variable is a name of a memory address. \n",
    "- The memory content is the memory address of an object.\n",
    "\n",
    "Conceptually:\n",
    "\n",
    "- A variable is a named reference, i.e., a label, to an object.\n",
    "- Literally, variable can refer to different objects at different time, thus it varies."
   ]
  },
  {
   "cell_type": "markdown",
   "metadata": {
    "slideshow": {
     "slide_type": "subslide"
    }
   },
   "source": [
    "## A Variable Is Not\n",
    "\n",
    "A variable is not a *container* / *box* / *location* that you can put a an object into it.\n",
    "\n",
    "It might be the cases for other programming languages such as C/C++.\n",
    "\n",
    "In Python, a variable is a symbolic name/label that you can bind to different objects."
   ]
  },
  {
   "cell_type": "markdown",
   "metadata": {
    "slideshow": {
     "slide_type": "subslide"
    }
   },
   "source": [
    "### Assignment Statement\n",
    "\n",
    "You create a variable using an assignment statement `name = something`:\n",
    "\n",
    "- `name`: the Left hand side (LHS) of the assignment. It must be a variable name.\n",
    "- `something`: the right hand side (RHS) of the assignment. It can be any object or operations of objects.\n",
    "\n",
    "You must create a variable before use it. Her the `use` means anywhere except in LHS. You often use a variable in an operation or in RHS of an assignment."
   ]
  },
  {
   "cell_type": "code",
   "execution_count": null,
   "metadata": {
    "slideshow": {
     "slide_type": "fragment"
    }
   },
   "outputs": [],
   "source": [
    "PI = 3.1415926\n",
    "cat_names = [\"lemon\", \"kiwi\", \"orange\"]\n",
    "\n",
    "number_input = input(\"Please input a number: \")\n",
    "# use after creation\n",
    "number = int(number_input)\n",
    "\n",
    "# Assign one value 0 to multiple variables\n",
    "x = y = z = 0\n",
    "\n",
    "# wrong - the LHS must be a variable\n",
    "10 = PI"
   ]
  },
  {
   "cell_type": "markdown",
   "metadata": {
    "slideshow": {
     "slide_type": "subslide"
    }
   },
   "source": [
    "### Why Variable?\n",
    "\n",
    "Essentially a variable is a *named reference* of an object.\n",
    "\n",
    "A named reference is needed for:\n",
    "\n",
    "- Meaningful names in a context. \n",
    "- Using objects in multiple places.\n",
    "- Objects created at runtime (when a program is running)."
   ]
  },
  {
   "cell_type": "code",
   "execution_count": null,
   "metadata": {
    "slideshow": {
     "slide_type": "fragment"
    }
   },
   "outputs": [],
   "source": [
    "# Too bad, 3.14 is a magic number\n",
    "x = (10 ** 2) * 3.14\n",
    "\n",
    "# the meaning of numbers\n",
    "PI = 3.14\n",
    "diameter = 10\n",
    "circumference = diameter * PI\n",
    "\n",
    "# it is a list of cat names, not fruit names\n",
    "cat_names = [\"lemon\", \"kiwi\", \"orange\"]"
   ]
  },
  {
   "cell_type": "code",
   "execution_count": null,
   "metadata": {
    "slideshow": {
     "slide_type": "fragment"
    }
   },
   "outputs": [],
   "source": [
    "# the data could have 100 or 1,000,000 elements\n",
    "cat_names = [\"lemon\", \"kiwi\", \"orange\"]\n",
    "# change the mutable data and print it\n",
    "cat_names.append(\"apple\")\n",
    "print(cat_names)"
   ]
  },
  {
   "cell_type": "markdown",
   "metadata": {
    "slideshow": {
     "slide_type": "subslide"
    }
   },
   "source": [
    "### Objects Created at Runtime\n",
    "\n",
    "Create objects from user input / network / function call.\n",
    "\n",
    "Function call inputs (parameters) are alias of its arguments"
   ]
  },
  {
   "cell_type": "code",
   "execution_count": null,
   "metadata": {
    "slideshow": {
     "slide_type": "fragment"
    }
   },
   "outputs": [],
   "source": [
    "# number refers to the input (argument)\n",
    "def double(number):\n",
    "    return number * 2\n",
    "\n",
    "# refer to the function results \n",
    "# they don’t exist before code execution \n",
    "number_input = input(\"Please input a number: \")\n",
    "number = int(number_input)\n",
    "\n",
    "# now the variable refers/binds to a new object\n",
    "# the literal meaning of a variable: a variable's referred object varies\n",
    "number = double(number)"
   ]
  },
  {
   "cell_type": "markdown",
   "metadata": {
    "slideshow": {
     "slide_type": "subslide"
    }
   },
   "source": [
    "### Python Identifier\n",
    "\n",
    "A Python variable is a *symbolic name*, an *identifier* in Python.\n",
    "\n",
    "A function name is also an identifier.\n",
    "\n",
    "There are some rules for a valid identifier:\n",
    "\n",
    "- Must be started with a letter or an underscore (`_`). \n",
    "  - specifically, the first letter cannot be a numeric character.\n",
    "- Cannot conflict with a keyword.\n",
    "  - Keywords are reserved by Python standard such as `if`, `else`, `for`, etc.\n",
    "- Contains no special characters such as `@`, `%`, `$`, etc.\n"
   ]
  },
  {
   "cell_type": "markdown",
   "metadata": {
    "slideshow": {
     "slide_type": "subslide"
    }
   },
   "source": [
    "### Name Matters\n",
    "\n",
    "Use the most meaningful name in the context !!!\n",
    "\n",
    "Use snake_case naming convention for multi-word name.\n",
    "\n",
    "Use UPPERCASE_NAME for constants."
   ]
  },
  {
   "cell_type": "code",
   "execution_count": null,
   "metadata": {
    "slideshow": {
     "slide_type": "fragment"
    }
   },
   "outputs": [],
   "source": [
    "# good names\n",
    "scores = [27, 87, 92]\n",
    "score1 = scores[0]\n",
    "first_name = \"Alice\"\n",
    "# constants use UPPERCASE names\n",
    "KILOGRAM_ABBREVIATION = \"kg\"\n",
    "ULTIMATE_ANSWER = 42\n",
    "# bad names. Yes, math.pi is a bad name in today's standard\n",
    "pi = 3.1415926\n",
    "\n",
    "1st_score = scores[0] # invalid name\n",
    "# names like i, j, k are meaningless\n",
    "for i in scores:\n",
    "    print(i)"
   ]
  },
  {
   "cell_type": "markdown",
   "metadata": {
    "slideshow": {
     "slide_type": "subslide"
    }
   },
   "source": [
    "### The Semantics of Assignment\n",
    "\n",
    "The “assignment” is misleading, it actually binds/re-binds an identifier to an object.\n",
    "\n",
    "Variable is not a container; it is a name/label/identifier/reference that refers to an object.\n",
    "\n",
    "LHS and RHS are technical terms in programming. They specify the location of code constructs.\n",
    "\n",
    "When a variable is on the LHS, it binds to the RHS.\n",
    "\n",
    "When a variable is on the RHS, the referred object value is used in place of the variable."
   ]
  },
  {
   "cell_type": "markdown",
   "metadata": {
    "slideshow": {
     "slide_type": "subslide"
    }
   },
   "source": [
    "### Bind and Alias\n",
    "\n",
    "When the RHS is a literal value, the LHS variable is *bound* to the value.\n",
    "\n",
    "When the RHS is a variable, the LHS variable is *bound* to the referred object in RHS. It creates an *alias*.\n",
    "\n",
    "- `numbers = [1, 5, 8, 7, 2]`: binds a label to a list object\n",
    "- `numbers2 = numbers`: creates an alias of the object labelled by `numbers`\n",
    "- `name = \"Python`: binds a label to a string object.\n",
    "\n",
    "![Variable Labels](../images/variable_labels.drawio.svg) "
   ]
  },
  {
   "cell_type": "markdown",
   "metadata": {
    "slideshow": {
     "slide_type": "subslide"
    }
   },
   "source": [
    "### More Examples\n",
    "\n",
    "You can use `is` or `is not` operator to check if two variables refer to the same objects."
   ]
  },
  {
   "cell_type": "code",
   "execution_count": null,
   "metadata": {
    "slideshow": {
     "slide_type": "fragment"
    }
   },
   "outputs": [],
   "source": [
    "x = 3\n",
    "y = 5\n",
    "# False because they refer to different objects\n",
    "print(x is y)\n",
    "\n",
    "# True because they refer to different objects\n",
    "print(x is not y)\n",
    "z = x\n",
    "\n",
    "# True because they refer to the same object\n",
    "# They are aliases of 3\n",
    "print(x is z)"
   ]
  },
  {
   "cell_type": "code",
   "execution_count": null,
   "metadata": {
    "slideshow": {
     "slide_type": "subslide"
    }
   },
   "outputs": [],
   "source": [
    "scores = [90, 67, 82]\n",
    "\n",
    "# This creates an alias of mutable data\n",
    "scores2 = scores\n",
    "\n",
    "scores2[0] = 77\n",
    "\n",
    "print(scores2) # output: [77, 67, 82] \n",
    "# they refer to the same object, thus the same output\n",
    "print(scores) # output: [77, 67, 82]"
   ]
  },
  {
   "cell_type": "markdown",
   "metadata": {
    "slideshow": {
     "slide_type": "subslide"
    }
   },
   "source": [
    "### Function Calls\n",
    "\n",
    "Binding also happens in a function call. A function parameter is bound to the argument object. If the argument is a variable, it creates an alias to the object.\n",
    "\n",
    "Be careful when you use mutable arguments in function calls."
   ]
  },
  {
   "cell_type": "code",
   "execution_count": null,
   "metadata": {
    "slideshow": {
     "slide_type": "fragment"
    }
   },
   "outputs": [],
   "source": [
    "\n",
    "# changing input is usually bad\n",
    "def report_scores(scores):\n",
    "    scores.append(100)\n",
    "    for score in scores:\n",
    "        print(score)\n",
    "\n",
    "scores = [27, 87, 92]\n",
    "report_scores(scores)\n",
    "\n",
    "# Surprise or not: it is changed to [27, 87, 92, 100]\n",
    "print(scores)"
   ]
  },
  {
   "cell_type": "markdown",
   "metadata": {
    "slideshow": {
     "slide_type": "subslide"
    }
   },
   "source": [
    "### Type Conversion\n",
    "\n",
    "You often need to convert an object to a different type. For example, all `input()` function outputs are strings. If you need a number, you should call `int()` or `float()` to convert it to a desired type. Similarly, you can convert a number into a string using the `str()` function."
   ]
  },
  {
   "cell_type": "code",
   "execution_count": null,
   "metadata": {},
   "outputs": [],
   "source": [
    "age_input = input(\"Please enter your age: \")\n",
    "\n",
    "# convert to an integer for computation\n",
    "age = int(age_input)\n",
    "next_year_age = age + 1\n",
    "\n",
    "# you can concatenate a string with another string\n",
    "message = \"Next year you will be \" + str(next_year_age)\n",
    "print(message)\n",
    "\n",
    "# The above is for type conversion demo, a simpler version uses f-string\n",
    "message = f\"Next year you will be {next_year_age}\"\n",
    "print(message)"
   ]
  },
  {
   "cell_type": "markdown",
   "metadata": {
    "slideshow": {
     "slide_type": "subslide"
    }
   },
   "source": [
    "### Value and Variable\n",
    "\n",
    "In programming, it is often important to distinguish an object and its references.\n",
    "\n",
    "An object is a single piece of data that has a unique identity and a fixed type.\n",
    "\n",
    "An object may have many references. A variable is a reference to an object.\n",
    "\n",
    "In most computation, data, object and value are interchangeable because a valid computation only cares about the value.\n",
    "\n",
    "In Python, an object is used in two syntactic form: a literal value or a reference. People often use values and variables to mean objects and use object in a specific context: object-orient programming."
   ]
  },
  {
   "cell_type": "markdown",
   "metadata": {
    "slideshow": {
     "slide_type": "slide"
    }
   },
   "source": [
    "## None\n",
    "\n",
    "Python has a special type `NoneType` that has only a single value `None`. It means _\"no value\"_ or _\"missing value\"_. For example, if a function doesn't return a value, it has an implicit return value of `None`.\n",
    "\n",
    "Please use `is` or `is not` to determine if a variable is `None` or not."
   ]
  },
  {
   "cell_type": "code",
   "execution_count": null,
   "metadata": {},
   "outputs": [],
   "source": [
    "x = 3\n",
    "y = None\n",
    "\n",
    "x is None # False\n",
    "x is not None # True\n",
    "y is None # True\n",
    "y is not None # False\n",
    "type(y) # NoneType"
   ]
  },
  {
   "cell_type": "markdown",
   "metadata": {
    "slideshow": {
     "slide_type": "slide"
    }
   },
   "source": [
    "## Tuple\n",
    "\n",
    "The `list` type is a mutable type that represents a sequence of values. Python provides a `tuple` immutable type to represent a sequence of values.\n",
    "\n",
    "A tuple consists of a number of values separated by commas. Like list, the values can be of different types. In practice, people like to use tuple to represent two or three values that are of different types.\n",
    "\n",
    "You can access item using an 0-based index inside a pair of square brackets."
   ]
  },
  {
   "cell_type": "code",
   "execution_count": null,
   "metadata": {
    "slideshow": {
     "slide_type": "subslide"
    }
   },
   "outputs": [],
   "source": [
    "# The values can be of different types.\n",
    "my_tuple = 1, 3, \"Hello\"\n",
    "\n",
    "# A tuple with a single value, the trailing comma is mandatory here\n",
    "single_tuple = 7, \n",
    "\n",
    "# An empty tuple has no value\n",
    "empty_tuple = ()\n",
    "\n",
    "# Tuple can be nested\n",
    "nested_tuple = \"look\", my_tuple, (3.5, 4.2)\n",
    "\n",
    "# Python represents a tuple in a parenthesis\n",
    "print(my_tuple) # output: (1, 3, 'Hello')\n",
    "print(my_tuple[2]) # output: 'Hello'\n",
    "print (single_tuple) # output (7,)\n",
    "print(empty_tuple) # output ()\n",
    "print(nested_tuple) # output: ('look', (1, 3, 'Hello'), (3.5, 4.2))\n",
    "print(nested_tuple[1]) # output: (1, 3, 'Hello')\n"
   ]
  },
  {
   "cell_type": "markdown",
   "metadata": {
    "slideshow": {
     "slide_type": "subslide"
    }
   },
   "source": [
    "### Tuple Operations\n",
    "\n",
    "Because a tuple is immutable, it only supports read-only operations.\n"
   ]
  },
  {
   "cell_type": "code",
   "execution_count": null,
   "metadata": {},
   "outputs": [],
   "source": [
    "my_tuple = 1, 3, \"Hello\"\n",
    "single_tuple = 7,\n",
    "\n",
    "# length\n",
    "print(len(my_tuple)) # output: 3\n",
    "\n",
    "# adding two tuple generates a new one\n",
    "combined_tuple = my_tuple + single_tuple\n",
    "print(combined_tuple) # output: (1, 3, 'Hello', 7)\n",
    "\n",
    "# unpack and create multiple variables\n",
    "number1, number2, message = my_tuple\n",
    "print(number1, message) # output: 1, 'Hello'\n",
    "\n",
    "# use _ to ignore an element\n",
    "_, _, message = my_tuple\n",
    "print(message) # output: 'Hello'"
   ]
  },
  {
   "cell_type": "markdown",
   "metadata": {
    "slideshow": {
     "slide_type": "subslide"
    }
   },
   "source": [
    "### Tuple Use Cases\n",
    "\n",
    "It is a rule of thumb that if is possible, please use an immutable value. You have the peace of mind that the value can be used in multiple places and stays the same.\n",
    "\n",
    "In so-called functional programming, a best practice is that a function only has immutable values as its arguments, it is easier to use and easier to reason about than a function that has mutable values.\n",
    "\n",
    "Tuple is often used as function return value to represent multiple return results."
   ]
  },
  {
   "cell_type": "code",
   "execution_count": null,
   "metadata": {},
   "outputs": [],
   "source": [
    "scores = 90, 67, 82\n",
    "\n",
    "def get_max_min(numbers):\n",
    "    return max(numbers), min(numbers)\n",
    "\n",
    "print(get_max_min(scores)) # output (90, 67)"
   ]
  },
  {
   "cell_type": "markdown",
   "metadata": {
    "slideshow": {
     "slide_type": "slide"
    }
   },
   "source": [
    "## Mutability\n",
    "\n",
    "Python data can be one of two types: mutable data and immutable data. \n",
    "\n",
    "- Immutable data can not be changed. Every time you want to change it, you get a new data. \n",
    "- Mutable data can be changed. Whenever you change a mutable data, all variables point to the data can see the change.\n",
    "\n",
    "Knowing the mutability of the data is important because mutable data can cause hard-to-find bugs in your software."
   ]
  },
  {
   "cell_type": "markdown",
   "metadata": {
    "slideshow": {
     "slide_type": "subslide"
    }
   },
   "source": [
    "### Immutable Data Types\n",
    "\n",
    "The built-in data types `int`, `float`, `string` and `tuple` are immutable data types,i.e., you can not change the data once it is created.\n",
    "\n",
    "For example, all methods of a string that change the string will return a new string. The old string stays untouched. In the following code, the original and its alias have the same original value. Both the `upper()` and `replace()` methods create a new string."
   ]
  },
  {
   "cell_type": "code",
   "execution_count": null,
   "metadata": {
    "slideshow": {
     "slide_type": "subslide"
    }
   },
   "outputs": [],
   "source": [
    "original_name = 'Alice'\n",
    "original_alias = original_name\n",
    "\n",
    "uppercase_name = original_name.upper()\n",
    "replaced_name = original_name.replace('ce', 'da')\n",
    "\n",
    "print(f'Original name: {original_name}. Uppercase name: {uppercase_name}')\n",
    "print(f'Original alias: {original_alias}. Replaced name: {replaced_name}')"
   ]
  },
  {
   "cell_type": "markdown",
   "metadata": {
    "slideshow": {
     "slide_type": "subslide"
    }
   },
   "source": [
    "### Mutable Data Types\n",
    "\n",
    "The built-in types such as `list`, `dictionary` and `set` are mutable types. They have methods that change the original data. In the following code, once the list of original names changes, all the variables pointing to the data can see the changes."
   ]
  },
  {
   "cell_type": "code",
   "execution_count": null,
   "metadata": {},
   "outputs": [],
   "source": [
    "original_names = ['Alice', 'Bob', 'Cindy']\n",
    "original_alias = original_names\n",
    "\n",
    "original_names.append('David')\n",
    "appended_names = original_names\n",
    "\n",
    "original_names.reverse()\n",
    "reversed_names = original_names\n",
    "\n",
    "print(f'Original names: {original_names}. Appended names: {appended_names}')\n",
    "print(f'Original alias: {original_alias}. Reversed names: {reversed_names}')"
   ]
  },
  {
   "cell_type": "markdown",
   "metadata": {
    "slideshow": {
     "slide_type": "subslide"
    }
   },
   "source": [
    "### Copy Data\n",
    "\n",
    "Sharing mutable data could be dangerous because you may accidentally change the data that used by another variable. If you want to use and change data, it is a good idea to make a copy of the original data."
   ]
  },
  {
   "cell_type": "code",
   "execution_count": null,
   "metadata": {},
   "outputs": [],
   "source": [
    "l1 = [1, 2, 3]\n",
    "l2 = l1\n",
    "\n",
    "l3 = l1.copy()\n",
    "\n",
    "l1[2] = 'three'\n",
    "\n",
    "print(l1, l2, l3)"
   ]
  },
  {
   "cell_type": "markdown",
   "metadata": {},
   "source": [
    "In the above code, we have `l1` and `l2` point to the same list and `l3` is a copy of `l1`. When `l1` changes, both `l1` and `l2` change but `l3` is not changed.\n",
    "\n",
    "![Mutable list](../images/mutable-list.png)"
   ]
  },
  {
   "cell_type": "markdown",
   "metadata": {
    "slideshow": {
     "slide_type": "subslide"
    }
   },
   "source": [
    "### Shallow Copy\n",
    "\n",
    "The copy of list is a shallow copy. If you have nested mutable data inside a list, it is still shared at the nested level. Below is an example where `l1` and `l2` have the same value because they refer to the same object. The third element of `l3` is changed because the nested list is a mutable object. The shallow copy only copies the reference to the third element that stays the same but the object value can be changed."
   ]
  },
  {
   "cell_type": "code",
   "execution_count": null,
   "metadata": {},
   "outputs": [],
   "source": [
    "list1 = [1, 2, [3, 4]]\n",
    "list2 = list1\n",
    "\n",
    "list3 = list1.copy()\n",
    "\n",
    "list1[1] = 20\n",
    "list1[2].append(5)\n",
    "\n",
    "print(list1, list2, list3)"
   ]
  },
  {
   "cell_type": "markdown",
   "metadata": {
    "slideshow": {
     "slide_type": "subslide"
    }
   },
   "source": [
    "### Deep Copy\n",
    "\n",
    "To fix the shallow copy issue, use the `copy.deepcopy` from the `copy` module to make deep a copy. "
   ]
  },
  {
   "cell_type": "code",
   "execution_count": null,
   "metadata": {},
   "outputs": [],
   "source": [
    "import copy\n",
    "\n",
    "list1 = [1, 2, [3, 4]]\n",
    "list2 = list1\n",
    "\n",
    "list3 = copy.deepcopy(list1)\n",
    "\n",
    "list1[1] = 20\n",
    "list1[2].append(5)\n",
    "\n",
    "print(list1, list2, list3)"
   ]
  },
  {
   "cell_type": "markdown",
   "metadata": {
    "slideshow": {
     "slide_type": "subslide"
    }
   },
   "source": [
    "### Mutable Data as Argument\n",
    "\n",
    "When a variable of mutable data is passed as an argument, the data could be changed inside a function. Changing input data in place makes the code hard to understand. It may introduce bugs. "
   ]
  },
  {
   "cell_type": "code",
   "execution_count": null,
   "metadata": {},
   "outputs": [],
   "source": [
    "def test(numbers):\n",
    "    numbers[2] = 'three'\n",
    "    print(numbers)\n",
    "\n",
    "list1 = [1, 2, 3]\n",
    "test(list1)\n",
    "print(list1)"
   ]
  },
  {
   "cell_type": "markdown",
   "metadata": {},
   "source": [
    "### The Fix\n",
    "\n",
    "To fix it, you should pass a deep copy or make a deep copy inside the function. It might hurt the performance but safety is more important than performance in most cases."
   ]
  },
  {
   "cell_type": "code",
   "execution_count": null,
   "metadata": {},
   "outputs": [],
   "source": [
    "import copy\n",
    "def test(numbers):\n",
    "    copied_numbers = copy.deepcopy(numbers)\n",
    "\n",
    "    # do whatever you want with the copied data\n",
    "    copied_numbers[2] = 'three'\n",
    "    print(numbers)\n",
    "\n",
    "list1 = [1, 2, 3]\n",
    "test(list1)\n",
    "print(list1)"
   ]
  },
  {
   "cell_type": "markdown",
   "metadata": {
    "slideshow": {
     "slide_type": "slide"
    }
   },
   "source": [
    "## Summary\n",
    "\n",
    "Python is a high-level PL that hides the memory details.\n",
    "\n",
    "However, these concepts are important to write correct Python Code:\n",
    "\n",
    "- An object's type and identity are fixed once it is created.\n",
    "- An object's type determines the operations and mutability of the object's value.\n",
    "- Variables are references/binds to objects.\n",
    "- Variables may refer to different objects in different time.\n",
    "- Assignment or function parameter create aliases that refer to the same corresponding RHS/argument object."
   ]
  }
 ],
 "metadata": {
  "kernelspec": {
   "display_name": "Python 3",
   "language": "python",
   "name": "python3"
  },
  "language_info": {
   "codemirror_mode": {
    "name": "ipython",
    "version": 3
   },
   "file_extension": ".py",
   "mimetype": "text/x-python",
   "name": "python",
   "nbconvert_exporter": "python",
   "pygments_lexer": "ipython3",
   "version": "3.11.4"
  },
  "orig_nbformat": 4
 },
 "nbformat": 4,
 "nbformat_minor": 2
}
